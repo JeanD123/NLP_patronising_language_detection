{
 "cells": [
  {
   "cell_type": "code",
   "execution_count": 1,
   "id": "4ecd90fd-4923-4e82-ab80-c318c4799e88",
   "metadata": {},
   "outputs": [],
   "source": [
    "import torch\n",
    "import transformers\n",
    "import torch.nn as nn\n",
    "from torch.utils.data import DataLoader\n",
    "from tqdm.notebook import tqdm\n",
    "\n",
    "from transformers import Trainer, TrainingArguments\n",
    "from transformers import BertTokenizer\n",
    "from transformers import BertPreTrainedModel, BertModel, DistilBertPreTrainedModel, DistilBertModel, DistilBertConfig\n",
    "from transformers import RobertaTokenizer\n",
    "\n",
    "import pandas as pd\n",
    "import numpy as np\n",
    "import os\n",
    "import csv\n",
    "\n",
    "from sklearn.metrics import classification_report\n",
    "\n",
    "# just checking somethingdf\n",
    "from datasets import Dataset\n",
    "\n",
    "# my custom function\n",
    "import utils\n",
    "import importlib\n",
    "from sklearn.model_selection import train_test_split\n",
    "\n",
    "# import the libraries from bert\n",
    "from bert import BERT_PCL, PCLDataset, Trainer_PCL, DistillBert_PCL, RobertaPCL\n",
    "import bert\n",
    "\n",
    "if not torch.cuda.is_available():\n",
    "  print('WARNING: You may want to change the runtime to GPU for faster training!')\n",
    "  DEVICE = 'cpu'\n",
    "else:\n",
    "  DEVICE = 'cuda:0'\n",
    "\n",
    "import os\n",
    "import pickle\n",
    "from itertools import product\n",
    "content = os.path.abspath('/vol/bitbucket/ahf119/')"
   ]
  },
  {
   "cell_type": "code",
   "execution_count": 2,
   "id": "410d62fb-5656-4418-9cbd-961a4663b6bc",
   "metadata": {},
   "outputs": [
    {
     "data": {
      "text/plain": [
       "<module 'bert' from '/homes/ahf119/Desktop/nlp_cw/bert.py'>"
      ]
     },
     "execution_count": 2,
     "metadata": {},
     "output_type": "execute_result"
    }
   ],
   "source": [
    "importlib.reload(bert)"
   ]
  },
  {
   "cell_type": "code",
   "execution_count": 3,
   "id": "65562919-26ff-484b-8816-de1d1f6ca1e6",
   "metadata": {},
   "outputs": [],
   "source": [
    "EPOCHS = 7"
   ]
  },
  {
   "cell_type": "code",
   "execution_count": 4,
   "id": "76b6fa74-6f65-4888-a645-52afb47c21ff",
   "metadata": {},
   "outputs": [],
   "source": [
    "def write_dict_to_csv(file_path, data_dict):\n",
    "    # Extract fieldnames from the first dictionary key\n",
    "    fieldnames = list(data_dict.keys())\n",
    "\n",
    "    # Check if the file already exists or not\n",
    "    file_exists = True\n",
    "    try:\n",
    "        with open(file_path, 'r') as file:\n",
    "            reader = csv.DictReader(file)\n",
    "            if not reader.fieldnames:\n",
    "                file_exists = False\n",
    "    except FileNotFoundError:\n",
    "        file_exists = False\n",
    "\n",
    "    # Write data to CSV\n",
    "    with open(file_path, 'a', newline='') as file:\n",
    "        writer = csv.DictWriter(file, fieldnames=fieldnames)\n",
    "\n",
    "        # Write header if the file is empty\n",
    "        if not file_exists:\n",
    "            writer.writeheader()\n",
    "\n",
    "        # Write data\n",
    "        writer.writerow(data_dict)"
   ]
  },
  {
   "cell_type": "code",
   "execution_count": 5,
   "id": "ca965db7-f2ce-44f3-af5d-54ff409c2342",
   "metadata": {},
   "outputs": [
    {
     "name": "stdout",
     "output_type": "stream",
     "text": [
      "24\n"
     ]
    }
   ],
   "source": [
    "params = {\n",
    "    'lr': [0.00001, 0.00005],\n",
    "    # 'warmup_ratio': [0.1, 0.2],\n",
    "    'learning_schedule': ['linear', 'constant'],\n",
    "    'augmentation': {\n",
    "        'augment0': {\n",
    "            'inserted': False,\n",
    "            'subbed': False,\n",
    "            'back_translated': False,\n",
    "            'deleted': False,\n",
    "            'swapped': False\n",
    "        },\n",
    "        'augment1': {        \n",
    "            'inserted': True,\n",
    "            'subbed': False,\n",
    "            'back_translated': False,\n",
    "            'deleted': False,\n",
    "            'swapped': False\n",
    "            },\n",
    "            'augment2': {\n",
    "                'inserted': False,\n",
    "                'subbed': True,\n",
    "                'back_translated': False,\n",
    "                'deleted': False,\n",
    "                'swapped': False\n",
    "            },\n",
    "            'augment3': {\n",
    "                'inserted': False,\n",
    "                'subbed': False,\n",
    "                'back_translated': True,\n",
    "                'deleted': False,\n",
    "                'swapped': False\n",
    "            },\n",
    "            'augment4': {\n",
    "                'inserted': False,\n",
    "                'subbed': False,\n",
    "                'back_translated': False,\n",
    "                'deleted': True,\n",
    "                'swapped': False\n",
    "            },\n",
    "            'augment5': {\n",
    "                'inserted': False,\n",
    "                'subbed': False,\n",
    "                'back_translated': False,\n",
    "                'deleted': False,\n",
    "                'swapped': True\n",
    "            }\n",
    "        }\n",
    "    }\n",
    "\n",
    "# Generate all possible combinations of parameters\n",
    "param_grid = list(product(*params.values()))\n",
    "print(len(param_grid))"
   ]
  },
  {
   "cell_type": "code",
   "execution_count": 6,
   "id": "d3b2f8ed-6aab-40cf-8891-b8f1c7d495fd",
   "metadata": {},
   "outputs": [],
   "source": [
    "def train_once(lr, learning_schedule, augment_dict, best_f1):\n",
    "    model_output=f'{content}/wandtest_model'\n",
    "    model_type = 'bert-base-cased'\n",
    "    \n",
    "    if model_type.startswith('bert'):\n",
    "        model = BERT_PCL.from_pretrained(model_type)\n",
    "    elif model_type.startswith('distil'):\n",
    "        model = DistillBert_PCL.from_pretrained(model_type)\n",
    "    elif model_type.startswith('roberta'):\n",
    "        model = RobertaPCL.from_pretrained(model_type)\n",
    "    \n",
    "    args = TrainingArguments(\n",
    "        output_dir=f'{content}/wandtest',\n",
    "        learning_rate=lr,\n",
    "        logging_steps=10,\n",
    "        remove_unused_columns=False,\n",
    "        per_device_train_batch_size=32,\n",
    "        per_device_eval_batch_size=32,\n",
    "        num_train_epochs=EPOCHS,\n",
    "        seed=42,\n",
    "        evaluation_strategy='steps',\n",
    "        eval_steps=100,\n",
    "        save_strategy='steps',\n",
    "        save_steps=100,\n",
    "        load_best_model_at_end=True,\n",
    "        metric_for_best_model='f1',\n",
    "        greater_is_better=True,\n",
    "        lr_scheduler_type=learning_schedule,\n",
    "        warmup_ratio=0.1,\n",
    "    )\n",
    "\n",
    "    train_dataset, val_dataset, test_dataset = bert.all_augmentations(model_type, inserted = augment_dict['inserted'], subbed = augment_dict['subbed'], back_translated = augment_dict['back_translated'], \n",
    "                                                                      deleted = augment_dict['deleted'], swapped = augment_dict['swapped'])\n",
    "\n",
    "    trainer = bert.main_PCL_v1(model=model, args=args, train_dataset=train_dataset, val_dataset=val_dataset, model_output=model_output)\n",
    "    if model_type.startswith('bert'):\n",
    "        model = BERT_PCL.from_pretrained(model_output)\n",
    "    elif model_type.startswith('distil'):\n",
    "        model = DistillBert_PCL.from_pretrained(model_output)\n",
    "    elif model_type.startswith('roberta'):\n",
    "        model = RobertaPCL.from_pretrained(model_output)\n",
    "    metrics = bert.evaluate(model, DataLoader(val_dataset))\n",
    "    f1 = metrics['PCL']['f1-score']\n",
    "\n",
    "    if f1 > best_f1:\n",
    "        best_f1 = f1\n",
    "        trainer.save_model(f'{content}/best_model')\n",
    "        with open('saved_metrics.pkl', 'wb') as f:\n",
    "            pickle.dump(metrics, f)\n",
    "\n",
    "    model_data = metrics['PCL'].copy()\n",
    "    model_data['learning_rate'] = lr\n",
    "    model_data['learning_schedule'] = learning_schedule\n",
    "    model_data['inserted'] = augment_dict['inserted']\n",
    "    model_data['deleted'] = augment_dict['deleted']\n",
    "    model_data['subbed'] = augment_dict['subbed']\n",
    "    model_data['back_translated'] = augment_dict['back_translated']\n",
    "    model_data['swapped'] = augment_dict['swapped']\n",
    "\n",
    "    write_dict_to_csv(file_path = 'hyperparam_res_{}.csv'.format(model_type), data_dict = model_data)\n",
    "    \n",
    "    return best_f1\n",
    "    "
   ]
  },
  {
   "cell_type": "code",
   "execution_count": 7,
   "id": "cbcd7455-a360-437b-b59e-fe10915caf37",
   "metadata": {},
   "outputs": [
    {
     "name": "stderr",
     "output_type": "stream",
     "text": [
      "Some weights of BERT_PCL were not initialized from the model checkpoint at bert-base-cased and are newly initialized: ['classification.1.bias', 'classification.1.weight']\n",
      "You should probably TRAIN this model on a down-stream task to be able to use it for predictions and inference.\n"
     ]
    },
    {
     "name": "stdout",
     "output_type": "stream",
     "text": [
      "inserted False\n",
      "subbed False\n",
      "back_translated False\n",
      "deleted False\n",
      "swapped False\n"
     ]
    },
    {
     "name": "stderr",
     "output_type": "stream",
     "text": [
      "\u001b[34m\u001b[1mwandb\u001b[0m: Currently logged in as: \u001b[33manders-frelin19\u001b[0m (\u001b[33mhugo-frelin\u001b[0m). Use \u001b[1m`wandb login --relogin`\u001b[0m to force relogin\n"
     ]
    },
    {
     "data": {
      "text/html": [
       "Tracking run with wandb version 0.16.3"
      ],
      "text/plain": [
       "<IPython.core.display.HTML object>"
      ]
     },
     "metadata": {},
     "output_type": "display_data"
    },
    {
     "data": {
      "text/html": [
       "Run data is saved locally in <code>/homes/ahf119/Desktop/nlp_cw/wandb/run-20240229_221425-lnvfibuj</code>"
      ],
      "text/plain": [
       "<IPython.core.display.HTML object>"
      ]
     },
     "metadata": {},
     "output_type": "display_data"
    },
    {
     "data": {
      "text/html": [
       "Syncing run <strong><a href='https://wandb.ai/hugo-frelin/huggingface/runs/lnvfibuj' target=\"_blank\">revived-bird-2</a></strong> to <a href='https://wandb.ai/hugo-frelin/huggingface' target=\"_blank\">Weights & Biases</a> (<a href='https://wandb.me/run' target=\"_blank\">docs</a>)<br/>"
      ],
      "text/plain": [
       "<IPython.core.display.HTML object>"
      ]
     },
     "metadata": {},
     "output_type": "display_data"
    },
    {
     "data": {
      "text/html": [
       " View project at <a href='https://wandb.ai/hugo-frelin/huggingface' target=\"_blank\">https://wandb.ai/hugo-frelin/huggingface</a>"
      ],
      "text/plain": [
       "<IPython.core.display.HTML object>"
      ]
     },
     "metadata": {},
     "output_type": "display_data"
    },
    {
     "data": {
      "text/html": [
       " View run at <a href='https://wandb.ai/hugo-frelin/huggingface/runs/lnvfibuj' target=\"_blank\">https://wandb.ai/hugo-frelin/huggingface/runs/lnvfibuj</a>"
      ],
      "text/plain": [
       "<IPython.core.display.HTML object>"
      ]
     },
     "metadata": {},
     "output_type": "display_data"
    },
    {
     "data": {
      "text/html": [
       "\n",
       "    <div>\n",
       "      \n",
       "      <progress value='1100' max='1288' style='width:300px; height:20px; vertical-align: middle;'></progress>\n",
       "      [1100/1288 13:16 < 02:16, 1.38 it/s, Epoch 5/7]\n",
       "    </div>\n",
       "    <table border=\"1\" class=\"dataframe\">\n",
       "  <thead>\n",
       " <tr style=\"text-align: left;\">\n",
       "      <th>Step</th>\n",
       "      <th>Training Loss</th>\n",
       "      <th>Validation Loss</th>\n",
       "      <th>Accuracy</th>\n",
       "      <th>Precision</th>\n",
       "      <th>Recall</th>\n",
       "      <th>F1</th>\n",
       "    </tr>\n",
       "  </thead>\n",
       "  <tbody>\n",
       "    <tr>\n",
       "      <td>100</td>\n",
       "      <td>0.391300</td>\n",
       "      <td>0.452175</td>\n",
       "      <td>0.897732</td>\n",
       "      <td>0.000000</td>\n",
       "      <td>0.000000</td>\n",
       "      <td>0.000000</td>\n",
       "    </tr>\n",
       "    <tr>\n",
       "      <td>200</td>\n",
       "      <td>0.339600</td>\n",
       "      <td>0.380004</td>\n",
       "      <td>0.903303</td>\n",
       "      <td>0.554688</td>\n",
       "      <td>0.276265</td>\n",
       "      <td>0.368831</td>\n",
       "    </tr>\n",
       "    <tr>\n",
       "      <td>300</td>\n",
       "      <td>0.359800</td>\n",
       "      <td>0.410615</td>\n",
       "      <td>0.906088</td>\n",
       "      <td>0.629630</td>\n",
       "      <td>0.198444</td>\n",
       "      <td>0.301775</td>\n",
       "    </tr>\n",
       "    <tr>\n",
       "      <td>400</td>\n",
       "      <td>0.318800</td>\n",
       "      <td>0.318992</td>\n",
       "      <td>0.902507</td>\n",
       "      <td>0.523256</td>\n",
       "      <td>0.525292</td>\n",
       "      <td>0.524272</td>\n",
       "    </tr>\n",
       "    <tr>\n",
       "      <td>500</td>\n",
       "      <td>0.204500</td>\n",
       "      <td>0.389605</td>\n",
       "      <td>0.916832</td>\n",
       "      <td>0.653846</td>\n",
       "      <td>0.396887</td>\n",
       "      <td>0.493947</td>\n",
       "    </tr>\n",
       "    <tr>\n",
       "      <td>600</td>\n",
       "      <td>0.262500</td>\n",
       "      <td>0.383187</td>\n",
       "      <td>0.909670</td>\n",
       "      <td>0.566372</td>\n",
       "      <td>0.498054</td>\n",
       "      <td>0.530021</td>\n",
       "    </tr>\n",
       "    <tr>\n",
       "      <td>700</td>\n",
       "      <td>0.174400</td>\n",
       "      <td>0.395918</td>\n",
       "      <td>0.912455</td>\n",
       "      <td>0.592040</td>\n",
       "      <td>0.463035</td>\n",
       "      <td>0.519651</td>\n",
       "    </tr>\n",
       "    <tr>\n",
       "      <td>800</td>\n",
       "      <td>0.170700</td>\n",
       "      <td>0.384158</td>\n",
       "      <td>0.912455</td>\n",
       "      <td>0.582960</td>\n",
       "      <td>0.505837</td>\n",
       "      <td>0.541667</td>\n",
       "    </tr>\n",
       "    <tr>\n",
       "      <td>900</td>\n",
       "      <td>0.090900</td>\n",
       "      <td>0.470213</td>\n",
       "      <td>0.913649</td>\n",
       "      <td>0.603093</td>\n",
       "      <td>0.455253</td>\n",
       "      <td>0.518847</td>\n",
       "    </tr>\n",
       "    <tr>\n",
       "      <td>1000</td>\n",
       "      <td>0.103200</td>\n",
       "      <td>0.466960</td>\n",
       "      <td>0.911659</td>\n",
       "      <td>0.578475</td>\n",
       "      <td>0.501946</td>\n",
       "      <td>0.537500</td>\n",
       "    </tr>\n",
       "    <tr>\n",
       "      <td>1100</td>\n",
       "      <td>0.051600</td>\n",
       "      <td>0.501311</td>\n",
       "      <td>0.917230</td>\n",
       "      <td>0.629630</td>\n",
       "      <td>0.463035</td>\n",
       "      <td>0.533632</td>\n",
       "    </tr>\n",
       "  </tbody>\n",
       "</table><p>"
      ],
      "text/plain": [
       "<IPython.core.display.HTML object>"
      ]
     },
     "metadata": {},
     "output_type": "display_data"
    },
    {
     "name": "stderr",
     "output_type": "stream",
     "text": [
      "/vol/bitbucket/ahf119/nlp_env/lib/python3.10/site-packages/sklearn/metrics/_classification.py:1509: UndefinedMetricWarning: Precision is ill-defined and being set to 0.0 due to no predicted samples. Use `zero_division` parameter to control this behavior.\n",
      "  _warn_prf(average, modifier, f\"{metric.capitalize()} is\", len(result))\n"
     ]
    },
    {
     "data": {
      "application/vnd.jupyter.widget-view+json": {
       "model_id": "30011b1667ed48ec8f632117bd5f7023",
       "version_major": 2,
       "version_minor": 0
      },
      "text/plain": [
       "  0%|          | 0/2513 [00:00<?, ?it/s]"
      ]
     },
     "metadata": {},
     "output_type": "display_data"
    },
    {
     "name": "stdout",
     "output_type": "stream",
     "text": [
      "Finished param set with index: 0\n"
     ]
    },
    {
     "name": "stderr",
     "output_type": "stream",
     "text": [
      "Some weights of BERT_PCL were not initialized from the model checkpoint at bert-base-cased and are newly initialized: ['classification.1.bias', 'classification.1.weight']\n",
      "You should probably TRAIN this model on a down-stream task to be able to use it for predictions and inference.\n"
     ]
    },
    {
     "name": "stdout",
     "output_type": "stream",
     "text": [
      "inserted True\n",
      "subbed False\n",
      "back_translated False\n",
      "deleted False\n",
      "swapped False\n"
     ]
    },
    {
     "data": {
      "text/html": [
       "\n",
       "    <div>\n",
       "      \n",
       "      <progress value='800' max='1400' style='width:300px; height:20px; vertical-align: middle;'></progress>\n",
       "      [ 800/1400 09:28 < 07:07, 1.40 it/s, Epoch 4/7]\n",
       "    </div>\n",
       "    <table border=\"1\" class=\"dataframe\">\n",
       "  <thead>\n",
       " <tr style=\"text-align: left;\">\n",
       "      <th>Step</th>\n",
       "      <th>Training Loss</th>\n",
       "      <th>Validation Loss</th>\n",
       "      <th>Accuracy</th>\n",
       "      <th>Precision</th>\n",
       "      <th>Recall</th>\n",
       "      <th>F1</th>\n",
       "    </tr>\n",
       "  </thead>\n",
       "  <tbody>\n",
       "    <tr>\n",
       "      <td>100</td>\n",
       "      <td>0.507200</td>\n",
       "      <td>0.427849</td>\n",
       "      <td>0.890569</td>\n",
       "      <td>0.235294</td>\n",
       "      <td>0.031128</td>\n",
       "      <td>0.054983</td>\n",
       "    </tr>\n",
       "    <tr>\n",
       "      <td>200</td>\n",
       "      <td>0.395600</td>\n",
       "      <td>0.347640</td>\n",
       "      <td>0.901313</td>\n",
       "      <td>0.526627</td>\n",
       "      <td>0.346304</td>\n",
       "      <td>0.417840</td>\n",
       "    </tr>\n",
       "    <tr>\n",
       "      <td>300</td>\n",
       "      <td>0.275200</td>\n",
       "      <td>0.330351</td>\n",
       "      <td>0.897732</td>\n",
       "      <td>0.500000</td>\n",
       "      <td>0.556420</td>\n",
       "      <td>0.526703</td>\n",
       "    </tr>\n",
       "    <tr>\n",
       "      <td>400</td>\n",
       "      <td>0.290000</td>\n",
       "      <td>0.332517</td>\n",
       "      <td>0.912455</td>\n",
       "      <td>0.610778</td>\n",
       "      <td>0.396887</td>\n",
       "      <td>0.481132</td>\n",
       "    </tr>\n",
       "    <tr>\n",
       "      <td>500</td>\n",
       "      <td>0.169400</td>\n",
       "      <td>0.351630</td>\n",
       "      <td>0.898528</td>\n",
       "      <td>0.503546</td>\n",
       "      <td>0.552529</td>\n",
       "      <td>0.526902</td>\n",
       "    </tr>\n",
       "    <tr>\n",
       "      <td>600</td>\n",
       "      <td>0.129700</td>\n",
       "      <td>0.386845</td>\n",
       "      <td>0.909272</td>\n",
       "      <td>0.568075</td>\n",
       "      <td>0.470817</td>\n",
       "      <td>0.514894</td>\n",
       "    </tr>\n",
       "    <tr>\n",
       "      <td>700</td>\n",
       "      <td>0.171300</td>\n",
       "      <td>0.567069</td>\n",
       "      <td>0.909272</td>\n",
       "      <td>0.623932</td>\n",
       "      <td>0.284047</td>\n",
       "      <td>0.390374</td>\n",
       "    </tr>\n",
       "    <tr>\n",
       "      <td>800</td>\n",
       "      <td>0.148400</td>\n",
       "      <td>0.519230</td>\n",
       "      <td>0.912455</td>\n",
       "      <td>0.620915</td>\n",
       "      <td>0.369650</td>\n",
       "      <td>0.463415</td>\n",
       "    </tr>\n",
       "  </tbody>\n",
       "</table><p>"
      ],
      "text/plain": [
       "<IPython.core.display.HTML object>"
      ]
     },
     "metadata": {},
     "output_type": "display_data"
    },
    {
     "name": "stderr",
     "output_type": "stream",
     "text": [
      "Checkpoint destination directory /vol/bitbucket/ahf119/wandtest/checkpoint-100 already exists and is non-empty. Saving will proceed but saved results may be invalid.\n",
      "Checkpoint destination directory /vol/bitbucket/ahf119/wandtest/checkpoint-200 already exists and is non-empty. Saving will proceed but saved results may be invalid.\n",
      "Checkpoint destination directory /vol/bitbucket/ahf119/wandtest/checkpoint-300 already exists and is non-empty. Saving will proceed but saved results may be invalid.\n",
      "Checkpoint destination directory /vol/bitbucket/ahf119/wandtest/checkpoint-400 already exists and is non-empty. Saving will proceed but saved results may be invalid.\n",
      "Checkpoint destination directory /vol/bitbucket/ahf119/wandtest/checkpoint-500 already exists and is non-empty. Saving will proceed but saved results may be invalid.\n",
      "Checkpoint destination directory /vol/bitbucket/ahf119/wandtest/checkpoint-600 already exists and is non-empty. Saving will proceed but saved results may be invalid.\n",
      "Checkpoint destination directory /vol/bitbucket/ahf119/wandtest/checkpoint-700 already exists and is non-empty. Saving will proceed but saved results may be invalid.\n",
      "Checkpoint destination directory /vol/bitbucket/ahf119/wandtest/checkpoint-800 already exists and is non-empty. Saving will proceed but saved results may be invalid.\n"
     ]
    },
    {
     "data": {
      "application/vnd.jupyter.widget-view+json": {
       "model_id": "d247631b10ad4b7084624d0b90a0d038",
       "version_major": 2,
       "version_minor": 0
      },
      "text/plain": [
       "  0%|          | 0/2513 [00:00<?, ?it/s]"
      ]
     },
     "metadata": {},
     "output_type": "display_data"
    },
    {
     "name": "stdout",
     "output_type": "stream",
     "text": [
      "Finished param set with index: 1\n"
     ]
    },
    {
     "name": "stderr",
     "output_type": "stream",
     "text": [
      "Some weights of BERT_PCL were not initialized from the model checkpoint at bert-base-cased and are newly initialized: ['classification.1.bias', 'classification.1.weight']\n",
      "You should probably TRAIN this model on a down-stream task to be able to use it for predictions and inference.\n"
     ]
    },
    {
     "name": "stdout",
     "output_type": "stream",
     "text": [
      "inserted False\n",
      "subbed True\n",
      "back_translated False\n",
      "deleted False\n",
      "swapped False\n"
     ]
    },
    {
     "data": {
      "text/html": [
       "\n",
       "    <div>\n",
       "      \n",
       "      <progress value='1100' max='1400' style='width:300px; height:20px; vertical-align: middle;'></progress>\n",
       "      [1100/1400 13:02 < 03:33, 1.40 it/s, Epoch 5/7]\n",
       "    </div>\n",
       "    <table border=\"1\" class=\"dataframe\">\n",
       "  <thead>\n",
       " <tr style=\"text-align: left;\">\n",
       "      <th>Step</th>\n",
       "      <th>Training Loss</th>\n",
       "      <th>Validation Loss</th>\n",
       "      <th>Accuracy</th>\n",
       "      <th>Precision</th>\n",
       "      <th>Recall</th>\n",
       "      <th>F1</th>\n",
       "    </tr>\n",
       "  </thead>\n",
       "  <tbody>\n",
       "    <tr>\n",
       "      <td>100</td>\n",
       "      <td>0.488500</td>\n",
       "      <td>0.446671</td>\n",
       "      <td>0.886988</td>\n",
       "      <td>0.373832</td>\n",
       "      <td>0.155642</td>\n",
       "      <td>0.219780</td>\n",
       "    </tr>\n",
       "    <tr>\n",
       "      <td>200</td>\n",
       "      <td>0.412300</td>\n",
       "      <td>0.354166</td>\n",
       "      <td>0.898926</td>\n",
       "      <td>0.511278</td>\n",
       "      <td>0.264591</td>\n",
       "      <td>0.348718</td>\n",
       "    </tr>\n",
       "    <tr>\n",
       "      <td>300</td>\n",
       "      <td>0.308200</td>\n",
       "      <td>0.326873</td>\n",
       "      <td>0.905292</td>\n",
       "      <td>0.540084</td>\n",
       "      <td>0.498054</td>\n",
       "      <td>0.518219</td>\n",
       "    </tr>\n",
       "    <tr>\n",
       "      <td>400</td>\n",
       "      <td>0.293900</td>\n",
       "      <td>0.301634</td>\n",
       "      <td>0.910068</td>\n",
       "      <td>0.567686</td>\n",
       "      <td>0.505837</td>\n",
       "      <td>0.534979</td>\n",
       "    </tr>\n",
       "    <tr>\n",
       "      <td>500</td>\n",
       "      <td>0.214400</td>\n",
       "      <td>0.332144</td>\n",
       "      <td>0.913251</td>\n",
       "      <td>0.592417</td>\n",
       "      <td>0.486381</td>\n",
       "      <td>0.534188</td>\n",
       "    </tr>\n",
       "    <tr>\n",
       "      <td>600</td>\n",
       "      <td>0.175400</td>\n",
       "      <td>0.320942</td>\n",
       "      <td>0.907680</td>\n",
       "      <td>0.549801</td>\n",
       "      <td>0.536965</td>\n",
       "      <td>0.543307</td>\n",
       "    </tr>\n",
       "    <tr>\n",
       "      <td>700</td>\n",
       "      <td>0.139300</td>\n",
       "      <td>0.412458</td>\n",
       "      <td>0.913649</td>\n",
       "      <td>0.601010</td>\n",
       "      <td>0.463035</td>\n",
       "      <td>0.523077</td>\n",
       "    </tr>\n",
       "    <tr>\n",
       "      <td>800</td>\n",
       "      <td>0.172300</td>\n",
       "      <td>0.441372</td>\n",
       "      <td>0.911659</td>\n",
       "      <td>0.571429</td>\n",
       "      <td>0.544747</td>\n",
       "      <td>0.557769</td>\n",
       "    </tr>\n",
       "    <tr>\n",
       "      <td>900</td>\n",
       "      <td>0.130000</td>\n",
       "      <td>0.514354</td>\n",
       "      <td>0.920812</td>\n",
       "      <td>0.679012</td>\n",
       "      <td>0.428016</td>\n",
       "      <td>0.525060</td>\n",
       "    </tr>\n",
       "    <tr>\n",
       "      <td>1000</td>\n",
       "      <td>0.044200</td>\n",
       "      <td>0.598027</td>\n",
       "      <td>0.917628</td>\n",
       "      <td>0.701613</td>\n",
       "      <td>0.338521</td>\n",
       "      <td>0.456693</td>\n",
       "    </tr>\n",
       "    <tr>\n",
       "      <td>1100</td>\n",
       "      <td>0.051200</td>\n",
       "      <td>0.591373</td>\n",
       "      <td>0.919220</td>\n",
       "      <td>0.680000</td>\n",
       "      <td>0.396887</td>\n",
       "      <td>0.501229</td>\n",
       "    </tr>\n",
       "  </tbody>\n",
       "</table><p>"
      ],
      "text/plain": [
       "<IPython.core.display.HTML object>"
      ]
     },
     "metadata": {},
     "output_type": "display_data"
    },
    {
     "name": "stderr",
     "output_type": "stream",
     "text": [
      "Checkpoint destination directory /vol/bitbucket/ahf119/wandtest/checkpoint-100 already exists and is non-empty. Saving will proceed but saved results may be invalid.\n",
      "Checkpoint destination directory /vol/bitbucket/ahf119/wandtest/checkpoint-200 already exists and is non-empty. Saving will proceed but saved results may be invalid.\n",
      "Checkpoint destination directory /vol/bitbucket/ahf119/wandtest/checkpoint-300 already exists and is non-empty. Saving will proceed but saved results may be invalid.\n",
      "Checkpoint destination directory /vol/bitbucket/ahf119/wandtest/checkpoint-400 already exists and is non-empty. Saving will proceed but saved results may be invalid.\n",
      "Checkpoint destination directory /vol/bitbucket/ahf119/wandtest/checkpoint-500 already exists and is non-empty. Saving will proceed but saved results may be invalid.\n",
      "Checkpoint destination directory /vol/bitbucket/ahf119/wandtest/checkpoint-600 already exists and is non-empty. Saving will proceed but saved results may be invalid.\n",
      "Checkpoint destination directory /vol/bitbucket/ahf119/wandtest/checkpoint-700 already exists and is non-empty. Saving will proceed but saved results may be invalid.\n",
      "Checkpoint destination directory /vol/bitbucket/ahf119/wandtest/checkpoint-800 already exists and is non-empty. Saving will proceed but saved results may be invalid.\n",
      "Checkpoint destination directory /vol/bitbucket/ahf119/wandtest/checkpoint-900 already exists and is non-empty. Saving will proceed but saved results may be invalid.\n",
      "Checkpoint destination directory /vol/bitbucket/ahf119/wandtest/checkpoint-1000 already exists and is non-empty. Saving will proceed but saved results may be invalid.\n",
      "Checkpoint destination directory /vol/bitbucket/ahf119/wandtest/checkpoint-1100 already exists and is non-empty. Saving will proceed but saved results may be invalid.\n"
     ]
    },
    {
     "data": {
      "application/vnd.jupyter.widget-view+json": {
       "model_id": "661992dd3ad3404b91c64c7b3298ecce",
       "version_major": 2,
       "version_minor": 0
      },
      "text/plain": [
       "  0%|          | 0/2513 [00:00<?, ?it/s]"
      ]
     },
     "metadata": {},
     "output_type": "display_data"
    },
    {
     "name": "stdout",
     "output_type": "stream",
     "text": [
      "Finished param set with index: 2\n"
     ]
    },
    {
     "name": "stderr",
     "output_type": "stream",
     "text": [
      "Some weights of BERT_PCL were not initialized from the model checkpoint at bert-base-cased and are newly initialized: ['classification.1.bias', 'classification.1.weight']\n",
      "You should probably TRAIN this model on a down-stream task to be able to use it for predictions and inference.\n"
     ]
    },
    {
     "name": "stdout",
     "output_type": "stream",
     "text": [
      "inserted False\n",
      "subbed False\n",
      "back_translated True\n",
      "deleted False\n",
      "swapped False\n"
     ]
    },
    {
     "data": {
      "text/html": [
       "\n",
       "    <div>\n",
       "      \n",
       "      <progress value='700' max='1519' style='width:300px; height:20px; vertical-align: middle;'></progress>\n",
       "      [ 700/1519 08:16 < 09:43, 1.40 it/s, Epoch 3/7]\n",
       "    </div>\n",
       "    <table border=\"1\" class=\"dataframe\">\n",
       "  <thead>\n",
       " <tr style=\"text-align: left;\">\n",
       "      <th>Step</th>\n",
       "      <th>Training Loss</th>\n",
       "      <th>Validation Loss</th>\n",
       "      <th>Accuracy</th>\n",
       "      <th>Precision</th>\n",
       "      <th>Recall</th>\n",
       "      <th>F1</th>\n",
       "    </tr>\n",
       "  </thead>\n",
       "  <tbody>\n",
       "    <tr>\n",
       "      <td>100</td>\n",
       "      <td>0.442500</td>\n",
       "      <td>0.437105</td>\n",
       "      <td>0.879427</td>\n",
       "      <td>0.290909</td>\n",
       "      <td>0.124514</td>\n",
       "      <td>0.174387</td>\n",
       "    </tr>\n",
       "    <tr>\n",
       "      <td>200</td>\n",
       "      <td>0.320800</td>\n",
       "      <td>0.357494</td>\n",
       "      <td>0.904099</td>\n",
       "      <td>0.567797</td>\n",
       "      <td>0.260700</td>\n",
       "      <td>0.357333</td>\n",
       "    </tr>\n",
       "    <tr>\n",
       "      <td>300</td>\n",
       "      <td>0.222700</td>\n",
       "      <td>0.360805</td>\n",
       "      <td>0.903701</td>\n",
       "      <td>0.541899</td>\n",
       "      <td>0.377432</td>\n",
       "      <td>0.444954</td>\n",
       "    </tr>\n",
       "    <tr>\n",
       "      <td>400</td>\n",
       "      <td>0.269600</td>\n",
       "      <td>0.319748</td>\n",
       "      <td>0.887784</td>\n",
       "      <td>0.460568</td>\n",
       "      <td>0.568093</td>\n",
       "      <td>0.508711</td>\n",
       "    </tr>\n",
       "    <tr>\n",
       "      <td>500</td>\n",
       "      <td>0.138100</td>\n",
       "      <td>0.438471</td>\n",
       "      <td>0.900915</td>\n",
       "      <td>0.521978</td>\n",
       "      <td>0.369650</td>\n",
       "      <td>0.432802</td>\n",
       "    </tr>\n",
       "    <tr>\n",
       "      <td>600</td>\n",
       "      <td>0.157200</td>\n",
       "      <td>0.398241</td>\n",
       "      <td>0.902109</td>\n",
       "      <td>0.527363</td>\n",
       "      <td>0.412451</td>\n",
       "      <td>0.462882</td>\n",
       "    </tr>\n",
       "    <tr>\n",
       "      <td>700</td>\n",
       "      <td>0.109700</td>\n",
       "      <td>0.557332</td>\n",
       "      <td>0.912057</td>\n",
       "      <td>0.657895</td>\n",
       "      <td>0.291829</td>\n",
       "      <td>0.404313</td>\n",
       "    </tr>\n",
       "  </tbody>\n",
       "</table><p>"
      ],
      "text/plain": [
       "<IPython.core.display.HTML object>"
      ]
     },
     "metadata": {},
     "output_type": "display_data"
    },
    {
     "name": "stderr",
     "output_type": "stream",
     "text": [
      "Checkpoint destination directory /vol/bitbucket/ahf119/wandtest/checkpoint-100 already exists and is non-empty. Saving will proceed but saved results may be invalid.\n",
      "Checkpoint destination directory /vol/bitbucket/ahf119/wandtest/checkpoint-200 already exists and is non-empty. Saving will proceed but saved results may be invalid.\n",
      "Checkpoint destination directory /vol/bitbucket/ahf119/wandtest/checkpoint-300 already exists and is non-empty. Saving will proceed but saved results may be invalid.\n",
      "Checkpoint destination directory /vol/bitbucket/ahf119/wandtest/checkpoint-400 already exists and is non-empty. Saving will proceed but saved results may be invalid.\n",
      "Checkpoint destination directory /vol/bitbucket/ahf119/wandtest/checkpoint-500 already exists and is non-empty. Saving will proceed but saved results may be invalid.\n",
      "Checkpoint destination directory /vol/bitbucket/ahf119/wandtest/checkpoint-600 already exists and is non-empty. Saving will proceed but saved results may be invalid.\n",
      "Checkpoint destination directory /vol/bitbucket/ahf119/wandtest/checkpoint-700 already exists and is non-empty. Saving will proceed but saved results may be invalid.\n"
     ]
    },
    {
     "data": {
      "application/vnd.jupyter.widget-view+json": {
       "model_id": "c31fed7c1eba4e42a04a5d3f55f300e7",
       "version_major": 2,
       "version_minor": 0
      },
      "text/plain": [
       "  0%|          | 0/2513 [00:00<?, ?it/s]"
      ]
     },
     "metadata": {},
     "output_type": "display_data"
    },
    {
     "name": "stdout",
     "output_type": "stream",
     "text": [
      "Finished param set with index: 3\n"
     ]
    },
    {
     "name": "stderr",
     "output_type": "stream",
     "text": [
      "Some weights of BERT_PCL were not initialized from the model checkpoint at bert-base-cased and are newly initialized: ['classification.1.bias', 'classification.1.weight']\n",
      "You should probably TRAIN this model on a down-stream task to be able to use it for predictions and inference.\n"
     ]
    },
    {
     "name": "stdout",
     "output_type": "stream",
     "text": [
      "inserted False\n",
      "subbed False\n",
      "back_translated False\n",
      "deleted True\n",
      "swapped False\n"
     ]
    },
    {
     "data": {
      "text/html": [
       "\n",
       "    <div>\n",
       "      \n",
       "      <progress value='700' max='1400' style='width:300px; height:20px; vertical-align: middle;'></progress>\n",
       "      [ 700/1400 08:16 < 08:18, 1.40 it/s, Epoch 3/7]\n",
       "    </div>\n",
       "    <table border=\"1\" class=\"dataframe\">\n",
       "  <thead>\n",
       " <tr style=\"text-align: left;\">\n",
       "      <th>Step</th>\n",
       "      <th>Training Loss</th>\n",
       "      <th>Validation Loss</th>\n",
       "      <th>Accuracy</th>\n",
       "      <th>Precision</th>\n",
       "      <th>Recall</th>\n",
       "      <th>F1</th>\n",
       "    </tr>\n",
       "  </thead>\n",
       "  <tbody>\n",
       "    <tr>\n",
       "      <td>100</td>\n",
       "      <td>0.533000</td>\n",
       "      <td>0.432610</td>\n",
       "      <td>0.898130</td>\n",
       "      <td>0.600000</td>\n",
       "      <td>0.011673</td>\n",
       "      <td>0.022901</td>\n",
       "    </tr>\n",
       "    <tr>\n",
       "      <td>200</td>\n",
       "      <td>0.436700</td>\n",
       "      <td>0.343437</td>\n",
       "      <td>0.890171</td>\n",
       "      <td>0.458874</td>\n",
       "      <td>0.412451</td>\n",
       "      <td>0.434426</td>\n",
       "    </tr>\n",
       "    <tr>\n",
       "      <td>300</td>\n",
       "      <td>0.298200</td>\n",
       "      <td>0.342843</td>\n",
       "      <td>0.910864</td>\n",
       "      <td>0.598802</td>\n",
       "      <td>0.389105</td>\n",
       "      <td>0.471698</td>\n",
       "    </tr>\n",
       "    <tr>\n",
       "      <td>400</td>\n",
       "      <td>0.302200</td>\n",
       "      <td>0.333512</td>\n",
       "      <td>0.914843</td>\n",
       "      <td>0.616216</td>\n",
       "      <td>0.443580</td>\n",
       "      <td>0.515837</td>\n",
       "    </tr>\n",
       "    <tr>\n",
       "      <td>500</td>\n",
       "      <td>0.227100</td>\n",
       "      <td>0.408409</td>\n",
       "      <td>0.911659</td>\n",
       "      <td>0.633588</td>\n",
       "      <td>0.322957</td>\n",
       "      <td>0.427835</td>\n",
       "    </tr>\n",
       "    <tr>\n",
       "      <td>600</td>\n",
       "      <td>0.119300</td>\n",
       "      <td>0.417490</td>\n",
       "      <td>0.911659</td>\n",
       "      <td>0.617450</td>\n",
       "      <td>0.357977</td>\n",
       "      <td>0.453202</td>\n",
       "    </tr>\n",
       "    <tr>\n",
       "      <td>700</td>\n",
       "      <td>0.148600</td>\n",
       "      <td>0.521845</td>\n",
       "      <td>0.912455</td>\n",
       "      <td>0.624161</td>\n",
       "      <td>0.361868</td>\n",
       "      <td>0.458128</td>\n",
       "    </tr>\n",
       "  </tbody>\n",
       "</table><p>"
      ],
      "text/plain": [
       "<IPython.core.display.HTML object>"
      ]
     },
     "metadata": {},
     "output_type": "display_data"
    },
    {
     "name": "stderr",
     "output_type": "stream",
     "text": [
      "Checkpoint destination directory /vol/bitbucket/ahf119/wandtest/checkpoint-100 already exists and is non-empty. Saving will proceed but saved results may be invalid.\n",
      "Checkpoint destination directory /vol/bitbucket/ahf119/wandtest/checkpoint-200 already exists and is non-empty. Saving will proceed but saved results may be invalid.\n",
      "Checkpoint destination directory /vol/bitbucket/ahf119/wandtest/checkpoint-300 already exists and is non-empty. Saving will proceed but saved results may be invalid.\n",
      "Checkpoint destination directory /vol/bitbucket/ahf119/wandtest/checkpoint-400 already exists and is non-empty. Saving will proceed but saved results may be invalid.\n",
      "Checkpoint destination directory /vol/bitbucket/ahf119/wandtest/checkpoint-500 already exists and is non-empty. Saving will proceed but saved results may be invalid.\n",
      "Checkpoint destination directory /vol/bitbucket/ahf119/wandtest/checkpoint-600 already exists and is non-empty. Saving will proceed but saved results may be invalid.\n",
      "Checkpoint destination directory /vol/bitbucket/ahf119/wandtest/checkpoint-700 already exists and is non-empty. Saving will proceed but saved results may be invalid.\n"
     ]
    },
    {
     "data": {
      "application/vnd.jupyter.widget-view+json": {
       "model_id": "339b63586d8b466ca66998ff08e33570",
       "version_major": 2,
       "version_minor": 0
      },
      "text/plain": [
       "  0%|          | 0/2513 [00:00<?, ?it/s]"
      ]
     },
     "metadata": {},
     "output_type": "display_data"
    },
    {
     "name": "stdout",
     "output_type": "stream",
     "text": [
      "Finished param set with index: 4\n"
     ]
    },
    {
     "name": "stderr",
     "output_type": "stream",
     "text": [
      "Some weights of BERT_PCL were not initialized from the model checkpoint at bert-base-cased and are newly initialized: ['classification.1.bias', 'classification.1.weight']\n",
      "You should probably TRAIN this model on a down-stream task to be able to use it for predictions and inference.\n"
     ]
    },
    {
     "name": "stdout",
     "output_type": "stream",
     "text": [
      "inserted False\n",
      "subbed False\n",
      "back_translated False\n",
      "deleted False\n",
      "swapped True\n"
     ]
    },
    {
     "data": {
      "text/html": [
       "\n",
       "    <div>\n",
       "      \n",
       "      <progress value='1100' max='1400' style='width:300px; height:20px; vertical-align: middle;'></progress>\n",
       "      [1100/1400 13:02 < 03:33, 1.40 it/s, Epoch 5/7]\n",
       "    </div>\n",
       "    <table border=\"1\" class=\"dataframe\">\n",
       "  <thead>\n",
       " <tr style=\"text-align: left;\">\n",
       "      <th>Step</th>\n",
       "      <th>Training Loss</th>\n",
       "      <th>Validation Loss</th>\n",
       "      <th>Accuracy</th>\n",
       "      <th>Precision</th>\n",
       "      <th>Recall</th>\n",
       "      <th>F1</th>\n",
       "    </tr>\n",
       "  </thead>\n",
       "  <tbody>\n",
       "    <tr>\n",
       "      <td>100</td>\n",
       "      <td>0.504300</td>\n",
       "      <td>0.428044</td>\n",
       "      <td>0.895344</td>\n",
       "      <td>0.392857</td>\n",
       "      <td>0.042802</td>\n",
       "      <td>0.077193</td>\n",
       "    </tr>\n",
       "    <tr>\n",
       "      <td>200</td>\n",
       "      <td>0.417400</td>\n",
       "      <td>0.347771</td>\n",
       "      <td>0.905690</td>\n",
       "      <td>0.590909</td>\n",
       "      <td>0.252918</td>\n",
       "      <td>0.354223</td>\n",
       "    </tr>\n",
       "    <tr>\n",
       "      <td>300</td>\n",
       "      <td>0.282900</td>\n",
       "      <td>0.338104</td>\n",
       "      <td>0.912057</td>\n",
       "      <td>0.645161</td>\n",
       "      <td>0.311284</td>\n",
       "      <td>0.419948</td>\n",
       "    </tr>\n",
       "    <tr>\n",
       "      <td>400</td>\n",
       "      <td>0.289600</td>\n",
       "      <td>0.333583</td>\n",
       "      <td>0.911261</td>\n",
       "      <td>0.606250</td>\n",
       "      <td>0.377432</td>\n",
       "      <td>0.465228</td>\n",
       "    </tr>\n",
       "    <tr>\n",
       "      <td>500</td>\n",
       "      <td>0.214800</td>\n",
       "      <td>0.406702</td>\n",
       "      <td>0.912455</td>\n",
       "      <td>0.620915</td>\n",
       "      <td>0.369650</td>\n",
       "      <td>0.463415</td>\n",
       "    </tr>\n",
       "    <tr>\n",
       "      <td>600</td>\n",
       "      <td>0.103900</td>\n",
       "      <td>0.394725</td>\n",
       "      <td>0.909670</td>\n",
       "      <td>0.584270</td>\n",
       "      <td>0.404669</td>\n",
       "      <td>0.478161</td>\n",
       "    </tr>\n",
       "    <tr>\n",
       "      <td>700</td>\n",
       "      <td>0.159400</td>\n",
       "      <td>0.539195</td>\n",
       "      <td>0.914445</td>\n",
       "      <td>0.661538</td>\n",
       "      <td>0.334630</td>\n",
       "      <td>0.444444</td>\n",
       "    </tr>\n",
       "    <tr>\n",
       "      <td>800</td>\n",
       "      <td>0.130000</td>\n",
       "      <td>0.505593</td>\n",
       "      <td>0.915639</td>\n",
       "      <td>0.627119</td>\n",
       "      <td>0.431907</td>\n",
       "      <td>0.511521</td>\n",
       "    </tr>\n",
       "    <tr>\n",
       "      <td>900</td>\n",
       "      <td>0.098100</td>\n",
       "      <td>0.584233</td>\n",
       "      <td>0.914047</td>\n",
       "      <td>0.699029</td>\n",
       "      <td>0.280156</td>\n",
       "      <td>0.400000</td>\n",
       "    </tr>\n",
       "    <tr>\n",
       "      <td>1000</td>\n",
       "      <td>0.026400</td>\n",
       "      <td>0.692544</td>\n",
       "      <td>0.915241</td>\n",
       "      <td>0.711538</td>\n",
       "      <td>0.287938</td>\n",
       "      <td>0.409972</td>\n",
       "    </tr>\n",
       "    <tr>\n",
       "      <td>1100</td>\n",
       "      <td>0.043800</td>\n",
       "      <td>0.757388</td>\n",
       "      <td>0.915639</td>\n",
       "      <td>0.731959</td>\n",
       "      <td>0.276265</td>\n",
       "      <td>0.401130</td>\n",
       "    </tr>\n",
       "  </tbody>\n",
       "</table><p>"
      ],
      "text/plain": [
       "<IPython.core.display.HTML object>"
      ]
     },
     "metadata": {},
     "output_type": "display_data"
    },
    {
     "name": "stderr",
     "output_type": "stream",
     "text": [
      "Checkpoint destination directory /vol/bitbucket/ahf119/wandtest/checkpoint-100 already exists and is non-empty. Saving will proceed but saved results may be invalid.\n",
      "Checkpoint destination directory /vol/bitbucket/ahf119/wandtest/checkpoint-200 already exists and is non-empty. Saving will proceed but saved results may be invalid.\n",
      "Checkpoint destination directory /vol/bitbucket/ahf119/wandtest/checkpoint-300 already exists and is non-empty. Saving will proceed but saved results may be invalid.\n",
      "Checkpoint destination directory /vol/bitbucket/ahf119/wandtest/checkpoint-400 already exists and is non-empty. Saving will proceed but saved results may be invalid.\n",
      "Checkpoint destination directory /vol/bitbucket/ahf119/wandtest/checkpoint-500 already exists and is non-empty. Saving will proceed but saved results may be invalid.\n",
      "Checkpoint destination directory /vol/bitbucket/ahf119/wandtest/checkpoint-600 already exists and is non-empty. Saving will proceed but saved results may be invalid.\n",
      "Checkpoint destination directory /vol/bitbucket/ahf119/wandtest/checkpoint-700 already exists and is non-empty. Saving will proceed but saved results may be invalid.\n",
      "Checkpoint destination directory /vol/bitbucket/ahf119/wandtest/checkpoint-800 already exists and is non-empty. Saving will proceed but saved results may be invalid.\n",
      "Checkpoint destination directory /vol/bitbucket/ahf119/wandtest/checkpoint-900 already exists and is non-empty. Saving will proceed but saved results may be invalid.\n",
      "Checkpoint destination directory /vol/bitbucket/ahf119/wandtest/checkpoint-1000 already exists and is non-empty. Saving will proceed but saved results may be invalid.\n",
      "Checkpoint destination directory /vol/bitbucket/ahf119/wandtest/checkpoint-1100 already exists and is non-empty. Saving will proceed but saved results may be invalid.\n"
     ]
    },
    {
     "data": {
      "application/vnd.jupyter.widget-view+json": {
       "model_id": "bce7dcb9ee3e42c68eb45ccefbd6e329",
       "version_major": 2,
       "version_minor": 0
      },
      "text/plain": [
       "  0%|          | 0/2513 [00:00<?, ?it/s]"
      ]
     },
     "metadata": {},
     "output_type": "display_data"
    },
    {
     "name": "stderr",
     "output_type": "stream",
     "text": [
      "IOPub message rate exceeded.\n",
      "The Jupyter server will temporarily stop sending output\n",
      "to the client in order to avoid crashing it.\n",
      "To change this limit, set the config variable\n",
      "`--ServerApp.iopub_msg_rate_limit`.\n",
      "\n",
      "Current values:\n",
      "ServerApp.iopub_msg_rate_limit=1000.0 (msgs/sec)\n",
      "ServerApp.rate_limit_window=3.0 (secs)\n",
      "\n",
      "/vol/bitbucket/ahf119/nlp_env/lib/python3.10/site-packages/sklearn/metrics/_classification.py:1509: UndefinedMetricWarning: Precision is ill-defined and being set to 0.0 due to no predicted samples. Use `zero_division` parameter to control this behavior.\n",
      "  _warn_prf(average, modifier, f\"{metric.capitalize()} is\", len(result))\n",
      "Checkpoint destination directory /vol/bitbucket/ahf119/wandtest/checkpoint-100 already exists and is non-empty. Saving will proceed but saved results may be invalid.\n",
      "Checkpoint destination directory /vol/bitbucket/ahf119/wandtest/checkpoint-200 already exists and is non-empty. Saving will proceed but saved results may be invalid.\n",
      "Checkpoint destination directory /vol/bitbucket/ahf119/wandtest/checkpoint-300 already exists and is non-empty. Saving will proceed but saved results may be invalid.\n",
      "Checkpoint destination directory /vol/bitbucket/ahf119/wandtest/checkpoint-400 already exists and is non-empty. Saving will proceed but saved results may be invalid.\n",
      "Checkpoint destination directory /vol/bitbucket/ahf119/wandtest/checkpoint-500 already exists and is non-empty. Saving will proceed but saved results may be invalid.\n",
      "Checkpoint destination directory /vol/bitbucket/ahf119/wandtest/checkpoint-600 already exists and is non-empty. Saving will proceed but saved results may be invalid.\n",
      "Checkpoint destination directory /vol/bitbucket/ahf119/wandtest/checkpoint-700 already exists and is non-empty. Saving will proceed but saved results may be invalid.\n",
      "Checkpoint destination directory /vol/bitbucket/ahf119/wandtest/checkpoint-800 already exists and is non-empty. Saving will proceed but saved results may be invalid.\n",
      "Checkpoint destination directory /vol/bitbucket/ahf119/wandtest/checkpoint-900 already exists and is non-empty. Saving will proceed but saved results may be invalid.\n",
      "Checkpoint destination directory /vol/bitbucket/ahf119/wandtest/checkpoint-1000 already exists and is non-empty. Saving will proceed but saved results may be invalid.\n",
      "Checkpoint destination directory /vol/bitbucket/ahf119/wandtest/checkpoint-1100 already exists and is non-empty. Saving will proceed but saved results may be invalid.\n"
     ]
    },
    {
     "data": {
      "application/vnd.jupyter.widget-view+json": {
       "model_id": "75592fe6d7d14884bc095c8995c0f605",
       "version_major": 2,
       "version_minor": 0
      },
      "text/plain": [
       "  0%|          | 0/2513 [00:00<?, ?it/s]"
      ]
     },
     "metadata": {},
     "output_type": "display_data"
    },
    {
     "name": "stdout",
     "output_type": "stream",
     "text": [
      "Finished param set with index: 6\n"
     ]
    },
    {
     "name": "stderr",
     "output_type": "stream",
     "text": [
      "Some weights of BERT_PCL were not initialized from the model checkpoint at bert-base-cased and are newly initialized: ['classification.1.bias', 'classification.1.weight']\n",
      "You should probably TRAIN this model on a down-stream task to be able to use it for predictions and inference.\n"
     ]
    },
    {
     "name": "stdout",
     "output_type": "stream",
     "text": [
      "inserted True\n",
      "subbed False\n",
      "back_translated False\n",
      "deleted False\n",
      "swapped False\n"
     ]
    },
    {
     "data": {
      "text/html": [
       "\n",
       "    <div>\n",
       "      \n",
       "      <progress value='600' max='1400' style='width:300px; height:20px; vertical-align: middle;'></progress>\n",
       "      [ 600/1400 07:18 < 09:46, 1.36 it/s, Epoch 3/7]\n",
       "    </div>\n",
       "    <table border=\"1\" class=\"dataframe\">\n",
       "  <thead>\n",
       " <tr style=\"text-align: left;\">\n",
       "      <th>Step</th>\n",
       "      <th>Training Loss</th>\n",
       "      <th>Validation Loss</th>\n",
       "      <th>Accuracy</th>\n",
       "      <th>Precision</th>\n",
       "      <th>Recall</th>\n",
       "      <th>F1</th>\n",
       "    </tr>\n",
       "  </thead>\n",
       "  <tbody>\n",
       "    <tr>\n",
       "      <td>100</td>\n",
       "      <td>0.438900</td>\n",
       "      <td>0.375124</td>\n",
       "      <td>0.896936</td>\n",
       "      <td>0.482759</td>\n",
       "      <td>0.108949</td>\n",
       "      <td>0.177778</td>\n",
       "    </tr>\n",
       "    <tr>\n",
       "      <td>200</td>\n",
       "      <td>0.371200</td>\n",
       "      <td>0.326474</td>\n",
       "      <td>0.906088</td>\n",
       "      <td>0.556150</td>\n",
       "      <td>0.404669</td>\n",
       "      <td>0.468468</td>\n",
       "    </tr>\n",
       "    <tr>\n",
       "      <td>300</td>\n",
       "      <td>0.236100</td>\n",
       "      <td>0.321337</td>\n",
       "      <td>0.901313</td>\n",
       "      <td>0.515358</td>\n",
       "      <td>0.587549</td>\n",
       "      <td>0.549091</td>\n",
       "    </tr>\n",
       "    <tr>\n",
       "      <td>400</td>\n",
       "      <td>0.259300</td>\n",
       "      <td>0.304711</td>\n",
       "      <td>0.907282</td>\n",
       "      <td>0.547619</td>\n",
       "      <td>0.536965</td>\n",
       "      <td>0.542240</td>\n",
       "    </tr>\n",
       "    <tr>\n",
       "      <td>500</td>\n",
       "      <td>0.132600</td>\n",
       "      <td>0.340335</td>\n",
       "      <td>0.899721</td>\n",
       "      <td>0.508306</td>\n",
       "      <td>0.595331</td>\n",
       "      <td>0.548387</td>\n",
       "    </tr>\n",
       "    <tr>\n",
       "      <td>600</td>\n",
       "      <td>0.124500</td>\n",
       "      <td>0.387266</td>\n",
       "      <td>0.902507</td>\n",
       "      <td>0.525210</td>\n",
       "      <td>0.486381</td>\n",
       "      <td>0.505051</td>\n",
       "    </tr>\n",
       "  </tbody>\n",
       "</table><p>"
      ],
      "text/plain": [
       "<IPython.core.display.HTML object>"
      ]
     },
     "metadata": {},
     "output_type": "display_data"
    },
    {
     "name": "stderr",
     "output_type": "stream",
     "text": [
      "Checkpoint destination directory /vol/bitbucket/ahf119/wandtest/checkpoint-100 already exists and is non-empty. Saving will proceed but saved results may be invalid.\n",
      "Checkpoint destination directory /vol/bitbucket/ahf119/wandtest/checkpoint-200 already exists and is non-empty. Saving will proceed but saved results may be invalid.\n",
      "Checkpoint destination directory /vol/bitbucket/ahf119/wandtest/checkpoint-300 already exists and is non-empty. Saving will proceed but saved results may be invalid.\n",
      "Checkpoint destination directory /vol/bitbucket/ahf119/wandtest/checkpoint-400 already exists and is non-empty. Saving will proceed but saved results may be invalid.\n",
      "Checkpoint destination directory /vol/bitbucket/ahf119/wandtest/checkpoint-500 already exists and is non-empty. Saving will proceed but saved results may be invalid.\n",
      "Checkpoint destination directory /vol/bitbucket/ahf119/wandtest/checkpoint-600 already exists and is non-empty. Saving will proceed but saved results may be invalid.\n"
     ]
    },
    {
     "data": {
      "application/vnd.jupyter.widget-view+json": {
       "model_id": "ac48569e27ad4b859e45e28728c7c668",
       "version_major": 2,
       "version_minor": 0
      },
      "text/plain": [
       "  0%|          | 0/2513 [00:00<?, ?it/s]"
      ]
     },
     "metadata": {},
     "output_type": "display_data"
    },
    {
     "name": "stdout",
     "output_type": "stream",
     "text": [
      "Finished param set with index: 7\n"
     ]
    },
    {
     "name": "stderr",
     "output_type": "stream",
     "text": [
      "Some weights of BERT_PCL were not initialized from the model checkpoint at bert-base-cased and are newly initialized: ['classification.1.bias', 'classification.1.weight']\n",
      "You should probably TRAIN this model on a down-stream task to be able to use it for predictions and inference.\n"
     ]
    },
    {
     "name": "stdout",
     "output_type": "stream",
     "text": [
      "inserted False\n",
      "subbed True\n",
      "back_translated False\n",
      "deleted False\n",
      "swapped False\n"
     ]
    },
    {
     "data": {
      "text/html": [
       "\n",
       "    <div>\n",
       "      \n",
       "      <progress value='600' max='1400' style='width:300px; height:20px; vertical-align: middle;'></progress>\n",
       "      [ 600/1400 07:06 < 09:30, 1.40 it/s, Epoch 3/7]\n",
       "    </div>\n",
       "    <table border=\"1\" class=\"dataframe\">\n",
       "  <thead>\n",
       " <tr style=\"text-align: left;\">\n",
       "      <th>Step</th>\n",
       "      <th>Training Loss</th>\n",
       "      <th>Validation Loss</th>\n",
       "      <th>Accuracy</th>\n",
       "      <th>Precision</th>\n",
       "      <th>Recall</th>\n",
       "      <th>F1</th>\n",
       "    </tr>\n",
       "  </thead>\n",
       "  <tbody>\n",
       "    <tr>\n",
       "      <td>100</td>\n",
       "      <td>0.417600</td>\n",
       "      <td>0.389649</td>\n",
       "      <td>0.898130</td>\n",
       "      <td>0.504505</td>\n",
       "      <td>0.217899</td>\n",
       "      <td>0.304348</td>\n",
       "    </tr>\n",
       "    <tr>\n",
       "      <td>200</td>\n",
       "      <td>0.352000</td>\n",
       "      <td>0.335474</td>\n",
       "      <td>0.910068</td>\n",
       "      <td>0.597484</td>\n",
       "      <td>0.369650</td>\n",
       "      <td>0.456731</td>\n",
       "    </tr>\n",
       "    <tr>\n",
       "      <td>300</td>\n",
       "      <td>0.280900</td>\n",
       "      <td>0.341291</td>\n",
       "      <td>0.893752</td>\n",
       "      <td>0.483333</td>\n",
       "      <td>0.564202</td>\n",
       "      <td>0.520646</td>\n",
       "    </tr>\n",
       "    <tr>\n",
       "      <td>400</td>\n",
       "      <td>0.272500</td>\n",
       "      <td>0.332117</td>\n",
       "      <td>0.909670</td>\n",
       "      <td>0.579787</td>\n",
       "      <td>0.424125</td>\n",
       "      <td>0.489888</td>\n",
       "    </tr>\n",
       "    <tr>\n",
       "      <td>500</td>\n",
       "      <td>0.149200</td>\n",
       "      <td>0.397622</td>\n",
       "      <td>0.886988</td>\n",
       "      <td>0.458462</td>\n",
       "      <td>0.579767</td>\n",
       "      <td>0.512027</td>\n",
       "    </tr>\n",
       "    <tr>\n",
       "      <td>600</td>\n",
       "      <td>0.142900</td>\n",
       "      <td>0.375623</td>\n",
       "      <td>0.902507</td>\n",
       "      <td>0.527027</td>\n",
       "      <td>0.455253</td>\n",
       "      <td>0.488518</td>\n",
       "    </tr>\n",
       "  </tbody>\n",
       "</table><p>"
      ],
      "text/plain": [
       "<IPython.core.display.HTML object>"
      ]
     },
     "metadata": {},
     "output_type": "display_data"
    },
    {
     "name": "stderr",
     "output_type": "stream",
     "text": [
      "Checkpoint destination directory /vol/bitbucket/ahf119/wandtest/checkpoint-100 already exists and is non-empty. Saving will proceed but saved results may be invalid.\n",
      "Checkpoint destination directory /vol/bitbucket/ahf119/wandtest/checkpoint-200 already exists and is non-empty. Saving will proceed but saved results may be invalid.\n",
      "Checkpoint destination directory /vol/bitbucket/ahf119/wandtest/checkpoint-300 already exists and is non-empty. Saving will proceed but saved results may be invalid.\n",
      "Checkpoint destination directory /vol/bitbucket/ahf119/wandtest/checkpoint-400 already exists and is non-empty. Saving will proceed but saved results may be invalid.\n",
      "Checkpoint destination directory /vol/bitbucket/ahf119/wandtest/checkpoint-500 already exists and is non-empty. Saving will proceed but saved results may be invalid.\n",
      "Checkpoint destination directory /vol/bitbucket/ahf119/wandtest/checkpoint-600 already exists and is non-empty. Saving will proceed but saved results may be invalid.\n"
     ]
    },
    {
     "data": {
      "application/vnd.jupyter.widget-view+json": {
       "model_id": "064cc3e448554ab3a178c6a641854342",
       "version_major": 2,
       "version_minor": 0
      },
      "text/plain": [
       "  0%|          | 0/2513 [00:00<?, ?it/s]"
      ]
     },
     "metadata": {},
     "output_type": "display_data"
    },
    {
     "name": "stdout",
     "output_type": "stream",
     "text": [
      "Finished param set with index: 8\n"
     ]
    },
    {
     "name": "stderr",
     "output_type": "stream",
     "text": [
      "Some weights of BERT_PCL were not initialized from the model checkpoint at bert-base-cased and are newly initialized: ['classification.1.bias', 'classification.1.weight']\n",
      "You should probably TRAIN this model on a down-stream task to be able to use it for predictions and inference.\n"
     ]
    },
    {
     "name": "stdout",
     "output_type": "stream",
     "text": [
      "inserted False\n",
      "subbed False\n",
      "back_translated True\n",
      "deleted False\n",
      "swapped False\n"
     ]
    },
    {
     "data": {
      "text/html": [
       "\n",
       "    <div>\n",
       "      \n",
       "      <progress value='1200' max='1519' style='width:300px; height:20px; vertical-align: middle;'></progress>\n",
       "      [1200/1519 14:11 < 03:46, 1.41 it/s, Epoch 5/7]\n",
       "    </div>\n",
       "    <table border=\"1\" class=\"dataframe\">\n",
       "  <thead>\n",
       " <tr style=\"text-align: left;\">\n",
       "      <th>Step</th>\n",
       "      <th>Training Loss</th>\n",
       "      <th>Validation Loss</th>\n",
       "      <th>Accuracy</th>\n",
       "      <th>Precision</th>\n",
       "      <th>Recall</th>\n",
       "      <th>F1</th>\n",
       "    </tr>\n",
       "  </thead>\n",
       "  <tbody>\n",
       "    <tr>\n",
       "      <td>100</td>\n",
       "      <td>0.319300</td>\n",
       "      <td>0.396221</td>\n",
       "      <td>0.897334</td>\n",
       "      <td>0.496599</td>\n",
       "      <td>0.284047</td>\n",
       "      <td>0.361386</td>\n",
       "    </tr>\n",
       "    <tr>\n",
       "      <td>200</td>\n",
       "      <td>0.314200</td>\n",
       "      <td>0.358855</td>\n",
       "      <td>0.906486</td>\n",
       "      <td>0.583333</td>\n",
       "      <td>0.299611</td>\n",
       "      <td>0.395887</td>\n",
       "    </tr>\n",
       "    <tr>\n",
       "      <td>300</td>\n",
       "      <td>0.216100</td>\n",
       "      <td>0.361081</td>\n",
       "      <td>0.898528</td>\n",
       "      <td>0.504425</td>\n",
       "      <td>0.443580</td>\n",
       "      <td>0.472050</td>\n",
       "    </tr>\n",
       "    <tr>\n",
       "      <td>400</td>\n",
       "      <td>0.231900</td>\n",
       "      <td>0.333986</td>\n",
       "      <td>0.910466</td>\n",
       "      <td>0.594118</td>\n",
       "      <td>0.392996</td>\n",
       "      <td>0.473068</td>\n",
       "    </tr>\n",
       "    <tr>\n",
       "      <td>500</td>\n",
       "      <td>0.122200</td>\n",
       "      <td>0.502434</td>\n",
       "      <td>0.908078</td>\n",
       "      <td>0.691176</td>\n",
       "      <td>0.182879</td>\n",
       "      <td>0.289231</td>\n",
       "    </tr>\n",
       "    <tr>\n",
       "      <td>600</td>\n",
       "      <td>0.147200</td>\n",
       "      <td>0.404116</td>\n",
       "      <td>0.896140</td>\n",
       "      <td>0.492248</td>\n",
       "      <td>0.494163</td>\n",
       "      <td>0.493204</td>\n",
       "    </tr>\n",
       "    <tr>\n",
       "      <td>700</td>\n",
       "      <td>0.064700</td>\n",
       "      <td>0.650515</td>\n",
       "      <td>0.910466</td>\n",
       "      <td>0.677778</td>\n",
       "      <td>0.237354</td>\n",
       "      <td>0.351585</td>\n",
       "    </tr>\n",
       "    <tr>\n",
       "      <td>800</td>\n",
       "      <td>0.065700</td>\n",
       "      <td>0.554961</td>\n",
       "      <td>0.915639</td>\n",
       "      <td>0.771084</td>\n",
       "      <td>0.249027</td>\n",
       "      <td>0.376471</td>\n",
       "    </tr>\n",
       "    <tr>\n",
       "      <td>900</td>\n",
       "      <td>0.026700</td>\n",
       "      <td>0.591651</td>\n",
       "      <td>0.916435</td>\n",
       "      <td>0.644172</td>\n",
       "      <td>0.408560</td>\n",
       "      <td>0.500000</td>\n",
       "    </tr>\n",
       "    <tr>\n",
       "      <td>1000</td>\n",
       "      <td>0.045500</td>\n",
       "      <td>0.700581</td>\n",
       "      <td>0.912853</td>\n",
       "      <td>0.706522</td>\n",
       "      <td>0.252918</td>\n",
       "      <td>0.372493</td>\n",
       "    </tr>\n",
       "    <tr>\n",
       "      <td>1100</td>\n",
       "      <td>0.051700</td>\n",
       "      <td>0.701902</td>\n",
       "      <td>0.916435</td>\n",
       "      <td>0.671533</td>\n",
       "      <td>0.357977</td>\n",
       "      <td>0.467005</td>\n",
       "    </tr>\n",
       "    <tr>\n",
       "      <td>1200</td>\n",
       "      <td>0.033900</td>\n",
       "      <td>0.750902</td>\n",
       "      <td>0.916435</td>\n",
       "      <td>0.723810</td>\n",
       "      <td>0.295720</td>\n",
       "      <td>0.419890</td>\n",
       "    </tr>\n",
       "  </tbody>\n",
       "</table><p>"
      ],
      "text/plain": [
       "<IPython.core.display.HTML object>"
      ]
     },
     "metadata": {},
     "output_type": "display_data"
    },
    {
     "name": "stderr",
     "output_type": "stream",
     "text": [
      "Checkpoint destination directory /vol/bitbucket/ahf119/wandtest/checkpoint-100 already exists and is non-empty. Saving will proceed but saved results may be invalid.\n",
      "Checkpoint destination directory /vol/bitbucket/ahf119/wandtest/checkpoint-200 already exists and is non-empty. Saving will proceed but saved results may be invalid.\n",
      "Checkpoint destination directory /vol/bitbucket/ahf119/wandtest/checkpoint-300 already exists and is non-empty. Saving will proceed but saved results may be invalid.\n",
      "Checkpoint destination directory /vol/bitbucket/ahf119/wandtest/checkpoint-400 already exists and is non-empty. Saving will proceed but saved results may be invalid.\n",
      "Checkpoint destination directory /vol/bitbucket/ahf119/wandtest/checkpoint-500 already exists and is non-empty. Saving will proceed but saved results may be invalid.\n",
      "Checkpoint destination directory /vol/bitbucket/ahf119/wandtest/checkpoint-600 already exists and is non-empty. Saving will proceed but saved results may be invalid.\n",
      "Checkpoint destination directory /vol/bitbucket/ahf119/wandtest/checkpoint-700 already exists and is non-empty. Saving will proceed but saved results may be invalid.\n",
      "Checkpoint destination directory /vol/bitbucket/ahf119/wandtest/checkpoint-800 already exists and is non-empty. Saving will proceed but saved results may be invalid.\n",
      "Checkpoint destination directory /vol/bitbucket/ahf119/wandtest/checkpoint-900 already exists and is non-empty. Saving will proceed but saved results may be invalid.\n",
      "Checkpoint destination directory /vol/bitbucket/ahf119/wandtest/checkpoint-1000 already exists and is non-empty. Saving will proceed but saved results may be invalid.\n",
      "Checkpoint destination directory /vol/bitbucket/ahf119/wandtest/checkpoint-1100 already exists and is non-empty. Saving will proceed but saved results may be invalid.\n"
     ]
    },
    {
     "data": {
      "application/vnd.jupyter.widget-view+json": {
       "model_id": "13010f5c4419490aba9c7c24607369c7",
       "version_major": 2,
       "version_minor": 0
      },
      "text/plain": [
       "  0%|          | 0/2513 [00:00<?, ?it/s]"
      ]
     },
     "metadata": {},
     "output_type": "display_data"
    },
    {
     "name": "stdout",
     "output_type": "stream",
     "text": [
      "Finished param set with index: 9\n"
     ]
    },
    {
     "name": "stderr",
     "output_type": "stream",
     "text": [
      "Some weights of BERT_PCL were not initialized from the model checkpoint at bert-base-cased and are newly initialized: ['classification.1.bias', 'classification.1.weight']\n",
      "You should probably TRAIN this model on a down-stream task to be able to use it for predictions and inference.\n"
     ]
    },
    {
     "name": "stdout",
     "output_type": "stream",
     "text": [
      "inserted False\n",
      "subbed False\n",
      "back_translated False\n",
      "deleted True\n",
      "swapped False\n"
     ]
    },
    {
     "data": {
      "text/html": [
       "\n",
       "    <div>\n",
       "      \n",
       "      <progress value='700' max='1400' style='width:300px; height:20px; vertical-align: middle;'></progress>\n",
       "      [ 700/1400 08:17 < 08:18, 1.40 it/s, Epoch 3/7]\n",
       "    </div>\n",
       "    <table border=\"1\" class=\"dataframe\">\n",
       "  <thead>\n",
       " <tr style=\"text-align: left;\">\n",
       "      <th>Step</th>\n",
       "      <th>Training Loss</th>\n",
       "      <th>Validation Loss</th>\n",
       "      <th>Accuracy</th>\n",
       "      <th>Precision</th>\n",
       "      <th>Recall</th>\n",
       "      <th>F1</th>\n",
       "    </tr>\n",
       "  </thead>\n",
       "  <tbody>\n",
       "    <tr>\n",
       "      <td>100</td>\n",
       "      <td>0.416800</td>\n",
       "      <td>0.383633</td>\n",
       "      <td>0.901313</td>\n",
       "      <td>0.540541</td>\n",
       "      <td>0.233463</td>\n",
       "      <td>0.326087</td>\n",
       "    </tr>\n",
       "    <tr>\n",
       "      <td>200</td>\n",
       "      <td>0.381100</td>\n",
       "      <td>0.324414</td>\n",
       "      <td>0.902507</td>\n",
       "      <td>0.527273</td>\n",
       "      <td>0.451362</td>\n",
       "      <td>0.486373</td>\n",
       "    </tr>\n",
       "    <tr>\n",
       "      <td>300</td>\n",
       "      <td>0.252200</td>\n",
       "      <td>0.325451</td>\n",
       "      <td>0.906486</td>\n",
       "      <td>0.551402</td>\n",
       "      <td>0.459144</td>\n",
       "      <td>0.501062</td>\n",
       "    </tr>\n",
       "    <tr>\n",
       "      <td>400</td>\n",
       "      <td>0.246400</td>\n",
       "      <td>0.317727</td>\n",
       "      <td>0.914843</td>\n",
       "      <td>0.608040</td>\n",
       "      <td>0.470817</td>\n",
       "      <td>0.530702</td>\n",
       "    </tr>\n",
       "    <tr>\n",
       "      <td>500</td>\n",
       "      <td>0.158700</td>\n",
       "      <td>0.370211</td>\n",
       "      <td>0.896140</td>\n",
       "      <td>0.492857</td>\n",
       "      <td>0.536965</td>\n",
       "      <td>0.513966</td>\n",
       "    </tr>\n",
       "    <tr>\n",
       "      <td>600</td>\n",
       "      <td>0.120400</td>\n",
       "      <td>0.457912</td>\n",
       "      <td>0.914445</td>\n",
       "      <td>0.645833</td>\n",
       "      <td>0.361868</td>\n",
       "      <td>0.463840</td>\n",
       "    </tr>\n",
       "    <tr>\n",
       "      <td>700</td>\n",
       "      <td>0.147400</td>\n",
       "      <td>0.617611</td>\n",
       "      <td>0.914047</td>\n",
       "      <td>0.684685</td>\n",
       "      <td>0.295720</td>\n",
       "      <td>0.413043</td>\n",
       "    </tr>\n",
       "  </tbody>\n",
       "</table><p>"
      ],
      "text/plain": [
       "<IPython.core.display.HTML object>"
      ]
     },
     "metadata": {},
     "output_type": "display_data"
    },
    {
     "name": "stderr",
     "output_type": "stream",
     "text": [
      "Checkpoint destination directory /vol/bitbucket/ahf119/wandtest/checkpoint-100 already exists and is non-empty. Saving will proceed but saved results may be invalid.\n",
      "Checkpoint destination directory /vol/bitbucket/ahf119/wandtest/checkpoint-200 already exists and is non-empty. Saving will proceed but saved results may be invalid.\n",
      "Checkpoint destination directory /vol/bitbucket/ahf119/wandtest/checkpoint-300 already exists and is non-empty. Saving will proceed but saved results may be invalid.\n",
      "Checkpoint destination directory /vol/bitbucket/ahf119/wandtest/checkpoint-400 already exists and is non-empty. Saving will proceed but saved results may be invalid.\n",
      "Checkpoint destination directory /vol/bitbucket/ahf119/wandtest/checkpoint-500 already exists and is non-empty. Saving will proceed but saved results may be invalid.\n",
      "Checkpoint destination directory /vol/bitbucket/ahf119/wandtest/checkpoint-600 already exists and is non-empty. Saving will proceed but saved results may be invalid.\n",
      "Checkpoint destination directory /vol/bitbucket/ahf119/wandtest/checkpoint-700 already exists and is non-empty. Saving will proceed but saved results may be invalid.\n"
     ]
    },
    {
     "data": {
      "application/vnd.jupyter.widget-view+json": {
       "model_id": "699761deb72d407491d9134ddcca7527",
       "version_major": 2,
       "version_minor": 0
      },
      "text/plain": [
       "  0%|          | 0/2513 [00:00<?, ?it/s]"
      ]
     },
     "metadata": {},
     "output_type": "display_data"
    },
    {
     "name": "stdout",
     "output_type": "stream",
     "text": [
      "Finished param set with index: 10\n"
     ]
    },
    {
     "name": "stderr",
     "output_type": "stream",
     "text": [
      "Some weights of BERT_PCL were not initialized from the model checkpoint at bert-base-cased and are newly initialized: ['classification.1.bias', 'classification.1.weight']\n",
      "You should probably TRAIN this model on a down-stream task to be able to use it for predictions and inference.\n"
     ]
    },
    {
     "name": "stdout",
     "output_type": "stream",
     "text": [
      "inserted False\n",
      "subbed False\n",
      "back_translated False\n",
      "deleted False\n",
      "swapped True\n"
     ]
    },
    {
     "data": {
      "text/html": [
       "\n",
       "    <div>\n",
       "      \n",
       "      <progress value='1100' max='1400' style='width:300px; height:20px; vertical-align: middle;'></progress>\n",
       "      [1100/1400 13:01 < 03:33, 1.40 it/s, Epoch 5/7]\n",
       "    </div>\n",
       "    <table border=\"1\" class=\"dataframe\">\n",
       "  <thead>\n",
       " <tr style=\"text-align: left;\">\n",
       "      <th>Step</th>\n",
       "      <th>Training Loss</th>\n",
       "      <th>Validation Loss</th>\n",
       "      <th>Accuracy</th>\n",
       "      <th>Precision</th>\n",
       "      <th>Recall</th>\n",
       "      <th>F1</th>\n",
       "    </tr>\n",
       "  </thead>\n",
       "  <tbody>\n",
       "    <tr>\n",
       "      <td>100</td>\n",
       "      <td>0.405000</td>\n",
       "      <td>0.358808</td>\n",
       "      <td>0.900119</td>\n",
       "      <td>0.529412</td>\n",
       "      <td>0.210117</td>\n",
       "      <td>0.300836</td>\n",
       "    </tr>\n",
       "    <tr>\n",
       "      <td>200</td>\n",
       "      <td>0.353100</td>\n",
       "      <td>0.313798</td>\n",
       "      <td>0.910466</td>\n",
       "      <td>0.583333</td>\n",
       "      <td>0.435798</td>\n",
       "      <td>0.498886</td>\n",
       "    </tr>\n",
       "    <tr>\n",
       "      <td>300</td>\n",
       "      <td>0.222300</td>\n",
       "      <td>0.336664</td>\n",
       "      <td>0.908874</td>\n",
       "      <td>0.568627</td>\n",
       "      <td>0.451362</td>\n",
       "      <td>0.503254</td>\n",
       "    </tr>\n",
       "    <tr>\n",
       "      <td>400</td>\n",
       "      <td>0.247100</td>\n",
       "      <td>0.324442</td>\n",
       "      <td>0.907680</td>\n",
       "      <td>0.557078</td>\n",
       "      <td>0.474708</td>\n",
       "      <td>0.512605</td>\n",
       "    </tr>\n",
       "    <tr>\n",
       "      <td>500</td>\n",
       "      <td>0.128700</td>\n",
       "      <td>0.388520</td>\n",
       "      <td>0.907680</td>\n",
       "      <td>0.551020</td>\n",
       "      <td>0.525292</td>\n",
       "      <td>0.537849</td>\n",
       "    </tr>\n",
       "    <tr>\n",
       "      <td>600</td>\n",
       "      <td>0.097200</td>\n",
       "      <td>0.438518</td>\n",
       "      <td>0.913251</td>\n",
       "      <td>0.602094</td>\n",
       "      <td>0.447471</td>\n",
       "      <td>0.513393</td>\n",
       "    </tr>\n",
       "    <tr>\n",
       "      <td>700</td>\n",
       "      <td>0.148600</td>\n",
       "      <td>0.552303</td>\n",
       "      <td>0.911261</td>\n",
       "      <td>0.594444</td>\n",
       "      <td>0.416342</td>\n",
       "      <td>0.489703</td>\n",
       "    </tr>\n",
       "    <tr>\n",
       "      <td>800</td>\n",
       "      <td>0.100000</td>\n",
       "      <td>0.542628</td>\n",
       "      <td>0.912057</td>\n",
       "      <td>0.579646</td>\n",
       "      <td>0.509728</td>\n",
       "      <td>0.542443</td>\n",
       "    </tr>\n",
       "    <tr>\n",
       "      <td>900</td>\n",
       "      <td>0.066000</td>\n",
       "      <td>0.706193</td>\n",
       "      <td>0.920812</td>\n",
       "      <td>0.674699</td>\n",
       "      <td>0.435798</td>\n",
       "      <td>0.529551</td>\n",
       "    </tr>\n",
       "    <tr>\n",
       "      <td>1000</td>\n",
       "      <td>0.022200</td>\n",
       "      <td>0.921992</td>\n",
       "      <td>0.917628</td>\n",
       "      <td>0.784091</td>\n",
       "      <td>0.268482</td>\n",
       "      <td>0.400000</td>\n",
       "    </tr>\n",
       "    <tr>\n",
       "      <td>1100</td>\n",
       "      <td>0.000600</td>\n",
       "      <td>0.929276</td>\n",
       "      <td>0.920414</td>\n",
       "      <td>0.776699</td>\n",
       "      <td>0.311284</td>\n",
       "      <td>0.444444</td>\n",
       "    </tr>\n",
       "  </tbody>\n",
       "</table><p>"
      ],
      "text/plain": [
       "<IPython.core.display.HTML object>"
      ]
     },
     "metadata": {},
     "output_type": "display_data"
    },
    {
     "name": "stderr",
     "output_type": "stream",
     "text": [
      "Checkpoint destination directory /vol/bitbucket/ahf119/wandtest/checkpoint-100 already exists and is non-empty. Saving will proceed but saved results may be invalid.\n",
      "Checkpoint destination directory /vol/bitbucket/ahf119/wandtest/checkpoint-200 already exists and is non-empty. Saving will proceed but saved results may be invalid.\n",
      "Checkpoint destination directory /vol/bitbucket/ahf119/wandtest/checkpoint-300 already exists and is non-empty. Saving will proceed but saved results may be invalid.\n",
      "Checkpoint destination directory /vol/bitbucket/ahf119/wandtest/checkpoint-400 already exists and is non-empty. Saving will proceed but saved results may be invalid.\n",
      "Checkpoint destination directory /vol/bitbucket/ahf119/wandtest/checkpoint-500 already exists and is non-empty. Saving will proceed but saved results may be invalid.\n",
      "Checkpoint destination directory /vol/bitbucket/ahf119/wandtest/checkpoint-600 already exists and is non-empty. Saving will proceed but saved results may be invalid.\n",
      "Checkpoint destination directory /vol/bitbucket/ahf119/wandtest/checkpoint-700 already exists and is non-empty. Saving will proceed but saved results may be invalid.\n",
      "Checkpoint destination directory /vol/bitbucket/ahf119/wandtest/checkpoint-800 already exists and is non-empty. Saving will proceed but saved results may be invalid.\n",
      "Checkpoint destination directory /vol/bitbucket/ahf119/wandtest/checkpoint-900 already exists and is non-empty. Saving will proceed but saved results may be invalid.\n",
      "Checkpoint destination directory /vol/bitbucket/ahf119/wandtest/checkpoint-1000 already exists and is non-empty. Saving will proceed but saved results may be invalid.\n",
      "Checkpoint destination directory /vol/bitbucket/ahf119/wandtest/checkpoint-1100 already exists and is non-empty. Saving will proceed but saved results may be invalid.\n"
     ]
    },
    {
     "data": {
      "application/vnd.jupyter.widget-view+json": {
       "model_id": "a22b1b28828f45f9a235b5e974b0ae78",
       "version_major": 2,
       "version_minor": 0
      },
      "text/plain": [
       "  0%|          | 0/2513 [00:00<?, ?it/s]"
      ]
     },
     "metadata": {},
     "output_type": "display_data"
    },
    {
     "name": "stdout",
     "output_type": "stream",
     "text": [
      "Finished param set with index: 11\n"
     ]
    },
    {
     "name": "stderr",
     "output_type": "stream",
     "text": [
      "Some weights of BERT_PCL were not initialized from the model checkpoint at bert-base-cased and are newly initialized: ['classification.1.bias', 'classification.1.weight']\n",
      "You should probably TRAIN this model on a down-stream task to be able to use it for predictions and inference.\n"
     ]
    },
    {
     "name": "stdout",
     "output_type": "stream",
     "text": [
      "inserted False\n",
      "subbed False\n",
      "back_translated False\n",
      "deleted False\n",
      "swapped False\n"
     ]
    },
    {
     "data": {
      "text/html": [
       "\n",
       "    <div>\n",
       "      \n",
       "      <progress value='1000' max='1288' style='width:300px; height:20px; vertical-align: middle;'></progress>\n",
       "      [1000/1288 11:48 < 03:24, 1.41 it/s, Epoch 5/7]\n",
       "    </div>\n",
       "    <table border=\"1\" class=\"dataframe\">\n",
       "  <thead>\n",
       " <tr style=\"text-align: left;\">\n",
       "      <th>Step</th>\n",
       "      <th>Training Loss</th>\n",
       "      <th>Validation Loss</th>\n",
       "      <th>Accuracy</th>\n",
       "      <th>Precision</th>\n",
       "      <th>Recall</th>\n",
       "      <th>F1</th>\n",
       "    </tr>\n",
       "  </thead>\n",
       "  <tbody>\n",
       "    <tr>\n",
       "      <td>100</td>\n",
       "      <td>0.336600</td>\n",
       "      <td>0.393738</td>\n",
       "      <td>0.905690</td>\n",
       "      <td>0.763158</td>\n",
       "      <td>0.112840</td>\n",
       "      <td>0.196610</td>\n",
       "    </tr>\n",
       "    <tr>\n",
       "      <td>200</td>\n",
       "      <td>0.335000</td>\n",
       "      <td>0.314871</td>\n",
       "      <td>0.906088</td>\n",
       "      <td>0.559322</td>\n",
       "      <td>0.385214</td>\n",
       "      <td>0.456221</td>\n",
       "    </tr>\n",
       "    <tr>\n",
       "      <td>300</td>\n",
       "      <td>0.254900</td>\n",
       "      <td>0.357992</td>\n",
       "      <td>0.906088</td>\n",
       "      <td>0.558011</td>\n",
       "      <td>0.392996</td>\n",
       "      <td>0.461187</td>\n",
       "    </tr>\n",
       "    <tr>\n",
       "      <td>400</td>\n",
       "      <td>0.163800</td>\n",
       "      <td>0.462734</td>\n",
       "      <td>0.905292</td>\n",
       "      <td>0.544601</td>\n",
       "      <td>0.451362</td>\n",
       "      <td>0.493617</td>\n",
       "    </tr>\n",
       "    <tr>\n",
       "      <td>500</td>\n",
       "      <td>0.076900</td>\n",
       "      <td>0.519270</td>\n",
       "      <td>0.905292</td>\n",
       "      <td>0.543379</td>\n",
       "      <td>0.463035</td>\n",
       "      <td>0.500000</td>\n",
       "    </tr>\n",
       "    <tr>\n",
       "      <td>600</td>\n",
       "      <td>0.146200</td>\n",
       "      <td>0.578329</td>\n",
       "      <td>0.916435</td>\n",
       "      <td>0.691057</td>\n",
       "      <td>0.330739</td>\n",
       "      <td>0.447368</td>\n",
       "    </tr>\n",
       "    <tr>\n",
       "      <td>700</td>\n",
       "      <td>0.046600</td>\n",
       "      <td>0.600526</td>\n",
       "      <td>0.902905</td>\n",
       "      <td>0.524904</td>\n",
       "      <td>0.533074</td>\n",
       "      <td>0.528958</td>\n",
       "    </tr>\n",
       "    <tr>\n",
       "      <td>800</td>\n",
       "      <td>0.000600</td>\n",
       "      <td>0.761098</td>\n",
       "      <td>0.904895</td>\n",
       "      <td>0.537500</td>\n",
       "      <td>0.501946</td>\n",
       "      <td>0.519115</td>\n",
       "    </tr>\n",
       "    <tr>\n",
       "      <td>900</td>\n",
       "      <td>0.001300</td>\n",
       "      <td>0.812805</td>\n",
       "      <td>0.915241</td>\n",
       "      <td>0.629412</td>\n",
       "      <td>0.416342</td>\n",
       "      <td>0.501171</td>\n",
       "    </tr>\n",
       "    <tr>\n",
       "      <td>1000</td>\n",
       "      <td>0.000400</td>\n",
       "      <td>0.873077</td>\n",
       "      <td>0.913251</td>\n",
       "      <td>0.616766</td>\n",
       "      <td>0.400778</td>\n",
       "      <td>0.485849</td>\n",
       "    </tr>\n",
       "  </tbody>\n",
       "</table><p>"
      ],
      "text/plain": [
       "<IPython.core.display.HTML object>"
      ]
     },
     "metadata": {},
     "output_type": "display_data"
    },
    {
     "name": "stderr",
     "output_type": "stream",
     "text": [
      "Checkpoint destination directory /vol/bitbucket/ahf119/wandtest/checkpoint-100 already exists and is non-empty. Saving will proceed but saved results may be invalid.\n",
      "Checkpoint destination directory /vol/bitbucket/ahf119/wandtest/checkpoint-200 already exists and is non-empty. Saving will proceed but saved results may be invalid.\n",
      "Checkpoint destination directory /vol/bitbucket/ahf119/wandtest/checkpoint-300 already exists and is non-empty. Saving will proceed but saved results may be invalid.\n",
      "Checkpoint destination directory /vol/bitbucket/ahf119/wandtest/checkpoint-400 already exists and is non-empty. Saving will proceed but saved results may be invalid.\n",
      "Checkpoint destination directory /vol/bitbucket/ahf119/wandtest/checkpoint-500 already exists and is non-empty. Saving will proceed but saved results may be invalid.\n",
      "Checkpoint destination directory /vol/bitbucket/ahf119/wandtest/checkpoint-600 already exists and is non-empty. Saving will proceed but saved results may be invalid.\n",
      "Checkpoint destination directory /vol/bitbucket/ahf119/wandtest/checkpoint-700 already exists and is non-empty. Saving will proceed but saved results may be invalid.\n",
      "Checkpoint destination directory /vol/bitbucket/ahf119/wandtest/checkpoint-800 already exists and is non-empty. Saving will proceed but saved results may be invalid.\n",
      "Checkpoint destination directory /vol/bitbucket/ahf119/wandtest/checkpoint-900 already exists and is non-empty. Saving will proceed but saved results may be invalid.\n",
      "Checkpoint destination directory /vol/bitbucket/ahf119/wandtest/checkpoint-1000 already exists and is non-empty. Saving will proceed but saved results may be invalid.\n"
     ]
    },
    {
     "data": {
      "application/vnd.jupyter.widget-view+json": {
       "model_id": "d8db2409bd494015a4f8e46b2fa97643",
       "version_major": 2,
       "version_minor": 0
      },
      "text/plain": [
       "  0%|          | 0/2513 [00:00<?, ?it/s]"
      ]
     },
     "metadata": {},
     "output_type": "display_data"
    },
    {
     "name": "stdout",
     "output_type": "stream",
     "text": [
      "Finished param set with index: 12\n"
     ]
    },
    {
     "name": "stderr",
     "output_type": "stream",
     "text": [
      "Some weights of BERT_PCL were not initialized from the model checkpoint at bert-base-cased and are newly initialized: ['classification.1.bias', 'classification.1.weight']\n",
      "You should probably TRAIN this model on a down-stream task to be able to use it for predictions and inference.\n"
     ]
    },
    {
     "name": "stdout",
     "output_type": "stream",
     "text": [
      "inserted True\n",
      "subbed False\n",
      "back_translated False\n",
      "deleted False\n",
      "swapped False\n"
     ]
    },
    {
     "data": {
      "text/html": [
       "\n",
       "    <div>\n",
       "      \n",
       "      <progress value='800' max='1400' style='width:300px; height:20px; vertical-align: middle;'></progress>\n",
       "      [ 800/1400 09:28 < 07:07, 1.40 it/s, Epoch 4/7]\n",
       "    </div>\n",
       "    <table border=\"1\" class=\"dataframe\">\n",
       "  <thead>\n",
       " <tr style=\"text-align: left;\">\n",
       "      <th>Step</th>\n",
       "      <th>Training Loss</th>\n",
       "      <th>Validation Loss</th>\n",
       "      <th>Accuracy</th>\n",
       "      <th>Precision</th>\n",
       "      <th>Recall</th>\n",
       "      <th>F1</th>\n",
       "    </tr>\n",
       "  </thead>\n",
       "  <tbody>\n",
       "    <tr>\n",
       "      <td>100</td>\n",
       "      <td>0.459400</td>\n",
       "      <td>0.424278</td>\n",
       "      <td>0.899721</td>\n",
       "      <td>1.000000</td>\n",
       "      <td>0.019455</td>\n",
       "      <td>0.038168</td>\n",
       "    </tr>\n",
       "    <tr>\n",
       "      <td>200</td>\n",
       "      <td>0.334400</td>\n",
       "      <td>0.327341</td>\n",
       "      <td>0.908874</td>\n",
       "      <td>0.573684</td>\n",
       "      <td>0.424125</td>\n",
       "      <td>0.487696</td>\n",
       "    </tr>\n",
       "    <tr>\n",
       "      <td>300</td>\n",
       "      <td>0.240500</td>\n",
       "      <td>0.371572</td>\n",
       "      <td>0.912455</td>\n",
       "      <td>0.619355</td>\n",
       "      <td>0.373541</td>\n",
       "      <td>0.466019</td>\n",
       "    </tr>\n",
       "    <tr>\n",
       "      <td>400</td>\n",
       "      <td>0.270100</td>\n",
       "      <td>0.299201</td>\n",
       "      <td>0.890967</td>\n",
       "      <td>0.474164</td>\n",
       "      <td>0.607004</td>\n",
       "      <td>0.532423</td>\n",
       "    </tr>\n",
       "    <tr>\n",
       "      <td>500</td>\n",
       "      <td>0.132200</td>\n",
       "      <td>0.435505</td>\n",
       "      <td>0.881417</td>\n",
       "      <td>0.446194</td>\n",
       "      <td>0.661479</td>\n",
       "      <td>0.532915</td>\n",
       "    </tr>\n",
       "    <tr>\n",
       "      <td>600</td>\n",
       "      <td>0.032200</td>\n",
       "      <td>0.429575</td>\n",
       "      <td>0.897334</td>\n",
       "      <td>0.498054</td>\n",
       "      <td>0.498054</td>\n",
       "      <td>0.498054</td>\n",
       "    </tr>\n",
       "    <tr>\n",
       "      <td>700</td>\n",
       "      <td>0.083300</td>\n",
       "      <td>0.653009</td>\n",
       "      <td>0.909670</td>\n",
       "      <td>0.588235</td>\n",
       "      <td>0.389105</td>\n",
       "      <td>0.468384</td>\n",
       "    </tr>\n",
       "    <tr>\n",
       "      <td>800</td>\n",
       "      <td>0.026100</td>\n",
       "      <td>0.634579</td>\n",
       "      <td>0.912853</td>\n",
       "      <td>0.595000</td>\n",
       "      <td>0.463035</td>\n",
       "      <td>0.520788</td>\n",
       "    </tr>\n",
       "  </tbody>\n",
       "</table><p>"
      ],
      "text/plain": [
       "<IPython.core.display.HTML object>"
      ]
     },
     "metadata": {},
     "output_type": "display_data"
    },
    {
     "name": "stderr",
     "output_type": "stream",
     "text": [
      "Checkpoint destination directory /vol/bitbucket/ahf119/wandtest/checkpoint-100 already exists and is non-empty. Saving will proceed but saved results may be invalid.\n",
      "Checkpoint destination directory /vol/bitbucket/ahf119/wandtest/checkpoint-200 already exists and is non-empty. Saving will proceed but saved results may be invalid.\n",
      "Checkpoint destination directory /vol/bitbucket/ahf119/wandtest/checkpoint-300 already exists and is non-empty. Saving will proceed but saved results may be invalid.\n",
      "Checkpoint destination directory /vol/bitbucket/ahf119/wandtest/checkpoint-400 already exists and is non-empty. Saving will proceed but saved results may be invalid.\n",
      "Checkpoint destination directory /vol/bitbucket/ahf119/wandtest/checkpoint-500 already exists and is non-empty. Saving will proceed but saved results may be invalid.\n",
      "Checkpoint destination directory /vol/bitbucket/ahf119/wandtest/checkpoint-600 already exists and is non-empty. Saving will proceed but saved results may be invalid.\n",
      "Checkpoint destination directory /vol/bitbucket/ahf119/wandtest/checkpoint-700 already exists and is non-empty. Saving will proceed but saved results may be invalid.\n",
      "Checkpoint destination directory /vol/bitbucket/ahf119/wandtest/checkpoint-800 already exists and is non-empty. Saving will proceed but saved results may be invalid.\n"
     ]
    },
    {
     "data": {
      "application/vnd.jupyter.widget-view+json": {
       "model_id": "44dcfe4a549b492c915e9e38cfd74716",
       "version_major": 2,
       "version_minor": 0
      },
      "text/plain": [
       "  0%|          | 0/2513 [00:00<?, ?it/s]"
      ]
     },
     "metadata": {},
     "output_type": "display_data"
    },
    {
     "name": "stdout",
     "output_type": "stream",
     "text": [
      "Finished param set with index: 13\n"
     ]
    },
    {
     "name": "stderr",
     "output_type": "stream",
     "text": [
      "Some weights of BERT_PCL were not initialized from the model checkpoint at bert-base-cased and are newly initialized: ['classification.1.bias', 'classification.1.weight']\n",
      "You should probably TRAIN this model on a down-stream task to be able to use it for predictions and inference.\n"
     ]
    },
    {
     "name": "stdout",
     "output_type": "stream",
     "text": [
      "inserted False\n",
      "subbed True\n",
      "back_translated False\n",
      "deleted False\n",
      "swapped False\n"
     ]
    },
    {
     "data": {
      "text/html": [
       "\n",
       "    <div>\n",
       "      \n",
       "      <progress value='700' max='1400' style='width:300px; height:20px; vertical-align: middle;'></progress>\n",
       "      [ 700/1400 08:16 < 08:17, 1.41 it/s, Epoch 3/7]\n",
       "    </div>\n",
       "    <table border=\"1\" class=\"dataframe\">\n",
       "  <thead>\n",
       " <tr style=\"text-align: left;\">\n",
       "      <th>Step</th>\n",
       "      <th>Training Loss</th>\n",
       "      <th>Validation Loss</th>\n",
       "      <th>Accuracy</th>\n",
       "      <th>Precision</th>\n",
       "      <th>Recall</th>\n",
       "      <th>F1</th>\n",
       "    </tr>\n",
       "  </thead>\n",
       "  <tbody>\n",
       "    <tr>\n",
       "      <td>100</td>\n",
       "      <td>0.408900</td>\n",
       "      <td>0.446972</td>\n",
       "      <td>0.898528</td>\n",
       "      <td>1.000000</td>\n",
       "      <td>0.007782</td>\n",
       "      <td>0.015444</td>\n",
       "    </tr>\n",
       "    <tr>\n",
       "      <td>200</td>\n",
       "      <td>0.350200</td>\n",
       "      <td>0.331253</td>\n",
       "      <td>0.907282</td>\n",
       "      <td>0.575949</td>\n",
       "      <td>0.354086</td>\n",
       "      <td>0.438554</td>\n",
       "    </tr>\n",
       "    <tr>\n",
       "      <td>300</td>\n",
       "      <td>0.205200</td>\n",
       "      <td>0.398616</td>\n",
       "      <td>0.910068</td>\n",
       "      <td>0.600000</td>\n",
       "      <td>0.361868</td>\n",
       "      <td>0.451456</td>\n",
       "    </tr>\n",
       "    <tr>\n",
       "      <td>400</td>\n",
       "      <td>0.242000</td>\n",
       "      <td>0.315900</td>\n",
       "      <td>0.892559</td>\n",
       "      <td>0.480826</td>\n",
       "      <td>0.634241</td>\n",
       "      <td>0.546980</td>\n",
       "    </tr>\n",
       "    <tr>\n",
       "      <td>500</td>\n",
       "      <td>0.103200</td>\n",
       "      <td>0.417115</td>\n",
       "      <td>0.893752</td>\n",
       "      <td>0.483221</td>\n",
       "      <td>0.560311</td>\n",
       "      <td>0.518919</td>\n",
       "    </tr>\n",
       "    <tr>\n",
       "      <td>600</td>\n",
       "      <td>0.079400</td>\n",
       "      <td>0.443858</td>\n",
       "      <td>0.886590</td>\n",
       "      <td>0.458580</td>\n",
       "      <td>0.603113</td>\n",
       "      <td>0.521008</td>\n",
       "    </tr>\n",
       "    <tr>\n",
       "      <td>700</td>\n",
       "      <td>0.192100</td>\n",
       "      <td>0.676481</td>\n",
       "      <td>0.913251</td>\n",
       "      <td>0.624204</td>\n",
       "      <td>0.381323</td>\n",
       "      <td>0.473430</td>\n",
       "    </tr>\n",
       "  </tbody>\n",
       "</table><p>"
      ],
      "text/plain": [
       "<IPython.core.display.HTML object>"
      ]
     },
     "metadata": {},
     "output_type": "display_data"
    },
    {
     "name": "stderr",
     "output_type": "stream",
     "text": [
      "Checkpoint destination directory /vol/bitbucket/ahf119/wandtest/checkpoint-100 already exists and is non-empty. Saving will proceed but saved results may be invalid.\n",
      "Checkpoint destination directory /vol/bitbucket/ahf119/wandtest/checkpoint-200 already exists and is non-empty. Saving will proceed but saved results may be invalid.\n",
      "Checkpoint destination directory /vol/bitbucket/ahf119/wandtest/checkpoint-300 already exists and is non-empty. Saving will proceed but saved results may be invalid.\n",
      "Checkpoint destination directory /vol/bitbucket/ahf119/wandtest/checkpoint-400 already exists and is non-empty. Saving will proceed but saved results may be invalid.\n",
      "Checkpoint destination directory /vol/bitbucket/ahf119/wandtest/checkpoint-500 already exists and is non-empty. Saving will proceed but saved results may be invalid.\n",
      "Checkpoint destination directory /vol/bitbucket/ahf119/wandtest/checkpoint-600 already exists and is non-empty. Saving will proceed but saved results may be invalid.\n",
      "Checkpoint destination directory /vol/bitbucket/ahf119/wandtest/checkpoint-700 already exists and is non-empty. Saving will proceed but saved results may be invalid.\n"
     ]
    },
    {
     "data": {
      "application/vnd.jupyter.widget-view+json": {
       "model_id": "6baff08b7f5e4723bb2deed2cf271672",
       "version_major": 2,
       "version_minor": 0
      },
      "text/plain": [
       "  0%|          | 0/2513 [00:00<?, ?it/s]"
      ]
     },
     "metadata": {},
     "output_type": "display_data"
    },
    {
     "name": "stdout",
     "output_type": "stream",
     "text": [
      "Finished param set with index: 14\n"
     ]
    },
    {
     "name": "stderr",
     "output_type": "stream",
     "text": [
      "Some weights of BERT_PCL were not initialized from the model checkpoint at bert-base-cased and are newly initialized: ['classification.1.bias', 'classification.1.weight']\n",
      "You should probably TRAIN this model on a down-stream task to be able to use it for predictions and inference.\n"
     ]
    },
    {
     "name": "stdout",
     "output_type": "stream",
     "text": [
      "inserted False\n",
      "subbed False\n",
      "back_translated True\n",
      "deleted False\n",
      "swapped False\n"
     ]
    },
    {
     "data": {
      "text/html": [
       "\n",
       "    <div>\n",
       "      \n",
       "      <progress value='700' max='1519' style='width:300px; height:20px; vertical-align: middle;'></progress>\n",
       "      [ 700/1519 08:16 < 09:42, 1.41 it/s, Epoch 3/7]\n",
       "    </div>\n",
       "    <table border=\"1\" class=\"dataframe\">\n",
       "  <thead>\n",
       " <tr style=\"text-align: left;\">\n",
       "      <th>Step</th>\n",
       "      <th>Training Loss</th>\n",
       "      <th>Validation Loss</th>\n",
       "      <th>Accuracy</th>\n",
       "      <th>Precision</th>\n",
       "      <th>Recall</th>\n",
       "      <th>F1</th>\n",
       "    </tr>\n",
       "  </thead>\n",
       "  <tbody>\n",
       "    <tr>\n",
       "      <td>100</td>\n",
       "      <td>0.293700</td>\n",
       "      <td>0.464372</td>\n",
       "      <td>0.901711</td>\n",
       "      <td>0.647059</td>\n",
       "      <td>0.085603</td>\n",
       "      <td>0.151203</td>\n",
       "    </tr>\n",
       "    <tr>\n",
       "      <td>200</td>\n",
       "      <td>0.280600</td>\n",
       "      <td>0.397937</td>\n",
       "      <td>0.901711</td>\n",
       "      <td>0.527778</td>\n",
       "      <td>0.369650</td>\n",
       "      <td>0.434783</td>\n",
       "    </tr>\n",
       "    <tr>\n",
       "      <td>300</td>\n",
       "      <td>0.174200</td>\n",
       "      <td>0.447437</td>\n",
       "      <td>0.906884</td>\n",
       "      <td>0.592000</td>\n",
       "      <td>0.287938</td>\n",
       "      <td>0.387435</td>\n",
       "    </tr>\n",
       "    <tr>\n",
       "      <td>400</td>\n",
       "      <td>0.188800</td>\n",
       "      <td>0.332320</td>\n",
       "      <td>0.910068</td>\n",
       "      <td>0.582011</td>\n",
       "      <td>0.428016</td>\n",
       "      <td>0.493274</td>\n",
       "    </tr>\n",
       "    <tr>\n",
       "      <td>500</td>\n",
       "      <td>0.070600</td>\n",
       "      <td>0.574023</td>\n",
       "      <td>0.892161</td>\n",
       "      <td>0.473282</td>\n",
       "      <td>0.482490</td>\n",
       "      <td>0.477842</td>\n",
       "    </tr>\n",
       "    <tr>\n",
       "      <td>600</td>\n",
       "      <td>0.024300</td>\n",
       "      <td>0.703947</td>\n",
       "      <td>0.901711</td>\n",
       "      <td>0.532895</td>\n",
       "      <td>0.315175</td>\n",
       "      <td>0.396088</td>\n",
       "    </tr>\n",
       "    <tr>\n",
       "      <td>700</td>\n",
       "      <td>0.043900</td>\n",
       "      <td>0.914320</td>\n",
       "      <td>0.911659</td>\n",
       "      <td>0.769231</td>\n",
       "      <td>0.194553</td>\n",
       "      <td>0.310559</td>\n",
       "    </tr>\n",
       "  </tbody>\n",
       "</table><p>"
      ],
      "text/plain": [
       "<IPython.core.display.HTML object>"
      ]
     },
     "metadata": {},
     "output_type": "display_data"
    },
    {
     "name": "stderr",
     "output_type": "stream",
     "text": [
      "Checkpoint destination directory /vol/bitbucket/ahf119/wandtest/checkpoint-100 already exists and is non-empty. Saving will proceed but saved results may be invalid.\n",
      "Checkpoint destination directory /vol/bitbucket/ahf119/wandtest/checkpoint-200 already exists and is non-empty. Saving will proceed but saved results may be invalid.\n",
      "Checkpoint destination directory /vol/bitbucket/ahf119/wandtest/checkpoint-300 already exists and is non-empty. Saving will proceed but saved results may be invalid.\n",
      "Checkpoint destination directory /vol/bitbucket/ahf119/wandtest/checkpoint-400 already exists and is non-empty. Saving will proceed but saved results may be invalid.\n",
      "Checkpoint destination directory /vol/bitbucket/ahf119/wandtest/checkpoint-500 already exists and is non-empty. Saving will proceed but saved results may be invalid.\n",
      "Checkpoint destination directory /vol/bitbucket/ahf119/wandtest/checkpoint-600 already exists and is non-empty. Saving will proceed but saved results may be invalid.\n",
      "Checkpoint destination directory /vol/bitbucket/ahf119/wandtest/checkpoint-700 already exists and is non-empty. Saving will proceed but saved results may be invalid.\n"
     ]
    },
    {
     "data": {
      "application/vnd.jupyter.widget-view+json": {
       "model_id": "e8bdb1ba37ee49d4b7f0446e3176358a",
       "version_major": 2,
       "version_minor": 0
      },
      "text/plain": [
       "  0%|          | 0/2513 [00:00<?, ?it/s]"
      ]
     },
     "metadata": {},
     "output_type": "display_data"
    },
    {
     "name": "stdout",
     "output_type": "stream",
     "text": [
      "Finished param set with index: 15\n"
     ]
    },
    {
     "name": "stderr",
     "output_type": "stream",
     "text": [
      "Some weights of BERT_PCL were not initialized from the model checkpoint at bert-base-cased and are newly initialized: ['classification.1.bias', 'classification.1.weight']\n",
      "You should probably TRAIN this model on a down-stream task to be able to use it for predictions and inference.\n"
     ]
    },
    {
     "name": "stdout",
     "output_type": "stream",
     "text": [
      "inserted False\n",
      "subbed False\n",
      "back_translated False\n",
      "deleted True\n",
      "swapped False\n"
     ]
    },
    {
     "data": {
      "text/html": [
       "\n",
       "    <div>\n",
       "      \n",
       "      <progress value='700' max='1400' style='width:300px; height:20px; vertical-align: middle;'></progress>\n",
       "      [ 700/1400 08:17 < 08:18, 1.40 it/s, Epoch 3/7]\n",
       "    </div>\n",
       "    <table border=\"1\" class=\"dataframe\">\n",
       "  <thead>\n",
       " <tr style=\"text-align: left;\">\n",
       "      <th>Step</th>\n",
       "      <th>Training Loss</th>\n",
       "      <th>Validation Loss</th>\n",
       "      <th>Accuracy</th>\n",
       "      <th>Precision</th>\n",
       "      <th>Recall</th>\n",
       "      <th>F1</th>\n",
       "    </tr>\n",
       "  </thead>\n",
       "  <tbody>\n",
       "    <tr>\n",
       "      <td>100</td>\n",
       "      <td>0.479900</td>\n",
       "      <td>0.392190</td>\n",
       "      <td>0.902905</td>\n",
       "      <td>0.760000</td>\n",
       "      <td>0.073930</td>\n",
       "      <td>0.134752</td>\n",
       "    </tr>\n",
       "    <tr>\n",
       "      <td>200</td>\n",
       "      <td>0.466100</td>\n",
       "      <td>0.415472</td>\n",
       "      <td>0.813370</td>\n",
       "      <td>0.326797</td>\n",
       "      <td>0.778210</td>\n",
       "      <td>0.460299</td>\n",
       "    </tr>\n",
       "    <tr>\n",
       "      <td>300</td>\n",
       "      <td>0.226100</td>\n",
       "      <td>0.404924</td>\n",
       "      <td>0.886988</td>\n",
       "      <td>0.458967</td>\n",
       "      <td>0.587549</td>\n",
       "      <td>0.515358</td>\n",
       "    </tr>\n",
       "    <tr>\n",
       "      <td>400</td>\n",
       "      <td>0.198600</td>\n",
       "      <td>0.414408</td>\n",
       "      <td>0.904895</td>\n",
       "      <td>0.534351</td>\n",
       "      <td>0.544747</td>\n",
       "      <td>0.539499</td>\n",
       "    </tr>\n",
       "    <tr>\n",
       "      <td>500</td>\n",
       "      <td>0.131600</td>\n",
       "      <td>0.428796</td>\n",
       "      <td>0.902507</td>\n",
       "      <td>0.525000</td>\n",
       "      <td>0.490272</td>\n",
       "      <td>0.507042</td>\n",
       "    </tr>\n",
       "    <tr>\n",
       "      <td>600</td>\n",
       "      <td>0.039600</td>\n",
       "      <td>0.598494</td>\n",
       "      <td>0.902507</td>\n",
       "      <td>0.525641</td>\n",
       "      <td>0.478599</td>\n",
       "      <td>0.501018</td>\n",
       "    </tr>\n",
       "    <tr>\n",
       "      <td>700</td>\n",
       "      <td>0.064900</td>\n",
       "      <td>0.783715</td>\n",
       "      <td>0.910864</td>\n",
       "      <td>0.627907</td>\n",
       "      <td>0.315175</td>\n",
       "      <td>0.419689</td>\n",
       "    </tr>\n",
       "  </tbody>\n",
       "</table><p>"
      ],
      "text/plain": [
       "<IPython.core.display.HTML object>"
      ]
     },
     "metadata": {},
     "output_type": "display_data"
    },
    {
     "name": "stderr",
     "output_type": "stream",
     "text": [
      "Checkpoint destination directory /vol/bitbucket/ahf119/wandtest/checkpoint-100 already exists and is non-empty. Saving will proceed but saved results may be invalid.\n",
      "Checkpoint destination directory /vol/bitbucket/ahf119/wandtest/checkpoint-200 already exists and is non-empty. Saving will proceed but saved results may be invalid.\n",
      "Checkpoint destination directory /vol/bitbucket/ahf119/wandtest/checkpoint-300 already exists and is non-empty. Saving will proceed but saved results may be invalid.\n",
      "Checkpoint destination directory /vol/bitbucket/ahf119/wandtest/checkpoint-400 already exists and is non-empty. Saving will proceed but saved results may be invalid.\n",
      "Checkpoint destination directory /vol/bitbucket/ahf119/wandtest/checkpoint-500 already exists and is non-empty. Saving will proceed but saved results may be invalid.\n",
      "Checkpoint destination directory /vol/bitbucket/ahf119/wandtest/checkpoint-600 already exists and is non-empty. Saving will proceed but saved results may be invalid.\n",
      "Checkpoint destination directory /vol/bitbucket/ahf119/wandtest/checkpoint-700 already exists and is non-empty. Saving will proceed but saved results may be invalid.\n"
     ]
    },
    {
     "data": {
      "application/vnd.jupyter.widget-view+json": {
       "model_id": "6cf08bb670cb45be822f374fad58058c",
       "version_major": 2,
       "version_minor": 0
      },
      "text/plain": [
       "  0%|          | 0/2513 [00:00<?, ?it/s]"
      ]
     },
     "metadata": {},
     "output_type": "display_data"
    },
    {
     "name": "stdout",
     "output_type": "stream",
     "text": [
      "Finished param set with index: 16\n"
     ]
    },
    {
     "name": "stderr",
     "output_type": "stream",
     "text": [
      "Some weights of BERT_PCL were not initialized from the model checkpoint at bert-base-cased and are newly initialized: ['classification.1.bias', 'classification.1.weight']\n",
      "You should probably TRAIN this model on a down-stream task to be able to use it for predictions and inference.\n"
     ]
    },
    {
     "name": "stdout",
     "output_type": "stream",
     "text": [
      "inserted False\n",
      "subbed False\n",
      "back_translated False\n",
      "deleted False\n",
      "swapped True\n"
     ]
    },
    {
     "data": {
      "text/html": [
       "\n",
       "    <div>\n",
       "      \n",
       "      <progress value='800' max='1400' style='width:300px; height:20px; vertical-align: middle;'></progress>\n",
       "      [ 800/1400 09:28 < 07:07, 1.40 it/s, Epoch 4/7]\n",
       "    </div>\n",
       "    <table border=\"1\" class=\"dataframe\">\n",
       "  <thead>\n",
       " <tr style=\"text-align: left;\">\n",
       "      <th>Step</th>\n",
       "      <th>Training Loss</th>\n",
       "      <th>Validation Loss</th>\n",
       "      <th>Accuracy</th>\n",
       "      <th>Precision</th>\n",
       "      <th>Recall</th>\n",
       "      <th>F1</th>\n",
       "    </tr>\n",
       "  </thead>\n",
       "  <tbody>\n",
       "    <tr>\n",
       "      <td>100</td>\n",
       "      <td>0.394400</td>\n",
       "      <td>0.345990</td>\n",
       "      <td>0.886590</td>\n",
       "      <td>0.453333</td>\n",
       "      <td>0.529183</td>\n",
       "      <td>0.488330</td>\n",
       "    </tr>\n",
       "    <tr>\n",
       "      <td>200</td>\n",
       "      <td>0.381000</td>\n",
       "      <td>0.362794</td>\n",
       "      <td>0.825706</td>\n",
       "      <td>0.343696</td>\n",
       "      <td>0.774319</td>\n",
       "      <td>0.476077</td>\n",
       "    </tr>\n",
       "    <tr>\n",
       "      <td>300</td>\n",
       "      <td>0.227100</td>\n",
       "      <td>0.350858</td>\n",
       "      <td>0.900915</td>\n",
       "      <td>0.517241</td>\n",
       "      <td>0.466926</td>\n",
       "      <td>0.490798</td>\n",
       "    </tr>\n",
       "    <tr>\n",
       "      <td>400</td>\n",
       "      <td>0.265700</td>\n",
       "      <td>0.336412</td>\n",
       "      <td>0.894946</td>\n",
       "      <td>0.488599</td>\n",
       "      <td>0.583658</td>\n",
       "      <td>0.531915</td>\n",
       "    </tr>\n",
       "    <tr>\n",
       "      <td>500</td>\n",
       "      <td>0.107200</td>\n",
       "      <td>0.385698</td>\n",
       "      <td>0.891365</td>\n",
       "      <td>0.476048</td>\n",
       "      <td>0.618677</td>\n",
       "      <td>0.538071</td>\n",
       "    </tr>\n",
       "    <tr>\n",
       "      <td>600</td>\n",
       "      <td>0.114500</td>\n",
       "      <td>0.445377</td>\n",
       "      <td>0.917230</td>\n",
       "      <td>0.671329</td>\n",
       "      <td>0.373541</td>\n",
       "      <td>0.480000</td>\n",
       "    </tr>\n",
       "    <tr>\n",
       "      <td>700</td>\n",
       "      <td>0.083500</td>\n",
       "      <td>0.667668</td>\n",
       "      <td>0.914047</td>\n",
       "      <td>0.612022</td>\n",
       "      <td>0.435798</td>\n",
       "      <td>0.509091</td>\n",
       "    </tr>\n",
       "    <tr>\n",
       "      <td>800</td>\n",
       "      <td>0.068800</td>\n",
       "      <td>0.650151</td>\n",
       "      <td>0.918026</td>\n",
       "      <td>0.666667</td>\n",
       "      <td>0.396887</td>\n",
       "      <td>0.497561</td>\n",
       "    </tr>\n",
       "  </tbody>\n",
       "</table><p>"
      ],
      "text/plain": [
       "<IPython.core.display.HTML object>"
      ]
     },
     "metadata": {},
     "output_type": "display_data"
    },
    {
     "name": "stderr",
     "output_type": "stream",
     "text": [
      "Checkpoint destination directory /vol/bitbucket/ahf119/wandtest/checkpoint-100 already exists and is non-empty. Saving will proceed but saved results may be invalid.\n",
      "Checkpoint destination directory /vol/bitbucket/ahf119/wandtest/checkpoint-200 already exists and is non-empty. Saving will proceed but saved results may be invalid.\n",
      "Checkpoint destination directory /vol/bitbucket/ahf119/wandtest/checkpoint-300 already exists and is non-empty. Saving will proceed but saved results may be invalid.\n",
      "Checkpoint destination directory /vol/bitbucket/ahf119/wandtest/checkpoint-400 already exists and is non-empty. Saving will proceed but saved results may be invalid.\n",
      "Checkpoint destination directory /vol/bitbucket/ahf119/wandtest/checkpoint-500 already exists and is non-empty. Saving will proceed but saved results may be invalid.\n",
      "Checkpoint destination directory /vol/bitbucket/ahf119/wandtest/checkpoint-600 already exists and is non-empty. Saving will proceed but saved results may be invalid.\n",
      "Checkpoint destination directory /vol/bitbucket/ahf119/wandtest/checkpoint-700 already exists and is non-empty. Saving will proceed but saved results may be invalid.\n",
      "Checkpoint destination directory /vol/bitbucket/ahf119/wandtest/checkpoint-800 already exists and is non-empty. Saving will proceed but saved results may be invalid.\n"
     ]
    },
    {
     "data": {
      "application/vnd.jupyter.widget-view+json": {
       "model_id": "dfa4e19ab89a4c8fa1f415a1926b8fa7",
       "version_major": 2,
       "version_minor": 0
      },
      "text/plain": [
       "  0%|          | 0/2513 [00:00<?, ?it/s]"
      ]
     },
     "metadata": {},
     "output_type": "display_data"
    },
    {
     "name": "stdout",
     "output_type": "stream",
     "text": [
      "Finished param set with index: 17\n"
     ]
    },
    {
     "name": "stderr",
     "output_type": "stream",
     "text": [
      "Some weights of BERT_PCL were not initialized from the model checkpoint at bert-base-cased and are newly initialized: ['classification.1.bias', 'classification.1.weight']\n",
      "You should probably TRAIN this model on a down-stream task to be able to use it for predictions and inference.\n"
     ]
    },
    {
     "name": "stdout",
     "output_type": "stream",
     "text": [
      "inserted False\n",
      "subbed False\n",
      "back_translated False\n",
      "deleted False\n",
      "swapped False\n"
     ]
    },
    {
     "data": {
      "text/html": [
       "\n",
       "    <div>\n",
       "      \n",
       "      <progress value='1000' max='1288' style='width:300px; height:20px; vertical-align: middle;'></progress>\n",
       "      [1000/1288 11:48 < 03:24, 1.41 it/s, Epoch 5/7]\n",
       "    </div>\n",
       "    <table border=\"1\" class=\"dataframe\">\n",
       "  <thead>\n",
       " <tr style=\"text-align: left;\">\n",
       "      <th>Step</th>\n",
       "      <th>Training Loss</th>\n",
       "      <th>Validation Loss</th>\n",
       "      <th>Accuracy</th>\n",
       "      <th>Precision</th>\n",
       "      <th>Recall</th>\n",
       "      <th>F1</th>\n",
       "    </tr>\n",
       "  </thead>\n",
       "  <tbody>\n",
       "    <tr>\n",
       "      <td>100</td>\n",
       "      <td>0.240000</td>\n",
       "      <td>0.383785</td>\n",
       "      <td>0.898130</td>\n",
       "      <td>0.502392</td>\n",
       "      <td>0.408560</td>\n",
       "      <td>0.450644</td>\n",
       "    </tr>\n",
       "    <tr>\n",
       "      <td>200</td>\n",
       "      <td>0.275600</td>\n",
       "      <td>0.351272</td>\n",
       "      <td>0.908078</td>\n",
       "      <td>0.568421</td>\n",
       "      <td>0.420233</td>\n",
       "      <td>0.483221</td>\n",
       "    </tr>\n",
       "    <tr>\n",
       "      <td>300</td>\n",
       "      <td>0.234800</td>\n",
       "      <td>0.458219</td>\n",
       "      <td>0.904099</td>\n",
       "      <td>0.653846</td>\n",
       "      <td>0.132296</td>\n",
       "      <td>0.220065</td>\n",
       "    </tr>\n",
       "    <tr>\n",
       "      <td>400</td>\n",
       "      <td>0.272700</td>\n",
       "      <td>0.368733</td>\n",
       "      <td>0.881417</td>\n",
       "      <td>0.440580</td>\n",
       "      <td>0.591440</td>\n",
       "      <td>0.504983</td>\n",
       "    </tr>\n",
       "    <tr>\n",
       "      <td>500</td>\n",
       "      <td>0.181500</td>\n",
       "      <td>0.589018</td>\n",
       "      <td>0.901313</td>\n",
       "      <td>0.524064</td>\n",
       "      <td>0.381323</td>\n",
       "      <td>0.441441</td>\n",
       "    </tr>\n",
       "    <tr>\n",
       "      <td>600</td>\n",
       "      <td>0.143200</td>\n",
       "      <td>0.611166</td>\n",
       "      <td>0.904099</td>\n",
       "      <td>0.540000</td>\n",
       "      <td>0.420233</td>\n",
       "      <td>0.472648</td>\n",
       "    </tr>\n",
       "    <tr>\n",
       "      <td>700</td>\n",
       "      <td>0.146400</td>\n",
       "      <td>0.613906</td>\n",
       "      <td>0.906884</td>\n",
       "      <td>0.552511</td>\n",
       "      <td>0.470817</td>\n",
       "      <td>0.508403</td>\n",
       "    </tr>\n",
       "    <tr>\n",
       "      <td>800</td>\n",
       "      <td>0.045400</td>\n",
       "      <td>0.674882</td>\n",
       "      <td>0.906088</td>\n",
       "      <td>0.554974</td>\n",
       "      <td>0.412451</td>\n",
       "      <td>0.473214</td>\n",
       "    </tr>\n",
       "    <tr>\n",
       "      <td>900</td>\n",
       "      <td>0.013500</td>\n",
       "      <td>1.002568</td>\n",
       "      <td>0.910466</td>\n",
       "      <td>0.617647</td>\n",
       "      <td>0.326848</td>\n",
       "      <td>0.427481</td>\n",
       "    </tr>\n",
       "    <tr>\n",
       "      <td>1000</td>\n",
       "      <td>0.000200</td>\n",
       "      <td>1.062900</td>\n",
       "      <td>0.910864</td>\n",
       "      <td>0.613793</td>\n",
       "      <td>0.346304</td>\n",
       "      <td>0.442786</td>\n",
       "    </tr>\n",
       "  </tbody>\n",
       "</table><p>"
      ],
      "text/plain": [
       "<IPython.core.display.HTML object>"
      ]
     },
     "metadata": {},
     "output_type": "display_data"
    },
    {
     "name": "stderr",
     "output_type": "stream",
     "text": [
      "Checkpoint destination directory /vol/bitbucket/ahf119/wandtest/checkpoint-100 already exists and is non-empty. Saving will proceed but saved results may be invalid.\n",
      "Checkpoint destination directory /vol/bitbucket/ahf119/wandtest/checkpoint-200 already exists and is non-empty. Saving will proceed but saved results may be invalid.\n",
      "Checkpoint destination directory /vol/bitbucket/ahf119/wandtest/checkpoint-300 already exists and is non-empty. Saving will proceed but saved results may be invalid.\n",
      "Checkpoint destination directory /vol/bitbucket/ahf119/wandtest/checkpoint-400 already exists and is non-empty. Saving will proceed but saved results may be invalid.\n",
      "Checkpoint destination directory /vol/bitbucket/ahf119/wandtest/checkpoint-500 already exists and is non-empty. Saving will proceed but saved results may be invalid.\n",
      "Checkpoint destination directory /vol/bitbucket/ahf119/wandtest/checkpoint-600 already exists and is non-empty. Saving will proceed but saved results may be invalid.\n",
      "Checkpoint destination directory /vol/bitbucket/ahf119/wandtest/checkpoint-700 already exists and is non-empty. Saving will proceed but saved results may be invalid.\n",
      "Checkpoint destination directory /vol/bitbucket/ahf119/wandtest/checkpoint-800 already exists and is non-empty. Saving will proceed but saved results may be invalid.\n",
      "Checkpoint destination directory /vol/bitbucket/ahf119/wandtest/checkpoint-900 already exists and is non-empty. Saving will proceed but saved results may be invalid.\n",
      "Checkpoint destination directory /vol/bitbucket/ahf119/wandtest/checkpoint-1000 already exists and is non-empty. Saving will proceed but saved results may be invalid.\n"
     ]
    },
    {
     "data": {
      "application/vnd.jupyter.widget-view+json": {
       "model_id": "200ae7fb19ef4a0ea3fc01c465bab0e4",
       "version_major": 2,
       "version_minor": 0
      },
      "text/plain": [
       "  0%|          | 0/2513 [00:00<?, ?it/s]"
      ]
     },
     "metadata": {},
     "output_type": "display_data"
    },
    {
     "name": "stdout",
     "output_type": "stream",
     "text": [
      "Finished param set with index: 18\n"
     ]
    },
    {
     "name": "stderr",
     "output_type": "stream",
     "text": [
      "Some weights of BERT_PCL were not initialized from the model checkpoint at bert-base-cased and are newly initialized: ['classification.1.bias', 'classification.1.weight']\n",
      "You should probably TRAIN this model on a down-stream task to be able to use it for predictions and inference.\n"
     ]
    },
    {
     "name": "stdout",
     "output_type": "stream",
     "text": [
      "inserted True\n",
      "subbed False\n",
      "back_translated False\n",
      "deleted False\n",
      "swapped False\n"
     ]
    },
    {
     "data": {
      "text/html": [
       "\n",
       "    <div>\n",
       "      \n",
       "      <progress value='700' max='1400' style='width:300px; height:20px; vertical-align: middle;'></progress>\n",
       "      [ 700/1400 08:16 < 08:18, 1.41 it/s, Epoch 3/7]\n",
       "    </div>\n",
       "    <table border=\"1\" class=\"dataframe\">\n",
       "  <thead>\n",
       " <tr style=\"text-align: left;\">\n",
       "      <th>Step</th>\n",
       "      <th>Training Loss</th>\n",
       "      <th>Validation Loss</th>\n",
       "      <th>Accuracy</th>\n",
       "      <th>Precision</th>\n",
       "      <th>Recall</th>\n",
       "      <th>F1</th>\n",
       "    </tr>\n",
       "  </thead>\n",
       "  <tbody>\n",
       "    <tr>\n",
       "      <td>100</td>\n",
       "      <td>0.370900</td>\n",
       "      <td>0.339601</td>\n",
       "      <td>0.910864</td>\n",
       "      <td>0.708861</td>\n",
       "      <td>0.217899</td>\n",
       "      <td>0.333333</td>\n",
       "    </tr>\n",
       "    <tr>\n",
       "      <td>200</td>\n",
       "      <td>0.385900</td>\n",
       "      <td>0.369829</td>\n",
       "      <td>0.897732</td>\n",
       "      <td>0.500000</td>\n",
       "      <td>0.023346</td>\n",
       "      <td>0.044610</td>\n",
       "    </tr>\n",
       "    <tr>\n",
       "      <td>300</td>\n",
       "      <td>0.227000</td>\n",
       "      <td>0.342463</td>\n",
       "      <td>0.903701</td>\n",
       "      <td>0.535211</td>\n",
       "      <td>0.443580</td>\n",
       "      <td>0.485106</td>\n",
       "    </tr>\n",
       "    <tr>\n",
       "      <td>400</td>\n",
       "      <td>0.213000</td>\n",
       "      <td>0.309198</td>\n",
       "      <td>0.902905</td>\n",
       "      <td>0.521886</td>\n",
       "      <td>0.603113</td>\n",
       "      <td>0.559567</td>\n",
       "    </tr>\n",
       "    <tr>\n",
       "      <td>500</td>\n",
       "      <td>0.097600</td>\n",
       "      <td>0.393405</td>\n",
       "      <td>0.886590</td>\n",
       "      <td>0.461326</td>\n",
       "      <td>0.649805</td>\n",
       "      <td>0.539580</td>\n",
       "    </tr>\n",
       "    <tr>\n",
       "      <td>600</td>\n",
       "      <td>0.055100</td>\n",
       "      <td>0.479376</td>\n",
       "      <td>0.903701</td>\n",
       "      <td>0.533937</td>\n",
       "      <td>0.459144</td>\n",
       "      <td>0.493724</td>\n",
       "    </tr>\n",
       "    <tr>\n",
       "      <td>700</td>\n",
       "      <td>0.071200</td>\n",
       "      <td>0.745364</td>\n",
       "      <td>0.914445</td>\n",
       "      <td>0.677966</td>\n",
       "      <td>0.311284</td>\n",
       "      <td>0.426667</td>\n",
       "    </tr>\n",
       "  </tbody>\n",
       "</table><p>"
      ],
      "text/plain": [
       "<IPython.core.display.HTML object>"
      ]
     },
     "metadata": {},
     "output_type": "display_data"
    },
    {
     "name": "stderr",
     "output_type": "stream",
     "text": [
      "Checkpoint destination directory /vol/bitbucket/ahf119/wandtest/checkpoint-100 already exists and is non-empty. Saving will proceed but saved results may be invalid.\n",
      "Checkpoint destination directory /vol/bitbucket/ahf119/wandtest/checkpoint-200 already exists and is non-empty. Saving will proceed but saved results may be invalid.\n",
      "Checkpoint destination directory /vol/bitbucket/ahf119/wandtest/checkpoint-300 already exists and is non-empty. Saving will proceed but saved results may be invalid.\n",
      "Checkpoint destination directory /vol/bitbucket/ahf119/wandtest/checkpoint-400 already exists and is non-empty. Saving will proceed but saved results may be invalid.\n",
      "Checkpoint destination directory /vol/bitbucket/ahf119/wandtest/checkpoint-500 already exists and is non-empty. Saving will proceed but saved results may be invalid.\n",
      "Checkpoint destination directory /vol/bitbucket/ahf119/wandtest/checkpoint-600 already exists and is non-empty. Saving will proceed but saved results may be invalid.\n",
      "Checkpoint destination directory /vol/bitbucket/ahf119/wandtest/checkpoint-700 already exists and is non-empty. Saving will proceed but saved results may be invalid.\n"
     ]
    },
    {
     "data": {
      "application/vnd.jupyter.widget-view+json": {
       "model_id": "72041c7a02b14a66acc6137f862dd131",
       "version_major": 2,
       "version_minor": 0
      },
      "text/plain": [
       "  0%|          | 0/2513 [00:00<?, ?it/s]"
      ]
     },
     "metadata": {},
     "output_type": "display_data"
    },
    {
     "name": "stdout",
     "output_type": "stream",
     "text": [
      "Finished param set with index: 19\n"
     ]
    },
    {
     "name": "stderr",
     "output_type": "stream",
     "text": [
      "Some weights of BERT_PCL were not initialized from the model checkpoint at bert-base-cased and are newly initialized: ['classification.1.bias', 'classification.1.weight']\n",
      "You should probably TRAIN this model on a down-stream task to be able to use it for predictions and inference.\n"
     ]
    },
    {
     "name": "stdout",
     "output_type": "stream",
     "text": [
      "inserted False\n",
      "subbed True\n",
      "back_translated False\n",
      "deleted False\n",
      "swapped False\n"
     ]
    },
    {
     "data": {
      "text/html": [
       "\n",
       "    <div>\n",
       "      \n",
       "      <progress value='600' max='1400' style='width:300px; height:20px; vertical-align: middle;'></progress>\n",
       "      [ 600/1400 07:06 < 09:30, 1.40 it/s, Epoch 3/7]\n",
       "    </div>\n",
       "    <table border=\"1\" class=\"dataframe\">\n",
       "  <thead>\n",
       " <tr style=\"text-align: left;\">\n",
       "      <th>Step</th>\n",
       "      <th>Training Loss</th>\n",
       "      <th>Validation Loss</th>\n",
       "      <th>Accuracy</th>\n",
       "      <th>Precision</th>\n",
       "      <th>Recall</th>\n",
       "      <th>F1</th>\n",
       "    </tr>\n",
       "  </thead>\n",
       "  <tbody>\n",
       "    <tr>\n",
       "      <td>100</td>\n",
       "      <td>0.450800</td>\n",
       "      <td>0.420610</td>\n",
       "      <td>0.896936</td>\n",
       "      <td>0.375000</td>\n",
       "      <td>0.011673</td>\n",
       "      <td>0.022642</td>\n",
       "    </tr>\n",
       "    <tr>\n",
       "      <td>200</td>\n",
       "      <td>0.367400</td>\n",
       "      <td>0.342538</td>\n",
       "      <td>0.913649</td>\n",
       "      <td>0.613636</td>\n",
       "      <td>0.420233</td>\n",
       "      <td>0.498845</td>\n",
       "    </tr>\n",
       "    <tr>\n",
       "      <td>300</td>\n",
       "      <td>0.208900</td>\n",
       "      <td>0.349494</td>\n",
       "      <td>0.871866</td>\n",
       "      <td>0.419355</td>\n",
       "      <td>0.657588</td>\n",
       "      <td>0.512121</td>\n",
       "    </tr>\n",
       "    <tr>\n",
       "      <td>400</td>\n",
       "      <td>0.272900</td>\n",
       "      <td>0.360638</td>\n",
       "      <td>0.909670</td>\n",
       "      <td>0.582418</td>\n",
       "      <td>0.412451</td>\n",
       "      <td>0.482916</td>\n",
       "    </tr>\n",
       "    <tr>\n",
       "      <td>500</td>\n",
       "      <td>0.102400</td>\n",
       "      <td>0.473617</td>\n",
       "      <td>0.906884</td>\n",
       "      <td>0.553488</td>\n",
       "      <td>0.463035</td>\n",
       "      <td>0.504237</td>\n",
       "    </tr>\n",
       "    <tr>\n",
       "      <td>600</td>\n",
       "      <td>0.079100</td>\n",
       "      <td>0.555158</td>\n",
       "      <td>0.876641</td>\n",
       "      <td>0.415335</td>\n",
       "      <td>0.505837</td>\n",
       "      <td>0.456140</td>\n",
       "    </tr>\n",
       "  </tbody>\n",
       "</table><p>"
      ],
      "text/plain": [
       "<IPython.core.display.HTML object>"
      ]
     },
     "metadata": {},
     "output_type": "display_data"
    },
    {
     "name": "stderr",
     "output_type": "stream",
     "text": [
      "Checkpoint destination directory /vol/bitbucket/ahf119/wandtest/checkpoint-100 already exists and is non-empty. Saving will proceed but saved results may be invalid.\n",
      "Checkpoint destination directory /vol/bitbucket/ahf119/wandtest/checkpoint-200 already exists and is non-empty. Saving will proceed but saved results may be invalid.\n",
      "Checkpoint destination directory /vol/bitbucket/ahf119/wandtest/checkpoint-300 already exists and is non-empty. Saving will proceed but saved results may be invalid.\n",
      "Checkpoint destination directory /vol/bitbucket/ahf119/wandtest/checkpoint-400 already exists and is non-empty. Saving will proceed but saved results may be invalid.\n",
      "Checkpoint destination directory /vol/bitbucket/ahf119/wandtest/checkpoint-500 already exists and is non-empty. Saving will proceed but saved results may be invalid.\n",
      "Checkpoint destination directory /vol/bitbucket/ahf119/wandtest/checkpoint-600 already exists and is non-empty. Saving will proceed but saved results may be invalid.\n"
     ]
    },
    {
     "data": {
      "application/vnd.jupyter.widget-view+json": {
       "model_id": "fb8a9e4590264a38a5835aa1aaea29d8",
       "version_major": 2,
       "version_minor": 0
      },
      "text/plain": [
       "  0%|          | 0/2513 [00:00<?, ?it/s]"
      ]
     },
     "metadata": {},
     "output_type": "display_data"
    },
    {
     "name": "stdout",
     "output_type": "stream",
     "text": [
      "Finished param set with index: 20\n"
     ]
    },
    {
     "name": "stderr",
     "output_type": "stream",
     "text": [
      "Some weights of BERT_PCL were not initialized from the model checkpoint at bert-base-cased and are newly initialized: ['classification.1.bias', 'classification.1.weight']\n",
      "You should probably TRAIN this model on a down-stream task to be able to use it for predictions and inference.\n"
     ]
    },
    {
     "name": "stdout",
     "output_type": "stream",
     "text": [
      "inserted False\n",
      "subbed False\n",
      "back_translated True\n",
      "deleted False\n",
      "swapped False\n"
     ]
    },
    {
     "data": {
      "text/html": [
       "\n",
       "    <div>\n",
       "      \n",
       "      <progress value='500' max='1519' style='width:300px; height:20px; vertical-align: middle;'></progress>\n",
       "      [ 500/1519 05:54 < 12:04, 1.41 it/s, Epoch 2/7]\n",
       "    </div>\n",
       "    <table border=\"1\" class=\"dataframe\">\n",
       "  <thead>\n",
       " <tr style=\"text-align: left;\">\n",
       "      <th>Step</th>\n",
       "      <th>Training Loss</th>\n",
       "      <th>Validation Loss</th>\n",
       "      <th>Accuracy</th>\n",
       "      <th>Precision</th>\n",
       "      <th>Recall</th>\n",
       "      <th>F1</th>\n",
       "    </tr>\n",
       "  </thead>\n",
       "  <tbody>\n",
       "    <tr>\n",
       "      <td>100</td>\n",
       "      <td>0.315700</td>\n",
       "      <td>0.377218</td>\n",
       "      <td>0.896936</td>\n",
       "      <td>0.492308</td>\n",
       "      <td>0.249027</td>\n",
       "      <td>0.330749</td>\n",
       "    </tr>\n",
       "    <tr>\n",
       "      <td>200</td>\n",
       "      <td>0.277200</td>\n",
       "      <td>0.350064</td>\n",
       "      <td>0.898528</td>\n",
       "      <td>0.504630</td>\n",
       "      <td>0.424125</td>\n",
       "      <td>0.460888</td>\n",
       "    </tr>\n",
       "    <tr>\n",
       "      <td>300</td>\n",
       "      <td>0.155100</td>\n",
       "      <td>0.517569</td>\n",
       "      <td>0.906884</td>\n",
       "      <td>0.595041</td>\n",
       "      <td>0.280156</td>\n",
       "      <td>0.380952</td>\n",
       "    </tr>\n",
       "    <tr>\n",
       "      <td>400</td>\n",
       "      <td>0.170400</td>\n",
       "      <td>0.469832</td>\n",
       "      <td>0.911261</td>\n",
       "      <td>0.625000</td>\n",
       "      <td>0.330739</td>\n",
       "      <td>0.432570</td>\n",
       "    </tr>\n",
       "    <tr>\n",
       "      <td>500</td>\n",
       "      <td>0.151800</td>\n",
       "      <td>0.780353</td>\n",
       "      <td>0.881815</td>\n",
       "      <td>0.421260</td>\n",
       "      <td>0.416342</td>\n",
       "      <td>0.418787</td>\n",
       "    </tr>\n",
       "  </tbody>\n",
       "</table><p>"
      ],
      "text/plain": [
       "<IPython.core.display.HTML object>"
      ]
     },
     "metadata": {},
     "output_type": "display_data"
    },
    {
     "name": "stderr",
     "output_type": "stream",
     "text": [
      "Checkpoint destination directory /vol/bitbucket/ahf119/wandtest/checkpoint-100 already exists and is non-empty. Saving will proceed but saved results may be invalid.\n",
      "Checkpoint destination directory /vol/bitbucket/ahf119/wandtest/checkpoint-200 already exists and is non-empty. Saving will proceed but saved results may be invalid.\n",
      "Checkpoint destination directory /vol/bitbucket/ahf119/wandtest/checkpoint-300 already exists and is non-empty. Saving will proceed but saved results may be invalid.\n",
      "Checkpoint destination directory /vol/bitbucket/ahf119/wandtest/checkpoint-400 already exists and is non-empty. Saving will proceed but saved results may be invalid.\n",
      "Checkpoint destination directory /vol/bitbucket/ahf119/wandtest/checkpoint-500 already exists and is non-empty. Saving will proceed but saved results may be invalid.\n"
     ]
    },
    {
     "data": {
      "application/vnd.jupyter.widget-view+json": {
       "model_id": "1132f60c465d4710b5133369c193d054",
       "version_major": 2,
       "version_minor": 0
      },
      "text/plain": [
       "  0%|          | 0/2513 [00:00<?, ?it/s]"
      ]
     },
     "metadata": {},
     "output_type": "display_data"
    },
    {
     "name": "stdout",
     "output_type": "stream",
     "text": [
      "Finished param set with index: 21\n"
     ]
    },
    {
     "name": "stderr",
     "output_type": "stream",
     "text": [
      "Some weights of BERT_PCL were not initialized from the model checkpoint at bert-base-cased and are newly initialized: ['classification.1.bias', 'classification.1.weight']\n",
      "You should probably TRAIN this model on a down-stream task to be able to use it for predictions and inference.\n"
     ]
    },
    {
     "name": "stdout",
     "output_type": "stream",
     "text": [
      "inserted False\n",
      "subbed False\n",
      "back_translated False\n",
      "deleted True\n",
      "swapped False\n"
     ]
    },
    {
     "data": {
      "text/html": [
       "\n",
       "    <div>\n",
       "      \n",
       "      <progress value='600' max='1400' style='width:300px; height:20px; vertical-align: middle;'></progress>\n",
       "      [ 600/1400 07:05 < 09:29, 1.40 it/s, Epoch 3/7]\n",
       "    </div>\n",
       "    <table border=\"1\" class=\"dataframe\">\n",
       "  <thead>\n",
       " <tr style=\"text-align: left;\">\n",
       "      <th>Step</th>\n",
       "      <th>Training Loss</th>\n",
       "      <th>Validation Loss</th>\n",
       "      <th>Accuracy</th>\n",
       "      <th>Precision</th>\n",
       "      <th>Recall</th>\n",
       "      <th>F1</th>\n",
       "    </tr>\n",
       "  </thead>\n",
       "  <tbody>\n",
       "    <tr>\n",
       "      <td>100</td>\n",
       "      <td>0.397000</td>\n",
       "      <td>0.350792</td>\n",
       "      <td>0.901711</td>\n",
       "      <td>0.647059</td>\n",
       "      <td>0.085603</td>\n",
       "      <td>0.151203</td>\n",
       "    </tr>\n",
       "    <tr>\n",
       "      <td>200</td>\n",
       "      <td>0.416100</td>\n",
       "      <td>0.440858</td>\n",
       "      <td>0.787903</td>\n",
       "      <td>0.302292</td>\n",
       "      <td>0.821012</td>\n",
       "      <td>0.441885</td>\n",
       "    </tr>\n",
       "    <tr>\n",
       "      <td>300</td>\n",
       "      <td>0.139500</td>\n",
       "      <td>0.400424</td>\n",
       "      <td>0.911261</td>\n",
       "      <td>0.590426</td>\n",
       "      <td>0.431907</td>\n",
       "      <td>0.498876</td>\n",
       "    </tr>\n",
       "    <tr>\n",
       "      <td>400</td>\n",
       "      <td>0.190600</td>\n",
       "      <td>0.491225</td>\n",
       "      <td>0.914047</td>\n",
       "      <td>0.651852</td>\n",
       "      <td>0.342412</td>\n",
       "      <td>0.448980</td>\n",
       "    </tr>\n",
       "    <tr>\n",
       "      <td>500</td>\n",
       "      <td>0.152200</td>\n",
       "      <td>0.565083</td>\n",
       "      <td>0.914843</td>\n",
       "      <td>0.693694</td>\n",
       "      <td>0.299611</td>\n",
       "      <td>0.418478</td>\n",
       "    </tr>\n",
       "    <tr>\n",
       "      <td>600</td>\n",
       "      <td>0.048200</td>\n",
       "      <td>0.617061</td>\n",
       "      <td>0.908874</td>\n",
       "      <td>0.570707</td>\n",
       "      <td>0.439689</td>\n",
       "      <td>0.496703</td>\n",
       "    </tr>\n",
       "  </tbody>\n",
       "</table><p>"
      ],
      "text/plain": [
       "<IPython.core.display.HTML object>"
      ]
     },
     "metadata": {},
     "output_type": "display_data"
    },
    {
     "name": "stderr",
     "output_type": "stream",
     "text": [
      "Checkpoint destination directory /vol/bitbucket/ahf119/wandtest/checkpoint-100 already exists and is non-empty. Saving will proceed but saved results may be invalid.\n",
      "Checkpoint destination directory /vol/bitbucket/ahf119/wandtest/checkpoint-200 already exists and is non-empty. Saving will proceed but saved results may be invalid.\n",
      "Checkpoint destination directory /vol/bitbucket/ahf119/wandtest/checkpoint-300 already exists and is non-empty. Saving will proceed but saved results may be invalid.\n",
      "Checkpoint destination directory /vol/bitbucket/ahf119/wandtest/checkpoint-400 already exists and is non-empty. Saving will proceed but saved results may be invalid.\n",
      "Checkpoint destination directory /vol/bitbucket/ahf119/wandtest/checkpoint-500 already exists and is non-empty. Saving will proceed but saved results may be invalid.\n",
      "Checkpoint destination directory /vol/bitbucket/ahf119/wandtest/checkpoint-600 already exists and is non-empty. Saving will proceed but saved results may be invalid.\n"
     ]
    },
    {
     "data": {
      "application/vnd.jupyter.widget-view+json": {
       "model_id": "45b31fc8f2384a08af76da0bebe32ade",
       "version_major": 2,
       "version_minor": 0
      },
      "text/plain": [
       "  0%|          | 0/2513 [00:00<?, ?it/s]"
      ]
     },
     "metadata": {},
     "output_type": "display_data"
    },
    {
     "name": "stdout",
     "output_type": "stream",
     "text": [
      "Finished param set with index: 22\n"
     ]
    },
    {
     "name": "stderr",
     "output_type": "stream",
     "text": [
      "Some weights of BERT_PCL were not initialized from the model checkpoint at bert-base-cased and are newly initialized: ['classification.1.bias', 'classification.1.weight']\n",
      "You should probably TRAIN this model on a down-stream task to be able to use it for predictions and inference.\n"
     ]
    },
    {
     "name": "stdout",
     "output_type": "stream",
     "text": [
      "inserted False\n",
      "subbed False\n",
      "back_translated False\n",
      "deleted False\n",
      "swapped True\n"
     ]
    },
    {
     "data": {
      "text/html": [
       "\n",
       "    <div>\n",
       "      \n",
       "      <progress value='800' max='1400' style='width:300px; height:20px; vertical-align: middle;'></progress>\n",
       "      [ 800/1400 09:27 < 07:06, 1.41 it/s, Epoch 4/7]\n",
       "    </div>\n",
       "    <table border=\"1\" class=\"dataframe\">\n",
       "  <thead>\n",
       " <tr style=\"text-align: left;\">\n",
       "      <th>Step</th>\n",
       "      <th>Training Loss</th>\n",
       "      <th>Validation Loss</th>\n",
       "      <th>Accuracy</th>\n",
       "      <th>Precision</th>\n",
       "      <th>Recall</th>\n",
       "      <th>F1</th>\n",
       "    </tr>\n",
       "  </thead>\n",
       "  <tbody>\n",
       "    <tr>\n",
       "      <td>100</td>\n",
       "      <td>0.399100</td>\n",
       "      <td>0.347497</td>\n",
       "      <td>0.909272</td>\n",
       "      <td>0.635514</td>\n",
       "      <td>0.264591</td>\n",
       "      <td>0.373626</td>\n",
       "    </tr>\n",
       "    <tr>\n",
       "      <td>200</td>\n",
       "      <td>0.359600</td>\n",
       "      <td>0.390731</td>\n",
       "      <td>0.789097</td>\n",
       "      <td>0.298969</td>\n",
       "      <td>0.789883</td>\n",
       "      <td>0.433761</td>\n",
       "    </tr>\n",
       "    <tr>\n",
       "      <td>300</td>\n",
       "      <td>0.178300</td>\n",
       "      <td>0.311135</td>\n",
       "      <td>0.894150</td>\n",
       "      <td>0.484642</td>\n",
       "      <td>0.552529</td>\n",
       "      <td>0.516364</td>\n",
       "    </tr>\n",
       "    <tr>\n",
       "      <td>400</td>\n",
       "      <td>0.171500</td>\n",
       "      <td>0.395407</td>\n",
       "      <td>0.907282</td>\n",
       "      <td>0.562500</td>\n",
       "      <td>0.420233</td>\n",
       "      <td>0.481069</td>\n",
       "    </tr>\n",
       "    <tr>\n",
       "      <td>500</td>\n",
       "      <td>0.120200</td>\n",
       "      <td>0.432937</td>\n",
       "      <td>0.900915</td>\n",
       "      <td>0.515504</td>\n",
       "      <td>0.517510</td>\n",
       "      <td>0.516505</td>\n",
       "    </tr>\n",
       "    <tr>\n",
       "      <td>600</td>\n",
       "      <td>0.107200</td>\n",
       "      <td>0.496840</td>\n",
       "      <td>0.879029</td>\n",
       "      <td>0.427692</td>\n",
       "      <td>0.540856</td>\n",
       "      <td>0.477663</td>\n",
       "    </tr>\n",
       "    <tr>\n",
       "      <td>700</td>\n",
       "      <td>0.052700</td>\n",
       "      <td>0.800219</td>\n",
       "      <td>0.911261</td>\n",
       "      <td>0.634921</td>\n",
       "      <td>0.311284</td>\n",
       "      <td>0.417755</td>\n",
       "    </tr>\n",
       "    <tr>\n",
       "      <td>800</td>\n",
       "      <td>0.047300</td>\n",
       "      <td>0.707041</td>\n",
       "      <td>0.912853</td>\n",
       "      <td>0.620253</td>\n",
       "      <td>0.381323</td>\n",
       "      <td>0.472289</td>\n",
       "    </tr>\n",
       "  </tbody>\n",
       "</table><p>"
      ],
      "text/plain": [
       "<IPython.core.display.HTML object>"
      ]
     },
     "metadata": {},
     "output_type": "display_data"
    },
    {
     "name": "stderr",
     "output_type": "stream",
     "text": [
      "Checkpoint destination directory /vol/bitbucket/ahf119/wandtest/checkpoint-100 already exists and is non-empty. Saving will proceed but saved results may be invalid.\n",
      "Checkpoint destination directory /vol/bitbucket/ahf119/wandtest/checkpoint-200 already exists and is non-empty. Saving will proceed but saved results may be invalid.\n",
      "Checkpoint destination directory /vol/bitbucket/ahf119/wandtest/checkpoint-300 already exists and is non-empty. Saving will proceed but saved results may be invalid.\n",
      "Checkpoint destination directory /vol/bitbucket/ahf119/wandtest/checkpoint-400 already exists and is non-empty. Saving will proceed but saved results may be invalid.\n",
      "Checkpoint destination directory /vol/bitbucket/ahf119/wandtest/checkpoint-500 already exists and is non-empty. Saving will proceed but saved results may be invalid.\n",
      "Checkpoint destination directory /vol/bitbucket/ahf119/wandtest/checkpoint-600 already exists and is non-empty. Saving will proceed but saved results may be invalid.\n",
      "Checkpoint destination directory /vol/bitbucket/ahf119/wandtest/checkpoint-700 already exists and is non-empty. Saving will proceed but saved results may be invalid.\n",
      "Checkpoint destination directory /vol/bitbucket/ahf119/wandtest/checkpoint-800 already exists and is non-empty. Saving will proceed but saved results may be invalid.\n"
     ]
    },
    {
     "data": {
      "application/vnd.jupyter.widget-view+json": {
       "model_id": "8401cbc971124f2c9e203be54584330f",
       "version_major": 2,
       "version_minor": 0
      },
      "text/plain": [
       "  0%|          | 0/2513 [00:00<?, ?it/s]"
      ]
     },
     "metadata": {},
     "output_type": "display_data"
    },
    {
     "name": "stdout",
     "output_type": "stream",
     "text": [
      "Finished param set with index: 23\n"
     ]
    }
   ],
   "source": [
    "best_f1 = -1\n",
    "\n",
    "current_parameter = 0\n",
    "for i, param_set in enumerate(param_grid):\n",
    "    if i < current_parameter:\n",
    "        continue\n",
    "    best_f1 = train_once(param_set[0], param_set[1], params['augmentation'][param_set[2]], best_f1)\n",
    "    print(f'Finished param set with index: {i}')"
   ]
  }
 ],
 "metadata": {
  "kernelspec": {
   "display_name": "Python 3 (ipykernel)",
   "language": "python",
   "name": "python3"
  },
  "language_info": {
   "codemirror_mode": {
    "name": "ipython",
    "version": 3
   },
   "file_extension": ".py",
   "mimetype": "text/x-python",
   "name": "python",
   "nbconvert_exporter": "python",
   "pygments_lexer": "ipython3",
   "version": "3.10.12"
  }
 },
 "nbformat": 4,
 "nbformat_minor": 5
}
