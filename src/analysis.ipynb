{
 "cells": [
  {
   "cell_type": "code",
   "execution_count": 1,
   "metadata": {},
   "outputs": [
    {
     "name": "stdout",
     "output_type": "stream",
     "text": [
      "WARNING: You may want to change the runtime to GPU for faster training!\n",
      "WARNING: You may want to change the runtime to GPU for faster training!\n"
     ]
    }
   ],
   "source": [
    "import torch\n",
    "import transformers\n",
    "import torch.nn as nn\n",
    "from torch.utils.data import DataLoader\n",
    "from tqdm.notebook import tqdm\n",
    "\n",
    "from transformers import Trainer, TrainingArguments\n",
    "from transformers import BertTokenizer\n",
    "from transformers import BertPreTrainedModel, BertModel, DistilBertPreTrainedModel, DistilBertModel, DistilBertConfig\n",
    "from transformers import RobertaTokenizer\n",
    "\n",
    "import pandas as pd\n",
    "import numpy as np\n",
    "import matplotlib.pyplot as plt\n",
    "import os\n",
    "import csv\n",
    "\n",
    "from sklearn.metrics import classification_report\n",
    "\n",
    "# just checking somethingdf\n",
    "from datasets import Dataset\n",
    "\n",
    "# my custom function\n",
    "import utils\n",
    "import importlib\n",
    "from sklearn.model_selection import train_test_split\n",
    "from sklearn.metrics import f1_score\n",
    "\n",
    "# import the libraries from bert\n",
    "from bert import BERT_PCL, PCLDataset, Trainer_PCL, DistillBert_PCL, RobertaPCL\n",
    "from bert import predict_pcl\n",
    "import bert\n",
    "\n",
    "if not torch.cuda.is_available():\n",
    "  print('WARNING: You may want to change the runtime to GPU for faster training!')\n",
    "  DEVICE = 'cpu'\n",
    "else:\n",
    "  DEVICE = 'cuda:0'\n",
    "\n",
    "import os\n",
    "import pickle\n",
    "from itertools import product\n",
    "content = os.path.abspath('/vol/bitbucket/ahf119/')"
   ]
  },
  {
   "cell_type": "markdown",
   "metadata": {},
   "source": [
    "# Reading in the data"
   ]
  },
  {
   "cell_type": "code",
   "execution_count": 28,
   "metadata": {},
   "outputs": [],
   "source": [
    "preds_roberta_test = np.load('predictions/preds_roberta_test.npy')\n",
    "preds_bert_case_test = np.load('predictions/preds_bert_cased_test.npy')\n",
    "preds_bert_uncase_test = np.load('predictions/preds_bert_uncased_test.npy')"
   ]
  },
  {
   "cell_type": "code",
   "execution_count": 29,
   "metadata": {},
   "outputs": [],
   "source": [
    "majority_vote_test = np.int8((preds_bert_case_test + preds_roberta_test + preds_bert_uncase_test) > 1)"
   ]
  },
  {
   "cell_type": "code",
   "execution_count": 30,
   "metadata": {},
   "outputs": [],
   "source": [
    "df_train, df_val, df_test = utils.load_train_and_val()"
   ]
  },
  {
   "cell_type": "markdown",
   "metadata": {},
   "source": [
    "# Analysis question 1"
   ]
  },
  {
   "cell_type": "code",
   "execution_count": 31,
   "metadata": {},
   "outputs": [
    {
     "data": {
      "text/html": [
       "<div>\n",
       "<style scoped>\n",
       "    .dataframe tbody tr th:only-of-type {\n",
       "        vertical-align: middle;\n",
       "    }\n",
       "\n",
       "    .dataframe tbody tr th {\n",
       "        vertical-align: top;\n",
       "    }\n",
       "\n",
       "    .dataframe thead th {\n",
       "        text-align: right;\n",
       "    }\n",
       "</style>\n",
       "<table border=\"1\" class=\"dataframe\">\n",
       "  <thead>\n",
       "    <tr style=\"text-align: right;\">\n",
       "      <th></th>\n",
       "      <th>par_id</th>\n",
       "      <th>art_id</th>\n",
       "      <th>keyword</th>\n",
       "      <th>countrycode</th>\n",
       "      <th>text</th>\n",
       "      <th>label</th>\n",
       "      <th>bin_label</th>\n",
       "    </tr>\n",
       "  </thead>\n",
       "  <tbody>\n",
       "    <tr>\n",
       "      <th>106</th>\n",
       "      <td>107</td>\n",
       "      <td>@@16900972</td>\n",
       "      <td>homeless</td>\n",
       "      <td>ke</td>\n",
       "      <td>His present \" chambers \" may be quite humble ,...</td>\n",
       "      <td>3</td>\n",
       "      <td>True</td>\n",
       "    </tr>\n",
       "    <tr>\n",
       "      <th>148</th>\n",
       "      <td>149</td>\n",
       "      <td>@@1387882</td>\n",
       "      <td>disabled</td>\n",
       "      <td>us</td>\n",
       "      <td>Krueger recently harnessed that creativity to ...</td>\n",
       "      <td>2</td>\n",
       "      <td>True</td>\n",
       "    </tr>\n",
       "    <tr>\n",
       "      <th>150</th>\n",
       "      <td>151</td>\n",
       "      <td>@@19974860</td>\n",
       "      <td>poor-families</td>\n",
       "      <td>in</td>\n",
       "      <td>10:41am - Parents of children who died must ge...</td>\n",
       "      <td>3</td>\n",
       "      <td>True</td>\n",
       "    </tr>\n",
       "    <tr>\n",
       "      <th>153</th>\n",
       "      <td>154</td>\n",
       "      <td>@@20663936</td>\n",
       "      <td>disabled</td>\n",
       "      <td>ng</td>\n",
       "      <td>When some people feel causing problem for some...</td>\n",
       "      <td>4</td>\n",
       "      <td>True</td>\n",
       "    </tr>\n",
       "    <tr>\n",
       "      <th>156</th>\n",
       "      <td>157</td>\n",
       "      <td>@@21712008</td>\n",
       "      <td>poor-families</td>\n",
       "      <td>ca</td>\n",
       "      <td>We are alarmed to learn of your recently circu...</td>\n",
       "      <td>4</td>\n",
       "      <td>True</td>\n",
       "    </tr>\n",
       "    <tr>\n",
       "      <th>...</th>\n",
       "      <td>...</td>\n",
       "      <td>...</td>\n",
       "      <td>...</td>\n",
       "      <td>...</td>\n",
       "      <td>...</td>\n",
       "      <td>...</td>\n",
       "      <td>...</td>\n",
       "    </tr>\n",
       "    <tr>\n",
       "      <th>10462</th>\n",
       "      <td>10463</td>\n",
       "      <td>@@4676355</td>\n",
       "      <td>refugee</td>\n",
       "      <td>pk</td>\n",
       "      <td>\" The Pakistani police came to our house and t...</td>\n",
       "      <td>0</td>\n",
       "      <td>False</td>\n",
       "    </tr>\n",
       "    <tr>\n",
       "      <th>10463</th>\n",
       "      <td>10464</td>\n",
       "      <td>@@19612634</td>\n",
       "      <td>disabled</td>\n",
       "      <td>ie</td>\n",
       "      <td>When Marie O'Donoghue went looking for a speci...</td>\n",
       "      <td>0</td>\n",
       "      <td>False</td>\n",
       "    </tr>\n",
       "    <tr>\n",
       "      <th>10464</th>\n",
       "      <td>10465</td>\n",
       "      <td>@@14297363</td>\n",
       "      <td>women</td>\n",
       "      <td>lk</td>\n",
       "      <td>Sri Lankan norms and culture inhibit women fro...</td>\n",
       "      <td>1</td>\n",
       "      <td>False</td>\n",
       "    </tr>\n",
       "    <tr>\n",
       "      <th>10465</th>\n",
       "      <td>10466</td>\n",
       "      <td>@@70091353</td>\n",
       "      <td>vulnerable</td>\n",
       "      <td>ph</td>\n",
       "      <td>He added that the AFP will continue to bank on...</td>\n",
       "      <td>0</td>\n",
       "      <td>False</td>\n",
       "    </tr>\n",
       "    <tr>\n",
       "      <th>10467</th>\n",
       "      <td>10468</td>\n",
       "      <td>@@16753236</td>\n",
       "      <td>hopeless</td>\n",
       "      <td>in</td>\n",
       "      <td>\" Anja Ringgren Loven I ca n't find a word to ...</td>\n",
       "      <td>4</td>\n",
       "      <td>True</td>\n",
       "    </tr>\n",
       "  </tbody>\n",
       "</table>\n",
       "<p>2094 rows × 7 columns</p>\n",
       "</div>"
      ],
      "text/plain": [
       "       par_id      art_id        keyword countrycode  \\\n",
       "106       107  @@16900972       homeless          ke   \n",
       "148       149   @@1387882       disabled          us   \n",
       "150       151  @@19974860  poor-families          in   \n",
       "153       154  @@20663936       disabled          ng   \n",
       "156       157  @@21712008  poor-families          ca   \n",
       "...       ...         ...            ...         ...   \n",
       "10462   10463   @@4676355        refugee          pk   \n",
       "10463   10464  @@19612634       disabled          ie   \n",
       "10464   10465  @@14297363          women          lk   \n",
       "10465   10466  @@70091353     vulnerable          ph   \n",
       "10467   10468  @@16753236       hopeless          in   \n",
       "\n",
       "                                                    text  label  bin_label  \n",
       "106    His present \" chambers \" may be quite humble ,...      3       True  \n",
       "148    Krueger recently harnessed that creativity to ...      2       True  \n",
       "150    10:41am - Parents of children who died must ge...      3       True  \n",
       "153    When some people feel causing problem for some...      4       True  \n",
       "156    We are alarmed to learn of your recently circu...      4       True  \n",
       "...                                                  ...    ...        ...  \n",
       "10462  \" The Pakistani police came to our house and t...      0      False  \n",
       "10463  When Marie O'Donoghue went looking for a speci...      0      False  \n",
       "10464  Sri Lankan norms and culture inhibit women fro...      1      False  \n",
       "10465  He added that the AFP will continue to bank on...      0      False  \n",
       "10467  \" Anja Ringgren Loven I ca n't find a word to ...      4       True  \n",
       "\n",
       "[2094 rows x 7 columns]"
      ]
     },
     "metadata": {},
     "output_type": "display_data"
    }
   ],
   "source": [
    "display(df_test)"
   ]
  },
  {
   "cell_type": "code",
   "execution_count": 43,
   "metadata": {},
   "outputs": [],
   "source": [
    "label4 = (df_test['label'] == 4)\n",
    "true_indices = np.where(label4)[0]\n",
    "true_labels = df_test[label4].bin_label.astype(int)\n",
    "predicted_labels = majority_vote_test[true_indices]\n",
    "accuracy4 = np.mean(true_labels == predicted_labels)"
   ]
  },
  {
   "cell_type": "code",
   "execution_count": 44,
   "metadata": {},
   "outputs": [],
   "source": [
    "label3 = (df_test['label'] == 3)\n",
    "true_indices = np.where(label3)[0]\n",
    "true_labels = df_test[label3].bin_label.astype(int)\n",
    "predicted_labels = majority_vote_test[true_indices]\n",
    "accuracy3 = np.mean(true_labels == predicted_labels)"
   ]
  },
  {
   "cell_type": "code",
   "execution_count": 45,
   "metadata": {},
   "outputs": [],
   "source": [
    "label2 = (df_test['label'] == 2)\n",
    "true_indices = np.where(label2)[0]\n",
    "true_labels = df_test[label2].bin_label.astype(int)\n",
    "predicted_labels = majority_vote_test[true_indices]\n",
    "accuracy2 = np.mean(true_labels == predicted_labels)"
   ]
  },
  {
   "cell_type": "code",
   "execution_count": 53,
   "metadata": {},
   "outputs": [],
   "source": [
    "label1 = (df_test['label'] == 1)\n",
    "true_indices = np.where(label1)[0]\n",
    "true_labels = df_test[label1].bin_label.astype(int)\n",
    "predicted_labels = majority_vote_test[true_indices]\n",
    "accuracy1 = np.mean(predicted_labels == 1)"
   ]
  },
  {
   "cell_type": "code",
   "execution_count": 54,
   "metadata": {},
   "outputs": [],
   "source": [
    "label0 = (df_test['label'] == 0)\n",
    "true_indices = np.where(label0)[0]\n",
    "true_labels = df_test[label0].bin_label.astype(int)\n",
    "predicted_labels = majority_vote_test[true_indices]\n",
    "accuracy0 = np.mean(predicted_labels == 1)"
   ]
  },
  {
   "cell_type": "code",
   "execution_count": 65,
   "metadata": {},
   "outputs": [
    {
     "data": {
      "image/png": "[encoded data removed]",
      "text/plain": [
       "<Figure size 800x600 with 1 Axes>"
      ]
     },
     "metadata": {},
     "output_type": "display_data"
    }
   ],
   "source": [
    "accuracy_values = [accuracy0, accuracy1, accuracy2, accuracy3, accuracy4]  # Example values\n",
    "accuracy_labels = ['Label 0', 'Label 1', 'Label 2', 'Label 3', 'Label 4']\n",
    "\n",
    "# Plotting the bar plot\n",
    "plt.figure(figsize=(8, 6))\n",
    "bar_positions = np.arange(len(accuracy_values))\n",
    "plt.bar(bar_positions, accuracy_values, color='blue', alpha=0.5, label='Proportion PCL predicted')\n",
    "\n",
    "# Adding a trend line\n",
    "plt.plot(bar_positions, accuracy_values, color='darkblue', marker='o', linestyle='-', linewidth=2, markersize=8, label='Trend Line')\n",
    "\n",
    "# Adding the labels and title\n",
    "plt.xticks(bar_positions, accuracy_labels)\n",
    "plt.ylabel('Proportion predicted')\n",
    "# plt.title('Prediction PCL predicted per label on test set')\n",
    "# plt.legend()\n",
    "\n",
    "plt.grid(True, which='both', linestyle='--', linewidth=0.5)\n",
    "plt.tight_layout()\n",
    "plt.savefig('PCL_per_label')\n",
    "plt.show()"
   ]
  },
  {
   "cell_type": "code",
   "execution_count": 61,
   "metadata": {},
   "outputs": [
    {
     "name": "stdout",
     "output_type": "stream",
     "text": [
      "0.16753926701570682 0.16666666666666666\n"
     ]
    }
   ],
   "source": [
    "print(accuracy1, accuracy2)"
   ]
  },
  {
   "cell_type": "code",
   "execution_count": 67,
   "metadata": {},
   "outputs": [
    {
     "name": "stdout",
     "output_type": "stream",
     "text": [
      "0.6630434782608695\n"
     ]
    }
   ],
   "source": [
    "print(accuracy4)"
   ]
  },
  {
   "cell_type": "code",
   "execution_count": 8,
   "metadata": {},
   "outputs": [],
   "source": [
    "df = pd.read_csv('data/task4_test.tsv', sep='\\t')"
   ]
  },
  {
   "cell_type": "code",
   "execution_count": 9,
   "metadata": {},
   "outputs": [
    {
     "data": {
      "text/plain": [
       "3831"
      ]
     },
     "execution_count": 9,
     "metadata": {},
     "output_type": "execute_result"
    }
   ],
   "source": [
    "len(df)"
   ]
  },
  {
   "cell_type": "code",
   "execution_count": null,
   "metadata": {},
   "outputs": [],
   "source": []
  }
 ],
 "metadata": {
  "kernelspec": {
   "display_name": "nlp",
   "language": "python",
   "name": "python3"
  },
  "language_info": {
   "codemirror_mode": {
    "name": "ipython",
    "version": 3
   },
   "file_extension": ".py",
   "mimetype": "text/x-python",
   "name": "python",
   "nbconvert_exporter": "python",
   "pygments_lexer": "ipython3",
   "version": "3.11.7"
  }
 },
 "nbformat": 4,
 "nbformat_minor": 2
}
