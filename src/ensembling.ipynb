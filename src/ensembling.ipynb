{
 "cells": [
  {
   "cell_type": "code",
   "execution_count": 1,
   "id": "9006463f-ae37-4bb5-b115-e1c426fd0c5a",
   "metadata": {},
   "outputs": [],
   "source": [
    "import torch\n",
    "import transformers\n",
    "import torch.nn as nn\n",
    "from torch.utils.data import DataLoader\n",
    "from tqdm.notebook import tqdm\n",
    "\n",
    "from transformers import Trainer, TrainingArguments\n",
    "from transformers import BertTokenizer\n",
    "from transformers import BertPreTrainedModel, BertModel, DistilBertPreTrainedModel, DistilBertModel, DistilBertConfig\n",
    "from transformers import RobertaTokenizer\n",
    "\n",
    "import pandas as pd\n",
    "import numpy as np\n",
    "import os\n",
    "import csv\n",
    "\n",
    "from sklearn.metrics import classification_report\n",
    "\n",
    "# just checking somethingdf\n",
    "from datasets import Dataset\n",
    "\n",
    "# my custom function\n",
    "import utils\n",
    "import importlib\n",
    "from sklearn.model_selection import train_test_split\n",
    "\n",
    "# import the libraries from bert\n",
    "from bert import BERT_PCL, PCLDataset, Trainer_PCL, DistillBert_PCL, RobertaPCL\n",
    "from bert import predict_pcl\n",
    "import bert\n",
    "\n",
    "if not torch.cuda.is_available():\n",
    "  print('WARNING: You may want to change the runtime to GPU for faster training!')\n",
    "  DEVICE = 'cpu'\n",
    "else:\n",
    "  DEVICE = 'cuda:0'\n",
    "\n",
    "import os\n",
    "import pickle\n",
    "from itertools import product\n",
    "content = os.path.abspath('/vol/bitbucket/ahf119/')"
   ]
  },
  {
   "cell_type": "code",
   "execution_count": 2,
   "id": "6c536884-970b-4414-824c-2836772c127f",
   "metadata": {},
   "outputs": [
    {
     "data": {
      "text/plain": [
       "<module 'bert' from '/homes/ahf119/Desktop/nlp_cw/bert.py'>"
      ]
     },
     "execution_count": 2,
     "metadata": {},
     "output_type": "execute_result"
    }
   ],
   "source": [
    "importlib.reload(bert)"
   ]
  },
  {
   "cell_type": "code",
   "execution_count": 17,
   "id": "016a2867-a20e-47c8-ad84-0e761319abf5",
   "metadata": {},
   "outputs": [
    {
     "name": "stdout",
     "output_type": "stream",
     "text": [
      "cuda:0\n"
     ]
    }
   ],
   "source": [
    "print(DEVICE)"
   ]
  },
  {
   "cell_type": "code",
   "execution_count": 18,
   "id": "055ba543-f801-455d-8adf-c2dbb21f95bf",
   "metadata": {},
   "outputs": [],
   "source": [
    "def get_pred(model, data_loader):\n",
    "    total_count = 0\n",
    "    correct_count = 0\n",
    "    preds = []\n",
    "    tot_labels = []\n",
    "\n",
    "    with torch.no_grad():\n",
    "        for data in tqdm(data_loader):\n",
    "            labels = {}\n",
    "            labels['label'] = data['labels']\n",
    "            text = data['input_ids']\n",
    "            attention = data['attention_mask']\n",
    "            pred = predict_pcl(text, attention, model)\n",
    "\n",
    "            preds.append(pred['prediction'].tolist())\n",
    "\n",
    "    return preds"
   ]
  },
  {
   "cell_type": "code",
   "execution_count": 19,
   "id": "fa97e39b-08fc-4419-ab28-22fe9b07cbda",
   "metadata": {},
   "outputs": [],
   "source": [
    "### LOAD ROBERTA MODEL AND GET VALIDATION DATA ###"
   ]
  },
  {
   "cell_type": "code",
   "execution_count": 20,
   "id": "ef80da02-978d-4694-9db2-4a4425c6f5eb",
   "metadata": {},
   "outputs": [
    {
     "name": "stdout",
     "output_type": "stream",
     "text": [
      "inserted False\n",
      "subbed False\n",
      "back_translated True\n",
      "deleted False\n",
      "swapped False\n"
     ]
    }
   ],
   "source": [
    "_, val_dataset, test_dataset = bert.all_augmentations(model_type = 'roberta-base')"
   ]
  },
  {
   "cell_type": "code",
   "execution_count": 21,
   "id": "e3f9f3c2-28ca-4a21-889e-c1e84a5e3e9c",
   "metadata": {},
   "outputs": [],
   "source": [
    "model_path = \"best_model_roberta\"\n",
    "model = RobertaPCL.from_pretrained(model_path)"
   ]
  },
  {
   "cell_type": "code",
   "execution_count": 22,
   "id": "d68f189a-b0c7-4ddd-9994-aa926ac8b3bb",
   "metadata": {},
   "outputs": [
    {
     "data": {
      "application/vnd.jupyter.widget-view+json": {
       "model_id": "f9b75ae44ebd4dc5afc43c324bea4905",
       "version_major": 2,
       "version_minor": 0
      },
      "text/plain": [
       "  0%|          | 0/2094 [00:00<?, ?it/s]"
      ]
     },
     "metadata": {},
     "output_type": "display_data"
    }
   ],
   "source": [
    "preds_roberta_test = get_pred(model, DataLoader(test_dataset))"
   ]
  },
  {
   "cell_type": "code",
   "execution_count": 23,
   "id": "2e79e21b-bd63-44ef-b618-faf662713425",
   "metadata": {},
   "outputs": [],
   "source": [
    "preds_roberta_test = np.array(preds_roberta_test).reshape(-1)"
   ]
  },
  {
   "cell_type": "code",
   "execution_count": 24,
   "id": "b93244b4-3059-4b2e-9225-189e963f6976",
   "metadata": {},
   "outputs": [],
   "source": [
    "np.save('predictions/preds_roberta_test.npy', preds_roberta_test)"
   ]
  },
  {
   "cell_type": "code",
   "execution_count": 25,
   "id": "1339b2d6-4a03-4436-8f89-1ee2d6a899c9",
   "metadata": {},
   "outputs": [],
   "source": [
    "### BERT CASED"
   ]
  },
  {
   "cell_type": "code",
   "execution_count": 26,
   "id": "f9c4b977-5709-47f7-a961-f51905f69553",
   "metadata": {},
   "outputs": [
    {
     "name": "stdout",
     "output_type": "stream",
     "text": [
      "inserted False\n",
      "subbed False\n",
      "back_translated True\n",
      "deleted False\n",
      "swapped False\n"
     ]
    }
   ],
   "source": [
    "_, val_dataset, test_dataset = bert.all_augmentations(model_type = 'bert-base-cased')"
   ]
  },
  {
   "cell_type": "code",
   "execution_count": 27,
   "id": "b723b9a0-8a2a-4567-bbd5-eccd7c3d1129",
   "metadata": {},
   "outputs": [],
   "source": [
    "model_path = \"bert_cased_best_model/best_model\"\n",
    "model = BERT_PCL.from_pretrained(model_path)"
   ]
  },
  {
   "cell_type": "code",
   "execution_count": 28,
   "id": "a7efe9ea-3dd8-4b50-a517-c3d721ea3bc8",
   "metadata": {},
   "outputs": [
    {
     "data": {
      "application/vnd.jupyter.widget-view+json": {
       "model_id": "f4dafb0f1b224bd9a3e9162d41d8bea5",
       "version_major": 2,
       "version_minor": 0
      },
      "text/plain": [
       "  0%|          | 0/2094 [00:00<?, ?it/s]"
      ]
     },
     "metadata": {},
     "output_type": "display_data"
    }
   ],
   "source": [
    "preds_bert_base_cased_test = get_pred(model, DataLoader(test_dataset))"
   ]
  },
  {
   "cell_type": "code",
   "execution_count": 29,
   "id": "f1267f67-495e-4117-b28a-64403313c515",
   "metadata": {},
   "outputs": [],
   "source": [
    "preds_bert_base_cased_test = np.array(preds_bert_base_cased_test).reshape(-1)"
   ]
  },
  {
   "cell_type": "code",
   "execution_count": 30,
   "id": "cc876072-becd-4a23-8ce1-f9d666630a67",
   "metadata": {},
   "outputs": [],
   "source": [
    "np.save('predictions/preds_bert_cased_test.npy', preds_bert_base_cased_test)"
   ]
  },
  {
   "cell_type": "code",
   "execution_count": null,
   "id": "536842d3-3ee5-4944-ac93-0f36d0c6ef97",
   "metadata": {},
   "outputs": [],
   "source": [
    "### BERT UN-CASED ###"
   ]
  },
  {
   "cell_type": "code",
   "execution_count": 31,
   "id": "696e0061-1e92-41c4-9ba8-8721cd8d2bba",
   "metadata": {},
   "outputs": [
    {
     "name": "stdout",
     "output_type": "stream",
     "text": [
      "inserted False\n",
      "subbed False\n",
      "back_translated True\n",
      "deleted False\n",
      "swapped False\n"
     ]
    }
   ],
   "source": [
    "_, val_dataset, test_dataset = bert.all_augmentations(model_type = 'bert-base-uncased')"
   ]
  },
  {
   "cell_type": "code",
   "execution_count": 32,
   "id": "e5cfd6e7-d5df-4930-b46b-488b288dd075",
   "metadata": {},
   "outputs": [],
   "source": [
    "model_path = \"best_model_uncased\"\n",
    "model = BERT_PCL.from_pretrained(model_path)"
   ]
  },
  {
   "cell_type": "code",
   "execution_count": 33,
   "id": "075183d0-2831-4863-98da-48f118d89998",
   "metadata": {},
   "outputs": [
    {
     "data": {
      "application/vnd.jupyter.widget-view+json": {
       "model_id": "98cfd17379e14731a6bb96db8b9f8c2f",
       "version_major": 2,
       "version_minor": 0
      },
      "text/plain": [
       "  0%|          | 0/2094 [00:00<?, ?it/s]"
      ]
     },
     "metadata": {},
     "output_type": "display_data"
    }
   ],
   "source": [
    "preds_bert_base_uncased_test = get_pred(model, DataLoader(test_dataset))"
   ]
  },
  {
   "cell_type": "code",
   "execution_count": 34,
   "id": "2ebc4229-315d-4ee3-9d67-380728ebb216",
   "metadata": {},
   "outputs": [],
   "source": [
    "preds_bert_base_uncased_test = np.array(preds_bert_base_uncased_test).reshape(-1)"
   ]
  },
  {
   "cell_type": "code",
   "execution_count": 35,
   "id": "11365648-7c00-417d-b4d2-e8287f912688",
   "metadata": {},
   "outputs": [],
   "source": [
    "np.save('predictions/preds_bert_uncased_test.npy', preds_bert_base_uncased_test)"
   ]
  },
  {
   "cell_type": "code",
   "execution_count": 52,
   "id": "c8aed098-c5d3-427c-a966-ed6dfe68b585",
   "metadata": {},
   "outputs": [],
   "source": [
    "### True labels"
   ]
  },
  {
   "cell_type": "code",
   "execution_count": 38,
   "id": "f7116493-3c3b-44f7-bea7-5a3021a328ff",
   "metadata": {},
   "outputs": [],
   "source": [
    "# Validation\n",
    "\n",
    "true_test = []\n",
    "\n",
    "for i in range(len(test_dataset)):\n",
    "    true_test.append(test_dataset[i]['labels'].item())\n",
    "\n",
    "true_test = np.array(true_test)\n",
    "\n",
    "np.save('predictions/true_test.npy', true_test)"
   ]
  },
  {
   "cell_type": "code",
   "execution_count": null,
   "id": "ed09e126-0070-49f7-91a4-453b54fc3cf5",
   "metadata": {},
   "outputs": [],
   "source": [
    "# Test\n",
    "\n",
    "true_val = []\n",
    "\n",
    "for i in range(len(val_dataset)):\n",
    "    true_val.append(val_dataset[i]['labels'].item())\n",
    "\n",
    "true_val = np.array(true_val)\n",
    "\n",
    "np.save('predictions/true_val.npy', true_val)"
   ]
  },
  {
   "cell_type": "markdown",
   "id": "31f20e92-23e5-43e4-a4b5-59bc89136fa8",
   "metadata": {},
   "source": [
    "### Get metrics VALIDATION"
   ]
  },
  {
   "cell_type": "code",
   "execution_count": 3,
   "id": "ec0b1d3c-286e-42bb-964d-ceb84e2380a2",
   "metadata": {},
   "outputs": [],
   "source": [
    "from sklearn.metrics import f1_score\n",
    "from sklearn.metrics import recall_score\n",
    "from sklearn.metrics import precision_score\n",
    "\n",
    "true_val = np.load('predictions/true_val.npy')"
   ]
  },
  {
   "cell_type": "code",
   "execution_count": 4,
   "id": "8c3f0246-673e-4878-b494-fad2488f0c69",
   "metadata": {},
   "outputs": [
    {
     "name": "stdout",
     "output_type": "stream",
     "text": [
      "ROBERTA BASED\n",
      "F1: 0.6033519553072626\n",
      "Recall: 0.6303501945525292\n",
      "Precision: 0.5785714285714286\n"
     ]
    }
   ],
   "source": [
    "preds_roberta_val = np.load('predictions/preds_roberta_val.npy')\n",
    "\n",
    "print(\"ROBERTA BASED\")\n",
    "print(\"F1: {}\".format(f1_score(true_val, preds_roberta_val, pos_label=1)))\n",
    "print(\"Recall: {}\".format(recall_score(true_val, preds_roberta_val, pos_label=1)))\n",
    "print(\"Precision: {}\".format(precision_score(true_val, preds_roberta_val, pos_label=1)))"
   ]
  },
  {
   "cell_type": "code",
   "execution_count": 5,
   "id": "aa8d99a6-dec9-41e8-82b5-b91d00de8f18",
   "metadata": {},
   "outputs": [
    {
     "name": "stdout",
     "output_type": "stream",
     "text": [
      "BERT BASE CASED\n",
      "F1: 0.5595667870036101\n",
      "Recall: 0.603112840466926\n",
      "Precision: 0.5218855218855218\n"
     ]
    }
   ],
   "source": [
    "preds_bert_base_cased = np.load('predictions/preds_bert_cased_val.npy')\n",
    "\n",
    "print(\"BERT BASE CASED\")\n",
    "print(\"F1: {}\".format(f1_score(true_val, preds_bert_base_cased, pos_label=1)))\n",
    "print(\"Recall: {}\".format(recall_score(true_val, preds_bert_base_cased, pos_label=1)))\n",
    "print(\"Precision: {}\".format(precision_score(true_val, preds_bert_base_cased, pos_label=1)))"
   ]
  },
  {
   "cell_type": "code",
   "execution_count": 6,
   "id": "e63e26ed-066d-4c66-b700-1b33c6d89130",
   "metadata": {},
   "outputs": [
    {
     "name": "stdout",
     "output_type": "stream",
     "text": [
      "BERT BASE UNCASED\n",
      "F1: 0.5619834710743802\n",
      "Recall: 0.5291828793774319\n",
      "Precision: 0.5991189427312775\n"
     ]
    }
   ],
   "source": [
    "preds_bert_base_uncased = np.load('predictions/preds_bert_uncased_val.npy')\n",
    "\n",
    "print(\"BERT BASE UNCASED\")\n",
    "print(\"F1: {}\".format(f1_score(true_val, preds_bert_base_uncased, pos_label=1)))\n",
    "print(\"Recall: {}\".format(recall_score(true_val, preds_bert_base_uncased, pos_label=1)))\n",
    "print(\"Precision: {}\".format(precision_score(true_val, preds_bert_base_uncased, pos_label=1)))"
   ]
  },
  {
   "cell_type": "code",
   "execution_count": 7,
   "id": "8e80cdf0-98df-4792-909a-50f59cdcef7e",
   "metadata": {},
   "outputs": [
    {
     "name": "stdout",
     "output_type": "stream",
     "text": [
      "OR ENSEMBLE OF ROBERT AND BERT CASED\n",
      "F1: 0.588957055214724\n",
      "Recall: 0.7470817120622568\n",
      "Precision: 0.4860759493670886\n"
     ]
    }
   ],
   "source": [
    "or_ensemble = np.int8(np.logical_or(preds_bert_base_cased, preds_roberta_val))\n",
    "\n",
    "print(\"OR ENSEMBLE OF ROBERT AND BERT CASED\")\n",
    "print(\"F1: {}\".format(f1_score(true_val, or_ensemble, pos_label=1)))\n",
    "print(\"Recall: {}\".format(recall_score(true_val, or_ensemble, pos_label=1)))\n",
    "print(\"Precision: {}\".format(precision_score(true_val, or_ensemble, pos_label=1)))"
   ]
  },
  {
   "cell_type": "code",
   "execution_count": 8,
   "id": "f613e72a-ea59-4173-88c8-1358eade9184",
   "metadata": {},
   "outputs": [
    {
     "name": "stdout",
     "output_type": "stream",
     "text": [
      "OR ENSEMBLE OF ROBERT AND BERT UNCASED\n",
      "F1: 0.584070796460177\n",
      "Recall: 0.7704280155642024\n",
      "Precision: 0.47030878859857483\n"
     ]
    }
   ],
   "source": [
    "val_or_ensemble = np.int8((preds_bert_base_uncased + preds_roberta_val + preds_bert_base_cased) > 0)\n",
    "\n",
    "print(\"OR ENSEMBLE OF ROBERT AND BERT UNCASED\")\n",
    "print(\"F1: {}\".format(f1_score(true_val, val_or_ensemble, pos_label=1)))\n",
    "print(\"Recall: {}\".format(recall_score(true_val, val_or_ensemble, pos_label=1)))\n",
    "print(\"Precision: {}\".format(precision_score(true_val, val_or_ensemble, pos_label=1)))"
   ]
  },
  {
   "cell_type": "code",
   "execution_count": 9,
   "id": "057ef27f-7263-4b96-9856-bf5b98ca9cce",
   "metadata": {},
   "outputs": [
    {
     "name": "stdout",
     "output_type": "stream",
     "text": [
      "MAJORITY VOTE ENSEMBLE OF ALL THREE\n",
      "F1: 0.5952380952380952\n",
      "Recall: 0.5836575875486382\n",
      "Precision: 0.6072874493927125\n"
     ]
    }
   ],
   "source": [
    "val_majority_vote_ensemble = np.int8((preds_bert_base_uncased + preds_roberta_val + preds_bert_base_cased) > 1)\n",
    "\n",
    "print(\"MAJORITY VOTE ENSEMBLE OF ALL THREE\")\n",
    "print(\"F1: {}\".format(f1_score(true_val, val_majority_vote_ensemble, pos_label=1)))\n",
    "print(\"Recall: {}\".format(recall_score(true_val, val_majority_vote_ensemble, pos_label=1)))\n",
    "print(\"Precision: {}\".format(precision_score(true_val, val_majority_vote_ensemble, pos_label=1)))"
   ]
  },
  {
   "cell_type": "code",
   "execution_count": 10,
   "id": "33669ed3-8528-491e-9e15-251607329c37",
   "metadata": {},
   "outputs": [
    {
     "name": "stdout",
     "output_type": "stream",
     "text": [
      "MAJORITY VOTE ENSEMBLE OF ALL THREE\n",
      "F1: 0.5570175438596491\n",
      "Recall: 0.49416342412451364\n",
      "Precision: 0.6381909547738693\n"
     ]
    }
   ],
   "source": [
    "val_logistic_regression = np.load('predictions/val_logistic_regression.npy')\n",
    "majority_vote_ensemble = np.int8((val_logistic_regression + preds_bert_base_uncased + preds_roberta_val + preds_bert_base_cased) > 2)\n",
    "\n",
    "print(\"MAJORITY VOTE ENSEMBLE OF ALL THREE\")\n",
    "print(\"F1: {}\".format(f1_score(true_val, majority_vote_ensemble, pos_label=1)))\n",
    "print(\"Recall: {}\".format(recall_score(true_val, majority_vote_ensemble, pos_label=1)))\n",
    "print(\"Precision: {}\".format(precision_score(true_val, majority_vote_ensemble, pos_label=1)))"
   ]
  },
  {
   "cell_type": "markdown",
   "id": "f61c64ed-d7f5-42ba-8298-c2ea501fa311",
   "metadata": {},
   "source": [
    "### Get metrics TEST"
   ]
  },
  {
   "cell_type": "code",
   "execution_count": 11,
   "id": "7165c6ae-c99f-4d11-9a97-ecc1cae8d742",
   "metadata": {},
   "outputs": [],
   "source": [
    "true_test = np.load('predictions/true_test.npy')"
   ]
  },
  {
   "cell_type": "code",
   "execution_count": 12,
   "id": "4b4d5d21-1728-4975-82cd-42e78b1dcbca",
   "metadata": {},
   "outputs": [
    {
     "name": "stdout",
     "output_type": "stream",
     "text": [
      "ROBERTA BASED\n",
      "F1: 0.5213270142180095\n",
      "Recall: 0.5527638190954773\n",
      "Precision: 0.49327354260089684\n"
     ]
    }
   ],
   "source": [
    "preds_roberta_test = np.load('predictions/preds_roberta_test.npy')\n",
    "\n",
    "print(\"ROBERTA BASED\")\n",
    "print(\"F1: {}\".format(f1_score(true_test, preds_roberta_test, pos_label=1)))\n",
    "print(\"Recall: {}\".format(recall_score(true_test, preds_roberta_test, pos_label=1)))\n",
    "print(\"Precision: {}\".format(precision_score(true_test, preds_roberta_test, pos_label=1)))"
   ]
  },
  {
   "cell_type": "code",
   "execution_count": 13,
   "id": "8a51394c-1c43-4a2d-9506-27bc9e95df69",
   "metadata": {},
   "outputs": [
    {
     "name": "stdout",
     "output_type": "stream",
     "text": [
      "BERT BASE CASED\n",
      "F1: 0.5092592592592593\n",
      "Recall: 0.5527638190954773\n",
      "Precision: 0.4721030042918455\n"
     ]
    }
   ],
   "source": [
    "preds_bert_cased_test = np.load('predictions/preds_bert_cased_test.npy')\n",
    "\n",
    "print(\"BERT BASE CASED\")\n",
    "print(\"F1: {}\".format(f1_score(true_test, preds_bert_cased_test, pos_label=1)))\n",
    "print(\"Recall: {}\".format(recall_score(true_test, preds_bert_cased_test, pos_label=1)))\n",
    "print(\"Precision: {}\".format(precision_score(true_test, preds_bert_cased_test, pos_label=1)))"
   ]
  },
  {
   "cell_type": "code",
   "execution_count": 14,
   "id": "86761ca5-83cf-4831-8b45-a8759561e49d",
   "metadata": {},
   "outputs": [
    {
     "name": "stdout",
     "output_type": "stream",
     "text": [
      "BERT BASE CASED\n",
      "F1: 0.48346055979643765\n",
      "Recall: 0.47738693467336685\n",
      "Precision: 0.4896907216494845\n"
     ]
    }
   ],
   "source": [
    "preds_bert_uncased_test = np.load('predictions/preds_bert_uncased_test.npy')\n",
    "\n",
    "print(\"BERT BASE CASED\")\n",
    "print(\"F1: {}\".format(f1_score(true_test, preds_bert_uncased_test, pos_label=1)))\n",
    "print(\"Recall: {}\".format(recall_score(true_test, preds_bert_uncased_test, pos_label=1)))\n",
    "print(\"Precision: {}\".format(precision_score(true_test, preds_bert_uncased_test, pos_label=1)))"
   ]
  },
  {
   "cell_type": "code",
   "execution_count": 21,
   "id": "77fedcae-4551-409d-a771-8ef762184a38",
   "metadata": {},
   "outputs": [
    {
     "name": "stdout",
     "output_type": "stream",
     "text": [
      "MAJORITY VOTE ENSEMBLE OF ALL THREE\n",
      "F1: 0.5279187817258884\n",
      "Recall: 0.5226130653266332\n",
      "Precision: 0.5333333333333333\n"
     ]
    }
   ],
   "source": [
    "test_majority_vote_ensemble = np.int8((preds_bert_uncased_test + preds_roberta_test + preds_bert_cased_test) > 1)\n",
    "\n",
    "print(\"MAJORITY VOTE ENSEMBLE OF ALL THREE\")\n",
    "print(\"F1: {}\".format(f1_score(true_test, test_majority_vote_ensemble, pos_label=1)))\n",
    "print(\"Recall: {}\".format(recall_score(true_test, test_majority_vote_ensemble, pos_label=1)))\n",
    "print(\"Precision: {}\".format(precision_score(true_test, test_majority_vote_ensemble, pos_label=1)))"
   ]
  },
  {
   "cell_type": "markdown",
   "id": "76e9dbd0-c1ac-43de-8cab-7f1f974320c0",
   "metadata": {},
   "source": [
    "### SAVE MAJORITY ENSEMBLE AS .txt"
   ]
  },
  {
   "cell_type": "code",
   "execution_count": 24,
   "id": "4e6f6075-35c5-4563-b1d9-ffd6459d859b",
   "metadata": {},
   "outputs": [],
   "source": [
    "np.savetxt('dev.txt', np.int32(test_majority_vote_ensemble), fmt='%d')"
   ]
  },
  {
   "cell_type": "code",
   "execution_count": 16,
   "id": "991f19d1-3c71-4e49-863c-1f13c2e128f9",
   "metadata": {},
   "outputs": [
    {
     "name": "stdout",
     "output_type": "stream",
     "text": [
      "MAJORITY VOTE ENSEMBLE OF ALL THREE\n",
      "F1: 0.5171790235081374\n",
      "Recall: 0.7185929648241206\n",
      "Precision: 0.403954802259887\n"
     ]
    }
   ],
   "source": [
    "test_or_ensemble = np.int8((preds_bert_uncased_test + preds_roberta_test + preds_bert_cased_test) > 0)\n",
    "\n",
    "\n",
    "print(\"MAJORITY VOTE ENSEMBLE OF ALL THREE\")\n",
    "print(\"F1: {}\".format(f1_score(true_test, test_or_ensemble, pos_label=1)))\n",
    "print(\"Recall: {}\".format(recall_score(true_test, test_or_ensemble, pos_label=1)))\n",
    "print(\"Precision: {}\".format(precision_score(true_test, test_or_ensemble, pos_label=1)))"
   ]
  },
  {
   "cell_type": "markdown",
   "id": "a17c42d2-fbe6-4d95-afa4-7f64f7cb539a",
   "metadata": {},
   "source": [
    "### Plotting"
   ]
  },
  {
   "cell_type": "code",
   "execution_count": 17,
   "id": "270e9cfd-5c4d-4649-a38f-c9593eac10e1",
   "metadata": {},
   "outputs": [],
   "source": [
    "import matplotlib.pyplot as plt"
   ]
  },
  {
   "cell_type": "code",
   "execution_count": 18,
   "id": "0a47c4cf-028f-43fa-89c2-714a3816138b",
   "metadata": {},
   "outputs": [],
   "source": [
    "model_labels = [\n",
    "    'RoBERTa',\n",
    "    'BERT\\n- UNCASED',\n",
    "    'BERT\\n- CASED',\n",
    "    'ENSEMBLE\\n- MAJORITY',\n",
    "    'ENSEMBLE\\n- OR GATE'\n",
    "    ]\n",
    "\n",
    "f1_results_val = [\n",
    "    f1_score(true_val, preds_roberta_val, pos_label=1),\n",
    "    f1_score(true_val, preds_bert_base_uncased, pos_label=1),\n",
    "    f1_score(true_val, preds_bert_base_cased, pos_label=1),\n",
    "    f1_score(true_val, val_or_ensemble, pos_label=1),\n",
    "    f1_score(true_val, val_majority_vote_ensemble, pos_label=1)\n",
    "    ]\n",
    "\n",
    "f1_results_test = [\n",
    "    f1_score(true_test, preds_roberta_test, pos_label=1),\n",
    "    f1_score(true_test, preds_bert_cased_test, pos_label=1),\n",
    "    f1_score(true_test, preds_bert_cased_test, pos_label=1),\n",
    "    f1_score(true_test, test_majority_vote_ensemble, pos_label=1),\n",
    "    f1_score(true_test, test_or_ensemble, pos_label=1),\n",
    "    ]"
   ]
  },
  {
   "cell_type": "code",
   "execution_count": 103,
   "id": "b1ed3787-c752-409d-baa2-b8c19e3faae1",
   "metadata": {},
   "outputs": [
    {
     "data": {
      "image/png": "[encoded data removed]",
      "text/plain": [
       "<Figure size 640x480 with 1 Axes>"
      ]
     },
     "metadata": {},
     "output_type": "display_data"
    }
   ],
   "source": [
    "alpha = 0.5\n",
    "\n",
    "x = np.arange(len(model_labels))  # the label locations\n",
    "width = 0.45  # the width of the bars\n",
    "\n",
    "fig, ax = plt.subplots()\n",
    "rects1 = ax.bar(x - width/2, f1_results_val, width, label='Validation', color='blue', alpha = alpha)\n",
    "rects2 = ax.bar(x + width/2, f1_results_test, width, label='Test', color='red', alpha = alpha)\n",
    "\n",
    "# Add some text for labels, title and custom x-axis tick labels, etc.\n",
    "ax.set_xlabel('Models')\n",
    "ax.set_ylabel('F1 Scores')\n",
    "ax.set_xticks(x)\n",
    "ax.set_xticklabels(model_labels)\n",
    "ax.legend()\n",
    "\n",
    "# Set grid\n",
    "ax.set_axisbelow(True)\n",
    "ax.yaxis.grid(color='gray', linestyle='dashed')\n",
    "\n",
    "fig.tight_layout()\n",
    "\n",
    "plt.ylim(0.4, 0.65)\n",
    "\n",
    "\n",
    "\n",
    "plt.xticks(rotation=45)\n",
    "\n",
    "plt.savefig('figs/model_comparisons.png', bbox_inches='tight' )\n",
    "\n",
    "plt.show()"
   ]
  },
  {
   "cell_type": "code",
   "execution_count": null,
   "id": "5a8911e4-60db-4c8b-a027-c53d44c93457",
   "metadata": {},
   "outputs": [],
   "source": []
  },
  {
   "cell_type": "code",
   "execution_count": null,
   "id": "53e7cc18-93bf-4afb-b605-e5bf4d8192c3",
   "metadata": {},
   "outputs": [],
   "source": []
  }
 ],
 "metadata": {
  "kernelspec": {
   "display_name": "Python 3 (ipykernel)",
   "language": "python",
   "name": "python3"
  },
  "language_info": {
   "codemirror_mode": {
    "name": "ipython",
    "version": 3
   },
   "file_extension": ".py",
   "mimetype": "text/x-python",
   "name": "python",
   "nbconvert_exporter": "python",
   "pygments_lexer": "ipython3",
   "version": "3.10.12"
  }
 },
 "nbformat": 4,
 "nbformat_minor": 5
}
